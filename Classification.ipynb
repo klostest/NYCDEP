{
 "cells": [
  {
   "cell_type": "markdown",
   "metadata": {},
   "source": [
    "# A real-time combined sewer overflow (CSO) and pathogen warning system"
   ]
  },
  {
   "cell_type": "markdown",
   "metadata": {},
   "source": [
    "## Stephen Klosterman\n",
    "\n",
    "This consulting project for the 2017B session of the Insight Remote Data Science Fellows Program was conducted for the \n",
    "New York City Department of Environmental Protection (NYC DEP).  The goal is to inform a real-time warning system about when CSOs are happening, and when bacterial pathogen concentrations in public waterways are likely to be above concerning threshold levels.\n",
    "\n",
    "*(Link to explanation of CSOs, federal regulations)*\n",
    "\n",
    "The input data for the warning system are hourly rainfall measurements from the JFK Airport. *(Possibly other weather data available in real time)* .  The goals for the warning system are to\n",
    "\n",
    "1.  Inform people of when CSO events are happening\n",
    "2.  Inform them of when waterway pathogen concentrations are above threshold levels\n",
    "\n",
    "The data for the project are hourly rainfall data from JFK airport for the period 2002-2012, as well as model outputs for CSO flows and waterway pathogen concentrations.  The CSO and pathogen models are not feasible to run in real time because not all of their inputs are available in real time.  Therefore the NYC DEP requires a regression, or other algorithmic, approach to predicting CSO flows and pathogen concentrations, using only real-time weather data as input.  NYC DEP has baseline regression models; I seek to create more accurate models.\n",
    "\n",
    "*(Improve this to have hyperlinks)*\n",
    "The structure of the notebook is to\n",
    "\n",
    "1.  Exploring the rainfall/CSO flow relationship\n",
    "2.  Implementing the baseline rainfall/CSO model\n",
    "3.  Develop new rainfall/CSO model, compare accuracy\n",
    "4.  Exploring the rainfall/pathogen relationship\n",
    "5.  Implementing the baseline rainfall/pathogen\n",
    "6.  Retrain rainfall/CSO model for rainfall/pathogen relationship "
   ]
  },
  {
   "cell_type": "code",
   "execution_count": 98,
   "metadata": {
    "collapsed": false
   },
   "outputs": [],
   "source": [
    "#Import libraries\n",
    "import pandas as pd\n",
    "import numpy as np\n",
    "import datetime\n",
    "import statsmodels.api as sm\n",
    "import sklearn\n",
    "import matplotlib.pyplot as plt\n",
    "import matplotlib as mpl\n",
    "%matplotlib inline"
   ]
  },
  {
   "cell_type": "markdown",
   "metadata": {
    "collapsed": true
   },
   "source": [
    "## 1. Explore rainfall/CSO relationship"
   ]
  },
  {
   "cell_type": "markdown",
   "metadata": {},
   "source": [
    "First I load the data into a Pandas data frame, then format it for plotting"
   ]
  },
  {
   "cell_type": "code",
   "execution_count": 99,
   "metadata": {
    "collapsed": false
   },
   "outputs": [],
   "source": [
    "#Load the data.\n",
    "path = './data/'\n",
    "\n",
    "# #Takes ~ 1 minute to load spreadsheet\n",
    "# fname = 'ci2002_2011pathogenLOADand2008nutrient_carbonLOAD_20170517D.xlsx'\n",
    "# rain_cso_df = pd.read_excel(path + fname, sheetname='Outfall_pathogenLoad_part1', header=3, \\\n",
    "#                     index_col=2)\n",
    "\n",
    "#Save time by saving/loading pickle\n",
    "# rain_cso_df.to_pickle(path + 'rain_cso_df.pkl')\n",
    "\n",
    "rain_cso_df = pd.read_pickle(path + 'rain_cso_df.pkl')"
   ]
  },
  {
   "cell_type": "code",
   "execution_count": 100,
   "metadata": {
    "collapsed": false
   },
   "outputs": [
    {
     "data": {
      "text/html": [
       "<div>\n",
       "<style>\n",
       "    .dataframe thead tr:only-child th {\n",
       "        text-align: right;\n",
       "    }\n",
       "\n",
       "    .dataframe thead th {\n",
       "        text-align: left;\n",
       "    }\n",
       "\n",
       "    .dataframe tbody tr th {\n",
       "        vertical-align: top;\n",
       "    }\n",
       "</style>\n",
       "<table border=\"1\" class=\"dataframe\">\n",
       "  <thead>\n",
       "    <tr style=\"text-align: right;\">\n",
       "      <th></th>\n",
       "      <th>Station ID</th>\n",
       "      <th>Year</th>\n",
       "      <th>Fecal Coliform</th>\n",
       "      <th>Enterococcus</th>\n",
       "      <th>(in/hr)</th>\n",
       "      <th>(MG/Hour)</th>\n",
       "    </tr>\n",
       "    <tr>\n",
       "      <th>(day)</th>\n",
       "      <th></th>\n",
       "      <th></th>\n",
       "      <th></th>\n",
       "      <th></th>\n",
       "      <th></th>\n",
       "      <th></th>\n",
       "    </tr>\n",
       "  </thead>\n",
       "  <tbody>\n",
       "    <tr>\n",
       "      <th>0.00000</th>\n",
       "      <td>OH-21C</td>\n",
       "      <td>2002</td>\n",
       "      <td>0.0</td>\n",
       "      <td>0.0</td>\n",
       "      <td>0.0</td>\n",
       "      <td>0.0</td>\n",
       "    </tr>\n",
       "    <tr>\n",
       "      <th>0.04167</th>\n",
       "      <td>OH-21C</td>\n",
       "      <td>2002</td>\n",
       "      <td>0.0</td>\n",
       "      <td>0.0</td>\n",
       "      <td>0.0</td>\n",
       "      <td>0.0</td>\n",
       "    </tr>\n",
       "    <tr>\n",
       "      <th>0.08333</th>\n",
       "      <td>OH-21C</td>\n",
       "      <td>2002</td>\n",
       "      <td>0.0</td>\n",
       "      <td>0.0</td>\n",
       "      <td>0.0</td>\n",
       "      <td>0.0</td>\n",
       "    </tr>\n",
       "    <tr>\n",
       "      <th>0.12500</th>\n",
       "      <td>OH-21C</td>\n",
       "      <td>2002</td>\n",
       "      <td>0.0</td>\n",
       "      <td>0.0</td>\n",
       "      <td>0.0</td>\n",
       "      <td>0.0</td>\n",
       "    </tr>\n",
       "    <tr>\n",
       "      <th>0.16667</th>\n",
       "      <td>OH-21C</td>\n",
       "      <td>2002</td>\n",
       "      <td>0.0</td>\n",
       "      <td>0.0</td>\n",
       "      <td>0.0</td>\n",
       "      <td>0.0</td>\n",
       "    </tr>\n",
       "  </tbody>\n",
       "</table>\n",
       "</div>"
      ],
      "text/plain": [
       "        Station ID  Year  Fecal Coliform  Enterococcus  (in/hr)  (MG/Hour)\n",
       "(day)                                                                     \n",
       "0.00000     OH-21C  2002             0.0           0.0      0.0        0.0\n",
       "0.04167     OH-21C  2002             0.0           0.0      0.0        0.0\n",
       "0.08333     OH-21C  2002             0.0           0.0      0.0        0.0\n",
       "0.12500     OH-21C  2002             0.0           0.0      0.0        0.0\n",
       "0.16667     OH-21C  2002             0.0           0.0      0.0        0.0"
      ]
     },
     "execution_count": 100,
     "metadata": {},
     "output_type": "execute_result"
    }
   ],
   "source": [
    "#What does it look like?\n",
    "rain_cso_df.head()"
   ]
  },
  {
   "cell_type": "markdown",
   "metadata": {},
   "source": [
    "The variables of interest are (in/hr), which is rain fall in inches/hr, and (MG/Hour) which is outflow from the CSOs in millions of gallons per hour. (*Confirm this*).  The pathogens here, Fecal Coliform and Enterococcus, are estimates of the discharge from the CSO, not the waterway concentrations I'm utlimately interested in.\n",
    "\n",
    "The first step is to break out the data from different stations."
   ]
  },
  {
   "cell_type": "code",
   "execution_count": 101,
   "metadata": {
    "collapsed": false
   },
   "outputs": [
    {
     "data": {
      "text/plain": [
       "array([u'CI-601', u'CI-602', u'OH-015', u'OH-21C', u'OH-21S', u'OH-875'], dtype=object)"
      ]
     },
     "execution_count": 101,
     "metadata": {},
     "output_type": "execute_result"
    }
   ],
   "source": [
    "#Unique station IDs in the data set... there are only two CSOs we are concerned with\n",
    "np.unique(rain_cso_df['Station ID'])"
   ]
  },
  {
   "cell_type": "code",
   "execution_count": 102,
   "metadata": {
    "collapsed": false
   },
   "outputs": [
    {
     "data": {
      "text/plain": [
       "(525888, 6)"
      ]
     },
     "execution_count": 102,
     "metadata": {},
     "output_type": "execute_result"
    }
   ],
   "source": [
    "rain_cso_df.shape"
   ]
  },
  {
   "cell_type": "markdown",
   "metadata": {},
   "source": [
    "*Probably the optimal way to do this is to actually make two columns in this dataframe for the two CSOs, if all the times are the same, and then add in all the water quality data to the same dataframe... the times are the same, so this seems the way to go.  Rainfalls are also the same, so this only needs done once as well*"
   ]
  },
  {
   "cell_type": "code",
   "execution_count": 103,
   "metadata": {
    "collapsed": false
   },
   "outputs": [],
   "source": [
    "#Start off dataframe by subsetting to only one of the repetitions of the year series\n",
    "cso_qual_df = rain_cso_df.filter(['Year'])\n",
    "mask = rain_cso_df['Station ID'].isin(['CI-601'])\n",
    "cso_qual_df = cso_qual_df[mask]\n",
    "\n",
    "cso_qual_df['CSO 1, MG/hr'] = rain_cso_df[rain_cso_df['Station ID'].isin(['OH-015'])]['(MG/Hour)']\n",
    "cso_qual_df['CSO 2, MG/hr'] = rain_cso_df[rain_cso_df['Station ID'].isin(['OH-21C'])]['(MG/Hour)']\n",
    "cso_qual_df['Rain, in/hr'] = rain_cso_df[rain_cso_df['Station ID'].isin(['CI-602'])]['(in/hr)']"
   ]
  },
  {
   "cell_type": "code",
   "execution_count": 104,
   "metadata": {
    "collapsed": false
   },
   "outputs": [
    {
     "data": {
      "text/plain": [
       "(87648, 4)"
      ]
     },
     "execution_count": 104,
     "metadata": {},
     "output_type": "execute_result"
    }
   ],
   "source": [
    "cso_qual_df.shape"
   ]
  },
  {
   "cell_type": "markdown",
   "metadata": {},
   "source": [
    "Explore effect of converting array to logical for prediction; is CSO volume >0 or not?"
   ]
  },
  {
   "cell_type": "code",
   "execution_count": 105,
   "metadata": {
    "collapsed": false
   },
   "outputs": [
    {
     "data": {
      "text/plain": [
       "16915"
      ]
     },
     "execution_count": 105,
     "metadata": {},
     "output_type": "execute_result"
    }
   ],
   "source": [
    "np.sum(cso_qual_df['CSO 1, MG/hr']>0)"
   ]
  },
  {
   "cell_type": "code",
   "execution_count": 106,
   "metadata": {
    "collapsed": false
   },
   "outputs": [
    {
     "data": {
      "text/plain": [
       "70733"
      ]
     },
     "execution_count": 106,
     "metadata": {},
     "output_type": "execute_result"
    }
   ],
   "source": [
    "np.sum(cso_qual_df['CSO 1, MG/hr']==0)"
   ]
  },
  {
   "cell_type": "markdown",
   "metadata": {},
   "source": [
    "These are unbalanced; *may require action*"
   ]
  },
  {
   "cell_type": "code",
   "execution_count": 107,
   "metadata": {
    "collapsed": false
   },
   "outputs": [],
   "source": [
    "#Create array of datetime objects to use in dataframe index, and for plotting\n",
    "#Include rounding of days for whole number hours\n",
    "\n",
    "helper = np.vectorize(lambda x: datetime.timedelta(hours=x))\n",
    "start_day = datetime.datetime(2002, 1, 1)\n",
    "#Change index to hours from days and round to whole hours\n",
    "cso_qual_df.index = np.round(cso_qual_df.index.values*24.)\n",
    "time_array = helper(cso_qual_df.index) + start_day\n",
    "cso_qual_df.index = time_array"
   ]
  },
  {
   "cell_type": "code",
   "execution_count": 108,
   "metadata": {
    "collapsed": false
   },
   "outputs": [
    {
     "data": {
      "text/html": [
       "<div>\n",
       "<style>\n",
       "    .dataframe thead tr:only-child th {\n",
       "        text-align: right;\n",
       "    }\n",
       "\n",
       "    .dataframe thead th {\n",
       "        text-align: left;\n",
       "    }\n",
       "\n",
       "    .dataframe tbody tr th {\n",
       "        vertical-align: top;\n",
       "    }\n",
       "</style>\n",
       "<table border=\"1\" class=\"dataframe\">\n",
       "  <thead>\n",
       "    <tr style=\"text-align: right;\">\n",
       "      <th></th>\n",
       "      <th>Year</th>\n",
       "      <th>CSO 1, MG/hr</th>\n",
       "      <th>CSO 2, MG/hr</th>\n",
       "      <th>Rain, in/hr</th>\n",
       "    </tr>\n",
       "  </thead>\n",
       "  <tbody>\n",
       "    <tr>\n",
       "      <th>2002-01-01 00:00:00</th>\n",
       "      <td>2002</td>\n",
       "      <td>0.0</td>\n",
       "      <td>0.0</td>\n",
       "      <td>0.0</td>\n",
       "    </tr>\n",
       "    <tr>\n",
       "      <th>2002-01-01 01:00:00</th>\n",
       "      <td>2002</td>\n",
       "      <td>0.0</td>\n",
       "      <td>0.0</td>\n",
       "      <td>0.0</td>\n",
       "    </tr>\n",
       "    <tr>\n",
       "      <th>2002-01-01 02:00:00</th>\n",
       "      <td>2002</td>\n",
       "      <td>0.0</td>\n",
       "      <td>0.0</td>\n",
       "      <td>0.0</td>\n",
       "    </tr>\n",
       "    <tr>\n",
       "      <th>2002-01-01 03:00:00</th>\n",
       "      <td>2002</td>\n",
       "      <td>0.0</td>\n",
       "      <td>0.0</td>\n",
       "      <td>0.0</td>\n",
       "    </tr>\n",
       "    <tr>\n",
       "      <th>2002-01-01 04:00:00</th>\n",
       "      <td>2002</td>\n",
       "      <td>0.0</td>\n",
       "      <td>0.0</td>\n",
       "      <td>0.0</td>\n",
       "    </tr>\n",
       "  </tbody>\n",
       "</table>\n",
       "</div>"
      ],
      "text/plain": [
       "                     Year  CSO 1, MG/hr  CSO 2, MG/hr  Rain, in/hr\n",
       "2002-01-01 00:00:00  2002           0.0           0.0          0.0\n",
       "2002-01-01 01:00:00  2002           0.0           0.0          0.0\n",
       "2002-01-01 02:00:00  2002           0.0           0.0          0.0\n",
       "2002-01-01 03:00:00  2002           0.0           0.0          0.0\n",
       "2002-01-01 04:00:00  2002           0.0           0.0          0.0"
      ]
     },
     "execution_count": 108,
     "metadata": {},
     "output_type": "execute_result"
    }
   ],
   "source": [
    "cso_qual_df.head()"
   ]
  },
  {
   "cell_type": "markdown",
   "metadata": {},
   "source": [
    "Now that I've got the data separated into dataframes for each CSO, I do some exploratory visualization.  First, how often do overflows from the CSOs occur?  I plot the time series of CSO overflows for all ten years."
   ]
  },
  {
   "cell_type": "code",
   "execution_count": 109,
   "metadata": {
    "collapsed": false
   },
   "outputs": [
    {
     "data": {
      "text/plain": [
       "<matplotlib.text.Text at 0x1211b6550>"
      ]
     },
     "execution_count": 109,
     "metadata": {},
     "output_type": "execute_result"
    },
    {
     "data": {
      "image/png": "[encoded data removed]",
      "text/plain": [
       "<matplotlib.figure.Figure at 0x122a1f410>"
      ]
     },
     "metadata": {},
     "output_type": "display_data"
    }
   ],
   "source": [
    "#Visualize CSO flow over time across the ten years\n",
    "#Plots of CSO outflow over time for both CSOs\n",
    "plt.subplot(211)\n",
    "plt.plot(time_array, cso_qual_df['CSO 1, MG/hr'])\n",
    "plt.title('CSO 1, MG/hr')\n",
    "plt.xticks([]);\n",
    "plt.subplot(212)\n",
    "plt.plot(time_array, cso_qual_df['CSO 2, MG/hr'])\n",
    "plt.title('CSO 2, MG/hr')"
   ]
  },
  {
   "cell_type": "markdown",
   "metadata": {},
   "source": [
    "The CSOs both appear to overflow on a regular basis over the 10 years.  They overflow at similar times, but the magnitudes are larger in the first one.  I take a closer look, at a two day period, of both CSO flow and rainfall for the second one:"
   ]
  },
  {
   "cell_type": "code",
   "execution_count": 110,
   "metadata": {
    "collapsed": true
   },
   "outputs": [],
   "source": [
    "#Mask time series for closer look at data\n",
    "plot_index = 0 #0 or 1 for either CSO\n",
    "\n",
    "#Begin and end times for mask\n",
    "mask_start_time = datetime.datetime(2011, 8, 27)\n",
    "mask_end_time = datetime.datetime(2011, 8, 29)\n",
    "\n",
    "#Vectorized way to apply test to every item of the list for a mask array\n",
    "mask_series = np.vectorize(lambda testday, begin, stop: (testday >= begin) & (testday <= stop))\n",
    "mask = mask_series(time_array, mask_start_time, mask_end_time)"
   ]
  },
  {
   "cell_type": "code",
   "execution_count": 111,
   "metadata": {
    "collapsed": false
   },
   "outputs": [
    {
     "data": {
      "image/png": "[encoded data removed]",
      "text/plain": [
       "<matplotlib.figure.Figure at 0x1232c0e50>"
      ]
     },
     "metadata": {},
     "output_type": "display_data"
    }
   ],
   "source": [
    "#Plot the rainfall and CSO outflow series\n",
    "\n",
    "# create the general figure\n",
    "fig1 = plt.figure()\n",
    "font_size = 14\n",
    " \n",
    "# and the first axes using subplot populated with data \n",
    "ax1 = fig1.add_subplot(111)\n",
    "line1 = ax1.plot(time_array[mask], \\\n",
    "                 cso_qual_df['Rain, in/hr'][mask], 'bx')\n",
    "plt.ylabel(\"Rainfall at JFK (inches/hour)\", fontsize=font_size)\n",
    " \n",
    "# now, the second axes that shares the x-axis with the ax1\n",
    "ax2 = fig1.add_subplot(111, sharex=ax1, frameon=False)\n",
    "line2 = ax2.plot(time_array[mask], \\\n",
    "                 cso_qual_df['CSO 1, MG/hr'][mask], 'rx')\n",
    "ax2.yaxis.tick_right()\n",
    "ax2.yaxis.set_label_position(\"right\")\n",
    "plt.ylabel(\"CSO outflow (MG/hour)\", fontsize=font_size)\n",
    "\n",
    "#Adjust tick labels\n",
    "labels = ax1.get_xticklabels()\n",
    "plt.setp(labels, rotation=90, fontsize=font_size)\n",
    "labels = ax2.get_xticklabels()\n",
    "plt.setp(labels, rotation=90, fontsize=font_size)\n",
    "ax1.tick_params(labelsize=font_size)\n",
    "\n",
    "#Make legend using proxy artist\n",
    "blue_patch = mpl.patches.Patch(color='blue', label='Rainfall')\n",
    "red_patch = mpl.patches.Patch(color='red', label='CSO outflow')\n",
    "plt.legend(handles=[blue_patch, red_patch])\n",
    "\n",
    "# plt.title(cso_names[plot_index])\n",
    "\n",
    "plt.show()"
   ]
  },
  {
   "cell_type": "markdown",
   "metadata": {},
   "source": [
    "It seems clear that rainfall events happen about the same time as overflow events.  It also looks like the overflow lasts a little while after the end of the rain event.  This makes sense because the sewer system would be full of storm water and sanitary sewage, and need some time to drain.\n",
    "\n",
    "Now to get a broader view of what the relation of rainfall to CSO outflow is, let's look at scatter plots between these two variables over the 10 year time frame for both sewers, and calculate their correlation coefficients."
   ]
  },
  {
   "cell_type": "code",
   "execution_count": 112,
   "metadata": {
    "collapsed": false
   },
   "outputs": [],
   "source": [
    "#Define a little function to plot any column against rainfall as a scatter and display\n",
    "#correlation, and use it twice\n",
    "def cso_scatter(column_name):\n",
    "    title_str = column_name + ': r = %0.2f' % \\\n",
    "          cso_qual_df['Rain, in/hr'].\\\n",
    "          corr(cso_qual_df[column_name])\n",
    "    cso_qual_df.plot.scatter(x='Rain, in/hr', y=column_name)\n",
    "    plt.title(title_str)\n",
    "    "
   ]
  },
  {
   "cell_type": "code",
   "execution_count": 113,
   "metadata": {
    "collapsed": false
   },
   "outputs": [
    {
     "data": {
      "image/png": "[encoded data removed]",
      "text/plain": [
       "<matplotlib.figure.Figure at 0x121077b50>"
      ]
     },
     "metadata": {},
     "output_type": "display_data"
    }
   ],
   "source": [
    "cso_scatter('CSO 1, MG/hr')"
   ]
  },
  {
   "cell_type": "code",
   "execution_count": 114,
   "metadata": {
    "collapsed": false
   },
   "outputs": [
    {
     "data": {
      "image/png": "[encoded data removed]",
      "text/plain": [
       "<matplotlib.figure.Figure at 0x11e654b50>"
      ]
     },
     "metadata": {},
     "output_type": "display_data"
    }
   ],
   "source": [
    "cso_scatter('CSO 2, MG/hr')"
   ]
  },
  {
   "cell_type": "markdown",
   "metadata": {},
   "source": [
    "Concurrent rainfall and CSO overflows are highly correlated.  In order to alert the public to when CSOs are happening, I could simply propose to let them know any time it was raining.  However since I saw that a CSO event could last after a rainfall event, a better approach is likely possible, using not only current, but historical rainfall data as well.  In the next section, I implement the NYC DEP's existing baseline model for this. Then in the following section, I explore another time series modeling approach.\n",
    "\n",
    "First, though, as a final data exploration step, I binarize the cso outflow data:  any time when a CSO is occurring is labeled \"1\", and when it's not occuring is labeled \"0\".  This facilitates modeling with the ultimate deliverable in mind:  a warning system for when CSOs are occurring, versus when they're not."
   ]
  },
  {
   "cell_type": "code",
   "execution_count": 115,
   "metadata": {
    "collapsed": false
   },
   "outputs": [
    {
     "data": {
      "text/plain": [
       "Index([u'Year', u'CSO 1, MG/hr', u'CSO 2, MG/hr', u'Rain, in/hr'], dtype='object')"
      ]
     },
     "execution_count": 115,
     "metadata": {},
     "output_type": "execute_result"
    }
   ],
   "source": [
    "cso_qual_df.columns"
   ]
  },
  {
   "cell_type": "code",
   "execution_count": 116,
   "metadata": {
    "collapsed": false
   },
   "outputs": [],
   "source": [
    "cso_qual_df.loc[cso_qual_df['CSO 1, MG/hr'] > 0, 'CSO 1, MG/hr'] = 1\n",
    "cso_qual_df.loc[cso_qual_df['CSO 2, MG/hr'] > 0, 'CSO 2, MG/hr'] = 1"
   ]
  },
  {
   "cell_type": "code",
   "execution_count": 117,
   "metadata": {
    "collapsed": false
   },
   "outputs": [
    {
     "data": {
      "text/html": [
       "<div>\n",
       "<style>\n",
       "    .dataframe thead tr:only-child th {\n",
       "        text-align: right;\n",
       "    }\n",
       "\n",
       "    .dataframe thead th {\n",
       "        text-align: left;\n",
       "    }\n",
       "\n",
       "    .dataframe tbody tr th {\n",
       "        vertical-align: top;\n",
       "    }\n",
       "</style>\n",
       "<table border=\"1\" class=\"dataframe\">\n",
       "  <thead>\n",
       "    <tr style=\"text-align: right;\">\n",
       "      <th></th>\n",
       "      <th>Year</th>\n",
       "      <th>CSO 1, MG/hr</th>\n",
       "      <th>CSO 2, MG/hr</th>\n",
       "      <th>Rain, in/hr</th>\n",
       "    </tr>\n",
       "  </thead>\n",
       "  <tbody>\n",
       "    <tr>\n",
       "      <th>2002-01-01 00:00:00</th>\n",
       "      <td>2002</td>\n",
       "      <td>0.0</td>\n",
       "      <td>0.0</td>\n",
       "      <td>0.00</td>\n",
       "    </tr>\n",
       "    <tr>\n",
       "      <th>2002-01-01 01:00:00</th>\n",
       "      <td>2002</td>\n",
       "      <td>0.0</td>\n",
       "      <td>0.0</td>\n",
       "      <td>0.00</td>\n",
       "    </tr>\n",
       "    <tr>\n",
       "      <th>2002-01-01 02:00:00</th>\n",
       "      <td>2002</td>\n",
       "      <td>0.0</td>\n",
       "      <td>0.0</td>\n",
       "      <td>0.00</td>\n",
       "    </tr>\n",
       "    <tr>\n",
       "      <th>2002-01-01 03:00:00</th>\n",
       "      <td>2002</td>\n",
       "      <td>0.0</td>\n",
       "      <td>0.0</td>\n",
       "      <td>0.00</td>\n",
       "    </tr>\n",
       "    <tr>\n",
       "      <th>2002-01-01 04:00:00</th>\n",
       "      <td>2002</td>\n",
       "      <td>0.0</td>\n",
       "      <td>0.0</td>\n",
       "      <td>0.00</td>\n",
       "    </tr>\n",
       "    <tr>\n",
       "      <th>2002-01-01 05:00:00</th>\n",
       "      <td>2002</td>\n",
       "      <td>0.0</td>\n",
       "      <td>0.0</td>\n",
       "      <td>0.00</td>\n",
       "    </tr>\n",
       "    <tr>\n",
       "      <th>2002-01-01 06:00:00</th>\n",
       "      <td>2002</td>\n",
       "      <td>0.0</td>\n",
       "      <td>0.0</td>\n",
       "      <td>0.00</td>\n",
       "    </tr>\n",
       "    <tr>\n",
       "      <th>2002-01-01 07:00:00</th>\n",
       "      <td>2002</td>\n",
       "      <td>0.0</td>\n",
       "      <td>0.0</td>\n",
       "      <td>0.00</td>\n",
       "    </tr>\n",
       "    <tr>\n",
       "      <th>2002-01-01 08:00:00</th>\n",
       "      <td>2002</td>\n",
       "      <td>0.0</td>\n",
       "      <td>0.0</td>\n",
       "      <td>0.00</td>\n",
       "    </tr>\n",
       "    <tr>\n",
       "      <th>2002-01-01 09:00:00</th>\n",
       "      <td>2002</td>\n",
       "      <td>0.0</td>\n",
       "      <td>0.0</td>\n",
       "      <td>0.00</td>\n",
       "    </tr>\n",
       "    <tr>\n",
       "      <th>2002-01-01 10:00:00</th>\n",
       "      <td>2002</td>\n",
       "      <td>0.0</td>\n",
       "      <td>0.0</td>\n",
       "      <td>0.00</td>\n",
       "    </tr>\n",
       "    <tr>\n",
       "      <th>2002-01-01 11:00:00</th>\n",
       "      <td>2002</td>\n",
       "      <td>0.0</td>\n",
       "      <td>0.0</td>\n",
       "      <td>0.00</td>\n",
       "    </tr>\n",
       "    <tr>\n",
       "      <th>2002-01-01 12:00:00</th>\n",
       "      <td>2002</td>\n",
       "      <td>0.0</td>\n",
       "      <td>0.0</td>\n",
       "      <td>0.00</td>\n",
       "    </tr>\n",
       "    <tr>\n",
       "      <th>2002-01-01 13:00:00</th>\n",
       "      <td>2002</td>\n",
       "      <td>0.0</td>\n",
       "      <td>0.0</td>\n",
       "      <td>0.00</td>\n",
       "    </tr>\n",
       "    <tr>\n",
       "      <th>2002-01-01 14:00:00</th>\n",
       "      <td>2002</td>\n",
       "      <td>0.0</td>\n",
       "      <td>0.0</td>\n",
       "      <td>0.00</td>\n",
       "    </tr>\n",
       "    <tr>\n",
       "      <th>2002-01-01 15:00:00</th>\n",
       "      <td>2002</td>\n",
       "      <td>0.0</td>\n",
       "      <td>0.0</td>\n",
       "      <td>0.00</td>\n",
       "    </tr>\n",
       "    <tr>\n",
       "      <th>2002-01-01 16:00:00</th>\n",
       "      <td>2002</td>\n",
       "      <td>0.0</td>\n",
       "      <td>0.0</td>\n",
       "      <td>0.00</td>\n",
       "    </tr>\n",
       "    <tr>\n",
       "      <th>2002-01-01 17:00:00</th>\n",
       "      <td>2002</td>\n",
       "      <td>0.0</td>\n",
       "      <td>0.0</td>\n",
       "      <td>0.00</td>\n",
       "    </tr>\n",
       "    <tr>\n",
       "      <th>2002-01-01 18:00:00</th>\n",
       "      <td>2002</td>\n",
       "      <td>0.0</td>\n",
       "      <td>0.0</td>\n",
       "      <td>0.00</td>\n",
       "    </tr>\n",
       "    <tr>\n",
       "      <th>2002-01-01 19:00:00</th>\n",
       "      <td>2002</td>\n",
       "      <td>0.0</td>\n",
       "      <td>0.0</td>\n",
       "      <td>0.00</td>\n",
       "    </tr>\n",
       "    <tr>\n",
       "      <th>2002-01-01 20:00:00</th>\n",
       "      <td>2002</td>\n",
       "      <td>0.0</td>\n",
       "      <td>0.0</td>\n",
       "      <td>0.00</td>\n",
       "    </tr>\n",
       "    <tr>\n",
       "      <th>2002-01-01 21:00:00</th>\n",
       "      <td>2002</td>\n",
       "      <td>0.0</td>\n",
       "      <td>0.0</td>\n",
       "      <td>0.00</td>\n",
       "    </tr>\n",
       "    <tr>\n",
       "      <th>2002-01-01 22:00:00</th>\n",
       "      <td>2002</td>\n",
       "      <td>0.0</td>\n",
       "      <td>0.0</td>\n",
       "      <td>0.00</td>\n",
       "    </tr>\n",
       "    <tr>\n",
       "      <th>2002-01-01 23:00:00</th>\n",
       "      <td>2002</td>\n",
       "      <td>0.0</td>\n",
       "      <td>0.0</td>\n",
       "      <td>0.00</td>\n",
       "    </tr>\n",
       "    <tr>\n",
       "      <th>2002-01-02 00:00:00</th>\n",
       "      <td>2002</td>\n",
       "      <td>0.0</td>\n",
       "      <td>0.0</td>\n",
       "      <td>0.00</td>\n",
       "    </tr>\n",
       "    <tr>\n",
       "      <th>2002-01-02 01:00:00</th>\n",
       "      <td>2002</td>\n",
       "      <td>0.0</td>\n",
       "      <td>0.0</td>\n",
       "      <td>0.00</td>\n",
       "    </tr>\n",
       "    <tr>\n",
       "      <th>2002-01-02 02:00:00</th>\n",
       "      <td>2002</td>\n",
       "      <td>0.0</td>\n",
       "      <td>0.0</td>\n",
       "      <td>0.00</td>\n",
       "    </tr>\n",
       "    <tr>\n",
       "      <th>2002-01-02 03:00:00</th>\n",
       "      <td>2002</td>\n",
       "      <td>0.0</td>\n",
       "      <td>0.0</td>\n",
       "      <td>0.00</td>\n",
       "    </tr>\n",
       "    <tr>\n",
       "      <th>2002-01-02 04:00:00</th>\n",
       "      <td>2002</td>\n",
       "      <td>0.0</td>\n",
       "      <td>0.0</td>\n",
       "      <td>0.00</td>\n",
       "    </tr>\n",
       "    <tr>\n",
       "      <th>2002-01-02 05:00:00</th>\n",
       "      <td>2002</td>\n",
       "      <td>0.0</td>\n",
       "      <td>0.0</td>\n",
       "      <td>0.00</td>\n",
       "    </tr>\n",
       "    <tr>\n",
       "      <th>...</th>\n",
       "      <td>...</td>\n",
       "      <td>...</td>\n",
       "      <td>...</td>\n",
       "      <td>...</td>\n",
       "    </tr>\n",
       "    <tr>\n",
       "      <th>2002-02-10 10:00:00</th>\n",
       "      <td>2002</td>\n",
       "      <td>0.0</td>\n",
       "      <td>0.0</td>\n",
       "      <td>0.00</td>\n",
       "    </tr>\n",
       "    <tr>\n",
       "      <th>2002-02-10 11:00:00</th>\n",
       "      <td>2002</td>\n",
       "      <td>0.0</td>\n",
       "      <td>0.0</td>\n",
       "      <td>0.00</td>\n",
       "    </tr>\n",
       "    <tr>\n",
       "      <th>2002-02-10 12:00:00</th>\n",
       "      <td>2002</td>\n",
       "      <td>0.0</td>\n",
       "      <td>0.0</td>\n",
       "      <td>0.00</td>\n",
       "    </tr>\n",
       "    <tr>\n",
       "      <th>2002-02-10 13:00:00</th>\n",
       "      <td>2002</td>\n",
       "      <td>0.0</td>\n",
       "      <td>0.0</td>\n",
       "      <td>0.00</td>\n",
       "    </tr>\n",
       "    <tr>\n",
       "      <th>2002-02-10 14:00:00</th>\n",
       "      <td>2002</td>\n",
       "      <td>0.0</td>\n",
       "      <td>0.0</td>\n",
       "      <td>0.00</td>\n",
       "    </tr>\n",
       "    <tr>\n",
       "      <th>2002-02-10 15:00:00</th>\n",
       "      <td>2002</td>\n",
       "      <td>0.0</td>\n",
       "      <td>0.0</td>\n",
       "      <td>0.00</td>\n",
       "    </tr>\n",
       "    <tr>\n",
       "      <th>2002-02-10 16:00:00</th>\n",
       "      <td>2002</td>\n",
       "      <td>0.0</td>\n",
       "      <td>0.0</td>\n",
       "      <td>0.00</td>\n",
       "    </tr>\n",
       "    <tr>\n",
       "      <th>2002-02-10 17:00:00</th>\n",
       "      <td>2002</td>\n",
       "      <td>1.0</td>\n",
       "      <td>0.0</td>\n",
       "      <td>0.00</td>\n",
       "    </tr>\n",
       "    <tr>\n",
       "      <th>2002-02-10 18:00:00</th>\n",
       "      <td>2002</td>\n",
       "      <td>1.0</td>\n",
       "      <td>0.0</td>\n",
       "      <td>0.01</td>\n",
       "    </tr>\n",
       "    <tr>\n",
       "      <th>2002-02-10 19:00:00</th>\n",
       "      <td>2002</td>\n",
       "      <td>1.0</td>\n",
       "      <td>0.0</td>\n",
       "      <td>0.03</td>\n",
       "    </tr>\n",
       "    <tr>\n",
       "      <th>2002-02-10 20:00:00</th>\n",
       "      <td>2002</td>\n",
       "      <td>1.0</td>\n",
       "      <td>0.0</td>\n",
       "      <td>0.01</td>\n",
       "    </tr>\n",
       "    <tr>\n",
       "      <th>2002-02-10 21:00:00</th>\n",
       "      <td>2002</td>\n",
       "      <td>1.0</td>\n",
       "      <td>0.0</td>\n",
       "      <td>0.02</td>\n",
       "    </tr>\n",
       "    <tr>\n",
       "      <th>2002-02-10 22:00:00</th>\n",
       "      <td>2002</td>\n",
       "      <td>1.0</td>\n",
       "      <td>0.0</td>\n",
       "      <td>0.16</td>\n",
       "    </tr>\n",
       "    <tr>\n",
       "      <th>2002-02-10 23:00:00</th>\n",
       "      <td>2002</td>\n",
       "      <td>1.0</td>\n",
       "      <td>0.0</td>\n",
       "      <td>0.00</td>\n",
       "    </tr>\n",
       "    <tr>\n",
       "      <th>2002-02-11 00:00:00</th>\n",
       "      <td>2002</td>\n",
       "      <td>1.0</td>\n",
       "      <td>0.0</td>\n",
       "      <td>0.06</td>\n",
       "    </tr>\n",
       "    <tr>\n",
       "      <th>2002-02-11 01:00:00</th>\n",
       "      <td>2002</td>\n",
       "      <td>1.0</td>\n",
       "      <td>0.0</td>\n",
       "      <td>0.01</td>\n",
       "    </tr>\n",
       "    <tr>\n",
       "      <th>2002-02-11 02:00:00</th>\n",
       "      <td>2002</td>\n",
       "      <td>1.0</td>\n",
       "      <td>0.0</td>\n",
       "      <td>0.00</td>\n",
       "    </tr>\n",
       "    <tr>\n",
       "      <th>2002-02-11 03:00:00</th>\n",
       "      <td>2002</td>\n",
       "      <td>1.0</td>\n",
       "      <td>0.0</td>\n",
       "      <td>0.00</td>\n",
       "    </tr>\n",
       "    <tr>\n",
       "      <th>2002-02-11 04:00:00</th>\n",
       "      <td>2002</td>\n",
       "      <td>1.0</td>\n",
       "      <td>0.0</td>\n",
       "      <td>0.00</td>\n",
       "    </tr>\n",
       "    <tr>\n",
       "      <th>2002-02-11 05:00:00</th>\n",
       "      <td>2002</td>\n",
       "      <td>1.0</td>\n",
       "      <td>0.0</td>\n",
       "      <td>0.00</td>\n",
       "    </tr>\n",
       "    <tr>\n",
       "      <th>2002-02-11 06:00:00</th>\n",
       "      <td>2002</td>\n",
       "      <td>1.0</td>\n",
       "      <td>0.0</td>\n",
       "      <td>0.00</td>\n",
       "    </tr>\n",
       "    <tr>\n",
       "      <th>2002-02-11 07:00:00</th>\n",
       "      <td>2002</td>\n",
       "      <td>1.0</td>\n",
       "      <td>0.0</td>\n",
       "      <td>0.00</td>\n",
       "    </tr>\n",
       "    <tr>\n",
       "      <th>2002-02-11 08:00:00</th>\n",
       "      <td>2002</td>\n",
       "      <td>1.0</td>\n",
       "      <td>0.0</td>\n",
       "      <td>0.00</td>\n",
       "    </tr>\n",
       "    <tr>\n",
       "      <th>2002-02-11 09:00:00</th>\n",
       "      <td>2002</td>\n",
       "      <td>1.0</td>\n",
       "      <td>0.0</td>\n",
       "      <td>0.01</td>\n",
       "    </tr>\n",
       "    <tr>\n",
       "      <th>2002-02-11 10:00:00</th>\n",
       "      <td>2002</td>\n",
       "      <td>1.0</td>\n",
       "      <td>0.0</td>\n",
       "      <td>0.00</td>\n",
       "    </tr>\n",
       "    <tr>\n",
       "      <th>2002-02-11 11:00:00</th>\n",
       "      <td>2002</td>\n",
       "      <td>1.0</td>\n",
       "      <td>0.0</td>\n",
       "      <td>0.00</td>\n",
       "    </tr>\n",
       "    <tr>\n",
       "      <th>2002-02-11 12:00:00</th>\n",
       "      <td>2002</td>\n",
       "      <td>1.0</td>\n",
       "      <td>0.0</td>\n",
       "      <td>0.00</td>\n",
       "    </tr>\n",
       "    <tr>\n",
       "      <th>2002-02-11 13:00:00</th>\n",
       "      <td>2002</td>\n",
       "      <td>1.0</td>\n",
       "      <td>0.0</td>\n",
       "      <td>0.00</td>\n",
       "    </tr>\n",
       "    <tr>\n",
       "      <th>2002-02-11 14:00:00</th>\n",
       "      <td>2002</td>\n",
       "      <td>1.0</td>\n",
       "      <td>0.0</td>\n",
       "      <td>0.00</td>\n",
       "    </tr>\n",
       "    <tr>\n",
       "      <th>2002-02-11 15:00:00</th>\n",
       "      <td>2002</td>\n",
       "      <td>1.0</td>\n",
       "      <td>0.0</td>\n",
       "      <td>0.00</td>\n",
       "    </tr>\n",
       "  </tbody>\n",
       "</table>\n",
       "<p>1000 rows × 4 columns</p>\n",
       "</div>"
      ],
      "text/plain": [
       "                     Year  CSO 1, MG/hr  CSO 2, MG/hr  Rain, in/hr\n",
       "2002-01-01 00:00:00  2002           0.0           0.0         0.00\n",
       "2002-01-01 01:00:00  2002           0.0           0.0         0.00\n",
       "2002-01-01 02:00:00  2002           0.0           0.0         0.00\n",
       "2002-01-01 03:00:00  2002           0.0           0.0         0.00\n",
       "2002-01-01 04:00:00  2002           0.0           0.0         0.00\n",
       "2002-01-01 05:00:00  2002           0.0           0.0         0.00\n",
       "2002-01-01 06:00:00  2002           0.0           0.0         0.00\n",
       "2002-01-01 07:00:00  2002           0.0           0.0         0.00\n",
       "2002-01-01 08:00:00  2002           0.0           0.0         0.00\n",
       "2002-01-01 09:00:00  2002           0.0           0.0         0.00\n",
       "2002-01-01 10:00:00  2002           0.0           0.0         0.00\n",
       "2002-01-01 11:00:00  2002           0.0           0.0         0.00\n",
       "2002-01-01 12:00:00  2002           0.0           0.0         0.00\n",
       "2002-01-01 13:00:00  2002           0.0           0.0         0.00\n",
       "2002-01-01 14:00:00  2002           0.0           0.0         0.00\n",
       "2002-01-01 15:00:00  2002           0.0           0.0         0.00\n",
       "2002-01-01 16:00:00  2002           0.0           0.0         0.00\n",
       "2002-01-01 17:00:00  2002           0.0           0.0         0.00\n",
       "2002-01-01 18:00:00  2002           0.0           0.0         0.00\n",
       "2002-01-01 19:00:00  2002           0.0           0.0         0.00\n",
       "2002-01-01 20:00:00  2002           0.0           0.0         0.00\n",
       "2002-01-01 21:00:00  2002           0.0           0.0         0.00\n",
       "2002-01-01 22:00:00  2002           0.0           0.0         0.00\n",
       "2002-01-01 23:00:00  2002           0.0           0.0         0.00\n",
       "2002-01-02 00:00:00  2002           0.0           0.0         0.00\n",
       "2002-01-02 01:00:00  2002           0.0           0.0         0.00\n",
       "2002-01-02 02:00:00  2002           0.0           0.0         0.00\n",
       "2002-01-02 03:00:00  2002           0.0           0.0         0.00\n",
       "2002-01-02 04:00:00  2002           0.0           0.0         0.00\n",
       "2002-01-02 05:00:00  2002           0.0           0.0         0.00\n",
       "...                   ...           ...           ...          ...\n",
       "2002-02-10 10:00:00  2002           0.0           0.0         0.00\n",
       "2002-02-10 11:00:00  2002           0.0           0.0         0.00\n",
       "2002-02-10 12:00:00  2002           0.0           0.0         0.00\n",
       "2002-02-10 13:00:00  2002           0.0           0.0         0.00\n",
       "2002-02-10 14:00:00  2002           0.0           0.0         0.00\n",
       "2002-02-10 15:00:00  2002           0.0           0.0         0.00\n",
       "2002-02-10 16:00:00  2002           0.0           0.0         0.00\n",
       "2002-02-10 17:00:00  2002           1.0           0.0         0.00\n",
       "2002-02-10 18:00:00  2002           1.0           0.0         0.01\n",
       "2002-02-10 19:00:00  2002           1.0           0.0         0.03\n",
       "2002-02-10 20:00:00  2002           1.0           0.0         0.01\n",
       "2002-02-10 21:00:00  2002           1.0           0.0         0.02\n",
       "2002-02-10 22:00:00  2002           1.0           0.0         0.16\n",
       "2002-02-10 23:00:00  2002           1.0           0.0         0.00\n",
       "2002-02-11 00:00:00  2002           1.0           0.0         0.06\n",
       "2002-02-11 01:00:00  2002           1.0           0.0         0.01\n",
       "2002-02-11 02:00:00  2002           1.0           0.0         0.00\n",
       "2002-02-11 03:00:00  2002           1.0           0.0         0.00\n",
       "2002-02-11 04:00:00  2002           1.0           0.0         0.00\n",
       "2002-02-11 05:00:00  2002           1.0           0.0         0.00\n",
       "2002-02-11 06:00:00  2002           1.0           0.0         0.00\n",
       "2002-02-11 07:00:00  2002           1.0           0.0         0.00\n",
       "2002-02-11 08:00:00  2002           1.0           0.0         0.00\n",
       "2002-02-11 09:00:00  2002           1.0           0.0         0.01\n",
       "2002-02-11 10:00:00  2002           1.0           0.0         0.00\n",
       "2002-02-11 11:00:00  2002           1.0           0.0         0.00\n",
       "2002-02-11 12:00:00  2002           1.0           0.0         0.00\n",
       "2002-02-11 13:00:00  2002           1.0           0.0         0.00\n",
       "2002-02-11 14:00:00  2002           1.0           0.0         0.00\n",
       "2002-02-11 15:00:00  2002           1.0           0.0         0.00\n",
       "\n",
       "[1000 rows x 4 columns]"
      ]
     },
     "execution_count": 117,
     "metadata": {},
     "output_type": "execute_result"
    }
   ],
   "source": [
    "cso_qual_df.head(1000)"
   ]
  },
  {
   "cell_type": "markdown",
   "metadata": {
    "collapsed": true
   },
   "source": [
    "## XX. Baseline method for predicting CSO events\n",
    "\n",
    "The NYC DEP's method for calculating combined sewer overflow events is based on the amount of time after a rainfall event.  Here, a rainfall event is defined as any period of rainfall that is separated by at least four hours from another period of rainfall.  The rainfall events are contained in a spreadsheet which I load here:"
   ]
  },
  {
   "cell_type": "code",
   "execution_count": 68,
   "metadata": {
    "collapsed": false
   },
   "outputs": [],
   "source": [
    "# #Load rainfall events data\n",
    "# fname = '2002 to 2011 Storm Event Summary.xlsx'\n",
    "# rain_events_df = pd.read_excel(path + fname, sheetname='2002 to 2011 Summary', header=0, \\\n",
    "#                     index_col=0)\n",
    "\n",
    "#Pickle\n",
    "# rain_events_df.to_pickle(path + 'rain_events_df.pkl')\n",
    "rain_events_df = pd.read_pickle(path + 'rain_events_df.pkl')"
   ]
  },
  {
   "cell_type": "code",
   "execution_count": 69,
   "metadata": {
    "collapsed": false
   },
   "outputs": [
    {
     "data": {
      "text/html": [
       "<div>\n",
       "<style>\n",
       "    .dataframe thead tr:only-child th {\n",
       "        text-align: right;\n",
       "    }\n",
       "\n",
       "    .dataframe thead th {\n",
       "        text-align: left;\n",
       "    }\n",
       "\n",
       "    .dataframe tbody tr th {\n",
       "        vertical-align: top;\n",
       "    }\n",
       "</style>\n",
       "<table border=\"1\" class=\"dataframe\">\n",
       "  <thead>\n",
       "    <tr style=\"text-align: right;\">\n",
       "      <th></th>\n",
       "      <th>Event End</th>\n",
       "      <th>Event Duration (hrs)</th>\n",
       "      <th>Peak Intensity (in/hour)</th>\n",
       "      <th>Total Rainfall depth                 (in)</th>\n",
       "      <th>Time of Peak</th>\n",
       "    </tr>\n",
       "    <tr>\n",
       "      <th>Event Start</th>\n",
       "      <th></th>\n",
       "      <th></th>\n",
       "      <th></th>\n",
       "      <th></th>\n",
       "      <th></th>\n",
       "    </tr>\n",
       "  </thead>\n",
       "  <tbody>\n",
       "    <tr>\n",
       "      <th>2002-01-06 17:00:00</th>\n",
       "      <td>2002-01-06 22:00:00</td>\n",
       "      <td>5.0</td>\n",
       "      <td>0.26</td>\n",
       "      <td>0.75</td>\n",
       "      <td>2002-01-06 19:00:00</td>\n",
       "    </tr>\n",
       "    <tr>\n",
       "      <th>2002-01-07 12:00:00</th>\n",
       "      <td>2002-01-07 13:00:00</td>\n",
       "      <td>1.0</td>\n",
       "      <td>0.01</td>\n",
       "      <td>0.01</td>\n",
       "      <td>2002-01-07 12:00:00</td>\n",
       "    </tr>\n",
       "    <tr>\n",
       "      <th>2002-01-07 17:00:00</th>\n",
       "      <td>2002-01-07 21:00:00</td>\n",
       "      <td>4.0</td>\n",
       "      <td>0.01</td>\n",
       "      <td>0.04</td>\n",
       "      <td>2002-01-07 17:00:00</td>\n",
       "    </tr>\n",
       "    <tr>\n",
       "      <th>2002-01-09 10:00:00</th>\n",
       "      <td>2002-01-09 15:00:00</td>\n",
       "      <td>5.0</td>\n",
       "      <td>0.04</td>\n",
       "      <td>0.10</td>\n",
       "      <td>2002-01-09 14:00:00</td>\n",
       "    </tr>\n",
       "    <tr>\n",
       "      <th>2002-01-11 07:00:00</th>\n",
       "      <td>2002-01-11 13:00:00</td>\n",
       "      <td>6.0</td>\n",
       "      <td>0.06</td>\n",
       "      <td>0.21</td>\n",
       "      <td>2002-01-11 09:00:00</td>\n",
       "    </tr>\n",
       "  </tbody>\n",
       "</table>\n",
       "</div>"
      ],
      "text/plain": [
       "                              Event End  Event Duration (hrs)  \\\n",
       "Event Start                                                     \n",
       "2002-01-06 17:00:00 2002-01-06 22:00:00                   5.0   \n",
       "2002-01-07 12:00:00 2002-01-07 13:00:00                   1.0   \n",
       "2002-01-07 17:00:00 2002-01-07 21:00:00                   4.0   \n",
       "2002-01-09 10:00:00 2002-01-09 15:00:00                   5.0   \n",
       "2002-01-11 07:00:00 2002-01-11 13:00:00                   6.0   \n",
       "\n",
       "                     Peak Intensity (in/hour)  \\\n",
       "Event Start                                     \n",
       "2002-01-06 17:00:00                      0.26   \n",
       "2002-01-07 12:00:00                      0.01   \n",
       "2002-01-07 17:00:00                      0.01   \n",
       "2002-01-09 10:00:00                      0.04   \n",
       "2002-01-11 07:00:00                      0.06   \n",
       "\n",
       "                     Total Rainfall depth                 (in)  \\\n",
       "Event Start                                                      \n",
       "2002-01-06 17:00:00                                       0.75   \n",
       "2002-01-07 12:00:00                                       0.01   \n",
       "2002-01-07 17:00:00                                       0.04   \n",
       "2002-01-09 10:00:00                                       0.10   \n",
       "2002-01-11 07:00:00                                       0.21   \n",
       "\n",
       "                           Time of Peak  \n",
       "Event Start                              \n",
       "2002-01-06 17:00:00 2002-01-06 19:00:00  \n",
       "2002-01-07 12:00:00 2002-01-07 12:00:00  \n",
       "2002-01-07 17:00:00 2002-01-07 17:00:00  \n",
       "2002-01-09 10:00:00 2002-01-09 14:00:00  \n",
       "2002-01-11 07:00:00 2002-01-11 09:00:00  "
      ]
     },
     "execution_count": 69,
     "metadata": {},
     "output_type": "execute_result"
    }
   ],
   "source": [
    "#Drop unnecessary rows, show head of dataframe\n",
    "rain_events_df.drop(rain_events_df.index[[0, 1, 2, 3]], inplace=True)\n",
    "rain_events_df.head()"
   ]
  },
  {
   "cell_type": "markdown",
   "metadata": {},
   "source": [
    "The baseline model assumes CSO events happen for a period of twelve hours after the end of each rain event.  This is implemented here as an array of 1's, for times during a CSO event, and 0's elsewhere."
   ]
  },
  {
   "cell_type": "code",
   "execution_count": 70,
   "metadata": {
    "collapsed": false
   },
   "outputs": [],
   "source": [
    "#Boolean mask with location in the cso_qual_df of where rain event end times are\n",
    "#This has length the same as cso_qual_df and sum equal to the length of rain_events_df\n",
    "event_end_mask = cso_qual_df.index.isin(rain_events_df['Event End'].values)\n",
    "#Integer indices of the above, event_end_indices[0] has length equal to rain_events_df\n",
    "event_end_indices = np.nonzero(event_end_mask)"
   ]
  },
  {
   "cell_type": "code",
   "execution_count": 71,
   "metadata": {
    "collapsed": false
   },
   "outputs": [],
   "source": [
    "#The baseline model for when there is a CSO happening.  Start with all zeros\n",
    "baseline_cso = np.zeros(cso_qual_df.shape[0])\n",
    "#Then for every index in event_end_indices, make that element and the subsequent eleven elements into ones\n",
    "for event_end_index in event_end_indices[0]:\n",
    "    baseline_cso[event_end_index:event_end_index+12] = 1\n",
    "# sum(baseline_cso)/12 = 1128.1666666666667, while len(rain_events_df) = 1191\n",
    "#seems to imply some rain events start before the 12 hours after the last one is over"
   ]
  },
  {
   "cell_type": "markdown",
   "metadata": {},
   "source": [
    "Now I have the baseline model, which is the same for all CSOs.  I calculate the accuracy as fraction of model values that are correct."
   ]
  },
  {
   "cell_type": "code",
   "execution_count": 72,
   "metadata": {
    "collapsed": false
   },
   "outputs": [
    {
     "name": "stdout",
     "output_type": "stream",
     "text": [
      "Accuracy of baseline model for CSO 1: 0.85, CSO 2: 0.84\n"
     ]
    }
   ],
   "source": [
    "baseline_acc = np.empty(2,)\n",
    "baseline_acc[0] = sum(cso_qual_df['CSO 1, MG/hr'].values == baseline_cso)/np.float(len(baseline_cso))\n",
    "baseline_acc[1] = sum(cso_qual_df['CSO 2, MG/hr'].values == baseline_cso)/np.float(len(baseline_cso))\n",
    "\n",
    "print('Accuracy of baseline model for CSO 1: {:0.2f}, CSO 2: {:0.2f}'.format(baseline_acc[0],  baseline_acc[1]))"
   ]
  },
  {
   "cell_type": "markdown",
   "metadata": {},
   "source": [
    "## 2. Modeling CSO flow from rainfall data"
   ]
  },
  {
   "cell_type": "markdown",
   "metadata": {
    "collapsed": true
   },
   "source": [
    "\n",
    "## Convert response to logical"
   ]
  },
  {
   "cell_type": "code",
   "execution_count": 73,
   "metadata": {
    "collapsed": false
   },
   "outputs": [
    {
     "name": "stdout",
     "output_type": "stream",
     "text": [
      "(array([2002, 2003, 2004, 2005, 2006, 2007, 2008, 2009, 2010, 2011]), 'length', 10)\n"
     ]
    }
   ],
   "source": [
    "#Split data into 10 separate years; do this for both CSOs.\n",
    "#Training data will be 1st through 9th years, testing 2nd through 10th.\n",
    "\n",
    "#Get unique years\n",
    "un_years = np.unique(cso_qual_df['Year'])\n",
    "print(un_years, 'length', len(un_years))"
   ]
  },
  {
   "cell_type": "code",
   "execution_count": 74,
   "metadata": {
    "collapsed": true
   },
   "outputs": [],
   "source": [
    "from sklearn import linear_model"
   ]
  },
  {
   "cell_type": "code",
   "execution_count": 75,
   "metadata": {
    "collapsed": true
   },
   "outputs": [],
   "source": [
    "# 'Fecal Coliform' 'Enterococcus' 'CSO outflow (MG/hour)'\n",
    "# data_to_model = 'CSO flow (MG/Hour)'\n",
    "#In Python,\n",
    "#[value]*number creates a list of size number and initializes each member with value\n",
    "#This empty list, where 'value' is 'None', can be filled with dataframes:\n",
    "\n",
    "def train_and_test(lag_order, column_to_model):\n",
    "    sep_years_data = [None]*len(un_years)\n",
    "    #For storing linear models and r_sq stats\n",
    "    est = [None]*len(un_years)\n",
    "    \n",
    "    #if using sklearn\n",
    "    #*** Good to specify and justify all parameters here, may want to do 2D model\n",
    "    #validation on lags and C parameter, can have heatmap\n",
    "    model = linear_model.LogisticRegression(fit_intercept = True, C=1000000)\n",
    "\n",
    "    #Loop to train separately on each year\n",
    "    for year_index in range(len(un_years)):\n",
    "        #Subset the data to the desired year\n",
    "        sep_years_data[year_index] = \\\n",
    "            cso_qual_df[cso_qual_df['Year'].isin([un_years[year_index]])]\n",
    "\n",
    "        #Filter out columns not used\n",
    "        sep_years_data[year_index] = sep_years_data[year_index].filter\\\n",
    "            (['Rain, in/hr', column_to_model], axis=1)\n",
    "\n",
    "        #Create time lagged columns for predictor matrix\n",
    "        for n_pred_columns in range(1,lag_order+1):\n",
    "\n",
    "                sep_years_data[year_index].insert\\\n",
    "                (0, 'Lag '+ str(n_pred_columns),\\\n",
    "                 sep_years_data[year_index]['Rain, in/hr'].shift(n_pred_columns))\n",
    "\n",
    "        #Drop rows with NA that were introduced by shifting\n",
    "        sep_years_data[year_index].dropna(axis=0, inplace=True)\n",
    "\n",
    "        #Now have arrays of predictors and response.  Do OLS in statsmodels.\n",
    "        X = sep_years_data[year_index].drop([column_to_model], axis=1).values\n",
    "        y = sep_years_data[year_index].filter([column_to_model], axis=1).values\n",
    "#         print(np.shape(y))\n",
    "\n",
    "        \n",
    "        #Fit model in statsmodels\n",
    "        #Add intercept\n",
    "#         X = sm.add_constant(X)\n",
    "#         est[year_index] = sm.Logit(y, X).fit()\n",
    "        #Or sklearn\n",
    "        est[year_index] = model.fit(X, y)\n",
    "        \n",
    "            \n",
    "    ##\n",
    "    ## Model testing\n",
    "    X_next = [None]*len(un_years)\n",
    "    y_next_pred = [None]*len(un_years)\n",
    "    y_next = [None]*len(un_years)\n",
    "    all_test_r_sq = np.array([])\n",
    "    \n",
    "    #Loop to test on the next year, using the current year's parameters\n",
    "    for j in range(len(un_years)-1):\n",
    "        #Get next year's predictors\n",
    "        X_next[j] = sep_years_data[j+1].drop([column_to_model], axis=1).values\n",
    "        #Add intercept if using statsmodels\n",
    "#         X_next[j] = sm.add_constant(X_next[j])\n",
    "        #Do prediction using this year's parameters\n",
    "        y_next_pred[j] = est[j].predict(X_next[j])\n",
    "        #Get actual values from next year\n",
    "        y_next[j] = \\\n",
    "        sep_years_data[j+1].filter([column_to_model], axis=1)[column_to_model].values\n",
    "\n",
    "#         print(np.shape(y_next_pred[i][j]), np.shape(y_next[i][j]))\n",
    "\n",
    "\n",
    "#         #Print R^2\n",
    "#         ss_data = np.sum(np.power(y_next[j], 2))\n",
    "#         ss_resid = np.sum(np.power(y_next_pred[j]-y_next[j], 2))\n",
    "#         r_sq = 1 - (ss_resid/ss_data)\n",
    "        \n",
    "        #Here this is not R^2 but accuracy score from sklearns logistic regression\n",
    "        #Is this the same as percent of correct classifications?\n",
    "        #Appears to be yes; these two versions produce apparently identical results\n",
    "#         all_test_r_sq = np.append(all_test_r_sq, np.sum(y_next_pred[j] == y_next[j]) / np.float(len(y_next[j])))\n",
    "        \n",
    "        all_test_r_sq = np.append(all_test_r_sq, est[j].score(X_next[j], y_next[j]))\n",
    "    return all_test_r_sq\n",
    "\n",
    "\n"
   ]
  },
  {
   "cell_type": "code",
   "execution_count": 79,
   "metadata": {
    "collapsed": false
   },
   "outputs": [],
   "source": [
    "# sep_cso_df[1]\n",
    "# sep_years_data[1][1]\n",
    "several_lags = range(1,15)\n",
    "# several_lags\n",
    "many_lag_r_sq = []\n",
    "mean_r_sq = np.array([])\n",
    "std_r_sq = np.array([])\n",
    "for each_lag in several_lags:\n",
    "    tmp_val = train_and_test(each_lag, 'CSO 2, MG/hr')\n",
    "    many_lag_r_sq.append(tmp_val)\n",
    "    mean_r_sq = np.append(mean_r_sq, np.mean(tmp_val))\n",
    "    std_r_sq = np.append(std_r_sq, np.std(tmp_val))\n",
    "#     print(each_lag)"
   ]
  },
  {
   "cell_type": "code",
   "execution_count": 80,
   "metadata": {
    "collapsed": false
   },
   "outputs": [
    {
     "data": {
      "text/plain": [
       "array([ 0.99198801,  0.99272224,  0.99269607,  0.99270796,  0.99270716,\n",
       "        0.99271906,  0.99273092,  0.99271739,  0.99270387,  0.99263951,\n",
       "        0.9926387 ,  0.99263786,  0.99263702,  0.99261087])"
      ]
     },
     "execution_count": 80,
     "metadata": {},
     "output_type": "execute_result"
    }
   ],
   "source": [
    "mean_r_sq"
   ]
  },
  {
   "cell_type": "code",
   "execution_count": 81,
   "metadata": {
    "collapsed": false
   },
   "outputs": [
    {
     "data": {
      "text/plain": [
       "<matplotlib.text.Text at 0x121997bd0>"
      ]
     },
     "execution_count": 81,
     "metadata": {},
     "output_type": "execute_result"
    },
    {
     "data": {
      "image/png": "[encoded data removed]",
      "text/plain": [
       "<matplotlib.figure.Figure at 0x11e36b890>"
      ]
     },
     "metadata": {},
     "output_type": "display_data"
    }
   ],
   "source": [
    "# plt.plot(several_lags, mean_r_sq)\n",
    "plt.errorbar(several_lags, mean_r_sq, yerr=std_r_sq)\n",
    "plt.xlabel('Number of lags')\n",
    "plt.ylabel('Avg testing R^2 +/- 1 std')\n",
    "plt.title('')"
   ]
  },
  {
   "cell_type": "markdown",
   "metadata": {},
   "source": [
    "## Model the quality data"
   ]
  },
  {
   "cell_type": "code",
   "execution_count": 82,
   "metadata": {
    "collapsed": true
   },
   "outputs": [],
   "source": [
    "#Load pathogen data and add it to the data frame\n",
    "\n",
    "# fname = 'ci_baseline_2002_2011pathogen_and_2008dissolved_oxygen_20170509B.xlsx'\n",
    "# patho_df = pd.read_excel(path + fname, sheetname='ten_year_pathogen', header=3, \\\n",
    "#                     index_col=2)\n",
    "\n",
    "#Pickle for faster loading\n",
    "# patho_df.to_pickle(path + 'patho_df.pkl')  # where to save it, usually as a .pkl\n",
    "patho_df = pd.read_pickle(path + 'patho_df.pkl')"
   ]
  },
  {
   "cell_type": "code",
   "execution_count": 83,
   "metadata": {
    "collapsed": false
   },
   "outputs": [
    {
     "data": {
      "text/html": [
       "<div>\n",
       "<style>\n",
       "    .dataframe thead tr:only-child th {\n",
       "        text-align: right;\n",
       "    }\n",
       "\n",
       "    .dataframe thead th {\n",
       "        text-align: left;\n",
       "    }\n",
       "\n",
       "    .dataframe tbody tr th {\n",
       "        vertical-align: top;\n",
       "    }\n",
       "</style>\n",
       "<table border=\"1\" class=\"dataframe\">\n",
       "  <thead>\n",
       "    <tr style=\"text-align: right;\">\n",
       "      <th></th>\n",
       "      <th>Station ID</th>\n",
       "      <th>Year</th>\n",
       "      <th>Fecal Coliform</th>\n",
       "      <th>Enterococcus</th>\n",
       "      <th>Station ID.1</th>\n",
       "      <th>Fecal Coliform.1</th>\n",
       "      <th>Enterococcus.1</th>\n",
       "      <th>Station ID.2</th>\n",
       "      <th>Fecal Coliform.2</th>\n",
       "      <th>Enterococcus.2</th>\n",
       "      <th>(in/hr)</th>\n",
       "    </tr>\n",
       "    <tr>\n",
       "      <th>(day)</th>\n",
       "      <th></th>\n",
       "      <th></th>\n",
       "      <th></th>\n",
       "      <th></th>\n",
       "      <th></th>\n",
       "      <th></th>\n",
       "      <th></th>\n",
       "      <th></th>\n",
       "      <th></th>\n",
       "      <th></th>\n",
       "      <th></th>\n",
       "    </tr>\n",
       "  </thead>\n",
       "  <tbody>\n",
       "    <tr>\n",
       "      <th>0.00000</th>\n",
       "      <td>CIC2</td>\n",
       "      <td>2002</td>\n",
       "      <td>44</td>\n",
       "      <td>30</td>\n",
       "      <td>CIC3</td>\n",
       "      <td>37</td>\n",
       "      <td>19</td>\n",
       "      <td>GB1</td>\n",
       "      <td>28</td>\n",
       "      <td>7</td>\n",
       "      <td>0.0</td>\n",
       "    </tr>\n",
       "    <tr>\n",
       "      <th>0.04167</th>\n",
       "      <td>CIC2</td>\n",
       "      <td>2002</td>\n",
       "      <td>44</td>\n",
       "      <td>30</td>\n",
       "      <td>CIC3</td>\n",
       "      <td>37</td>\n",
       "      <td>19</td>\n",
       "      <td>GB1</td>\n",
       "      <td>29</td>\n",
       "      <td>7</td>\n",
       "      <td>0.0</td>\n",
       "    </tr>\n",
       "    <tr>\n",
       "      <th>0.08333</th>\n",
       "      <td>CIC2</td>\n",
       "      <td>2002</td>\n",
       "      <td>41</td>\n",
       "      <td>27</td>\n",
       "      <td>CIC3</td>\n",
       "      <td>36</td>\n",
       "      <td>19</td>\n",
       "      <td>GB1</td>\n",
       "      <td>31</td>\n",
       "      <td>8</td>\n",
       "      <td>0.0</td>\n",
       "    </tr>\n",
       "    <tr>\n",
       "      <th>0.12500</th>\n",
       "      <td>CIC2</td>\n",
       "      <td>2002</td>\n",
       "      <td>39</td>\n",
       "      <td>25</td>\n",
       "      <td>CIC3</td>\n",
       "      <td>35</td>\n",
       "      <td>17</td>\n",
       "      <td>GB1</td>\n",
       "      <td>36</td>\n",
       "      <td>10</td>\n",
       "      <td>0.0</td>\n",
       "    </tr>\n",
       "    <tr>\n",
       "      <th>0.16667</th>\n",
       "      <td>CIC2</td>\n",
       "      <td>2002</td>\n",
       "      <td>38</td>\n",
       "      <td>25</td>\n",
       "      <td>CIC3</td>\n",
       "      <td>34</td>\n",
       "      <td>17</td>\n",
       "      <td>GB1</td>\n",
       "      <td>38</td>\n",
       "      <td>11</td>\n",
       "      <td>0.0</td>\n",
       "    </tr>\n",
       "  </tbody>\n",
       "</table>\n",
       "</div>"
      ],
      "text/plain": [
       "        Station ID  Year  Fecal Coliform  Enterococcus Station ID.1  \\\n",
       "(day)                                                                 \n",
       "0.00000       CIC2  2002              44            30         CIC3   \n",
       "0.04167       CIC2  2002              44            30         CIC3   \n",
       "0.08333       CIC2  2002              41            27         CIC3   \n",
       "0.12500       CIC2  2002              39            25         CIC3   \n",
       "0.16667       CIC2  2002              38            25         CIC3   \n",
       "\n",
       "         Fecal Coliform.1  Enterococcus.1 Station ID.2  Fecal Coliform.2  \\\n",
       "(day)                                                                      \n",
       "0.00000                37              19          GB1                28   \n",
       "0.04167                37              19          GB1                29   \n",
       "0.08333                36              19          GB1                31   \n",
       "0.12500                35              17          GB1                36   \n",
       "0.16667                34              17          GB1                38   \n",
       "\n",
       "         Enterococcus.2  (in/hr)  \n",
       "(day)                             \n",
       "0.00000               7      0.0  \n",
       "0.04167               7      0.0  \n",
       "0.08333               8      0.0  \n",
       "0.12500              10      0.0  \n",
       "0.16667              11      0.0  "
      ]
     },
     "execution_count": 83,
     "metadata": {},
     "output_type": "execute_result"
    }
   ],
   "source": [
    "patho_df.head()"
   ]
  },
  {
   "cell_type": "code",
   "execution_count": 84,
   "metadata": {
    "collapsed": false
   },
   "outputs": [
    {
     "data": {
      "text/plain": [
       "Index([u'Station ID', u'Year', u'Fecal Coliform', u'Enterococcus',\n",
       "       u'Station ID.1', u'Fecal Coliform.1', u'Enterococcus.1',\n",
       "       u'Station ID.2', u'Fecal Coliform.2', u'Enterococcus.2', u'(in/hr)'],\n",
       "      dtype='object')"
      ]
     },
     "execution_count": 84,
     "metadata": {},
     "output_type": "execute_result"
    }
   ],
   "source": [
    "patho_df.columns"
   ]
  },
  {
   "cell_type": "markdown",
   "metadata": {},
   "source": [
    "For this project I am interested in whether Fecal Coliform (FC) concentrations at representative model grid cells are at or above 1000 colonies/100 mL, or not.  So first I binarize the data according to this, and add it to the data frame with the CSO volumes, in order to use the same modeling functions."
   ]
  },
  {
   "cell_type": "code",
   "execution_count": 85,
   "metadata": {
    "collapsed": true
   },
   "outputs": [],
   "source": [
    "regulation_limit = 1000. #this could be updated if regulations change\n",
    "\n",
    "cso_qual_df['Fecal Coliform 1'] = patho_df['Fecal Coliform'].values\n",
    "cso_qual_df.loc[cso_qual_df['Fecal Coliform 1'] < regulation_limit, 'Fecal Coliform 1'] = 0\n",
    "cso_qual_df.loc[cso_qual_df['Fecal Coliform 1'] >= regulation_limit, 'Fecal Coliform 1'] = 1\n",
    "\n",
    "cso_qual_df['Fecal Coliform 2'] = patho_df['Fecal Coliform.1'].values\n",
    "cso_qual_df.loc[cso_qual_df['Fecal Coliform 2'] < regulation_limit, 'Fecal Coliform 2'] = 0\n",
    "cso_qual_df.loc[cso_qual_df['Fecal Coliform 2'] >= regulation_limit, 'Fecal Coliform 2'] = 1\n",
    "\n",
    "cso_qual_df['Fecal Coliform 3'] = patho_df['Fecal Coliform.2'].values\n",
    "cso_qual_df.loc[cso_qual_df['Fecal Coliform 3'] < regulation_limit, 'Fecal Coliform 3'] = 0\n",
    "cso_qual_df.loc[cso_qual_df['Fecal Coliform 3'] >= regulation_limit, 'Fecal Coliform 3'] = 1"
   ]
  },
  {
   "cell_type": "code",
   "execution_count": 86,
   "metadata": {
    "collapsed": false
   },
   "outputs": [
    {
     "data": {
      "text/html": [
       "<div>\n",
       "<style>\n",
       "    .dataframe thead tr:only-child th {\n",
       "        text-align: right;\n",
       "    }\n",
       "\n",
       "    .dataframe thead th {\n",
       "        text-align: left;\n",
       "    }\n",
       "\n",
       "    .dataframe tbody tr th {\n",
       "        vertical-align: top;\n",
       "    }\n",
       "</style>\n",
       "<table border=\"1\" class=\"dataframe\">\n",
       "  <thead>\n",
       "    <tr style=\"text-align: right;\">\n",
       "      <th></th>\n",
       "      <th>Year</th>\n",
       "      <th>CSO 1, MG/hr</th>\n",
       "      <th>CSO 2, MG/hr</th>\n",
       "      <th>Rain, in/hr</th>\n",
       "      <th>Fecal Coliform 1</th>\n",
       "      <th>Fecal Coliform 2</th>\n",
       "      <th>Fecal Coliform 3</th>\n",
       "    </tr>\n",
       "  </thead>\n",
       "  <tbody>\n",
       "    <tr>\n",
       "      <th>2002-01-01 00:00:00</th>\n",
       "      <td>2002</td>\n",
       "      <td>0.0</td>\n",
       "      <td>0.0</td>\n",
       "      <td>0.0</td>\n",
       "      <td>0</td>\n",
       "      <td>0</td>\n",
       "      <td>0</td>\n",
       "    </tr>\n",
       "    <tr>\n",
       "      <th>2002-01-01 01:00:00</th>\n",
       "      <td>2002</td>\n",
       "      <td>0.0</td>\n",
       "      <td>0.0</td>\n",
       "      <td>0.0</td>\n",
       "      <td>0</td>\n",
       "      <td>0</td>\n",
       "      <td>0</td>\n",
       "    </tr>\n",
       "    <tr>\n",
       "      <th>2002-01-01 02:00:00</th>\n",
       "      <td>2002</td>\n",
       "      <td>0.0</td>\n",
       "      <td>0.0</td>\n",
       "      <td>0.0</td>\n",
       "      <td>0</td>\n",
       "      <td>0</td>\n",
       "      <td>0</td>\n",
       "    </tr>\n",
       "    <tr>\n",
       "      <th>2002-01-01 03:00:00</th>\n",
       "      <td>2002</td>\n",
       "      <td>0.0</td>\n",
       "      <td>0.0</td>\n",
       "      <td>0.0</td>\n",
       "      <td>0</td>\n",
       "      <td>0</td>\n",
       "      <td>0</td>\n",
       "    </tr>\n",
       "    <tr>\n",
       "      <th>2002-01-01 04:00:00</th>\n",
       "      <td>2002</td>\n",
       "      <td>0.0</td>\n",
       "      <td>0.0</td>\n",
       "      <td>0.0</td>\n",
       "      <td>0</td>\n",
       "      <td>0</td>\n",
       "      <td>0</td>\n",
       "    </tr>\n",
       "  </tbody>\n",
       "</table>\n",
       "</div>"
      ],
      "text/plain": [
       "                     Year  CSO 1, MG/hr  CSO 2, MG/hr  Rain, in/hr  \\\n",
       "2002-01-01 00:00:00  2002           0.0           0.0          0.0   \n",
       "2002-01-01 01:00:00  2002           0.0           0.0          0.0   \n",
       "2002-01-01 02:00:00  2002           0.0           0.0          0.0   \n",
       "2002-01-01 03:00:00  2002           0.0           0.0          0.0   \n",
       "2002-01-01 04:00:00  2002           0.0           0.0          0.0   \n",
       "\n",
       "                     Fecal Coliform 1  Fecal Coliform 2  Fecal Coliform 3  \n",
       "2002-01-01 00:00:00                 0                 0                 0  \n",
       "2002-01-01 01:00:00                 0                 0                 0  \n",
       "2002-01-01 02:00:00                 0                 0                 0  \n",
       "2002-01-01 03:00:00                 0                 0                 0  \n",
       "2002-01-01 04:00:00                 0                 0                 0  "
      ]
     },
     "execution_count": 86,
     "metadata": {},
     "output_type": "execute_result"
    }
   ],
   "source": [
    "cso_qual_df.head()\n",
    "# patho_df.shape"
   ]
  },
  {
   "cell_type": "markdown",
   "metadata": {},
   "source": [
    "Let's plot the binarized FC concentrations versus rainfall volumes for the first grid cell.\n",
    "\n",
    "*even with log scale, this is not a good plot.  two histograms would probably be better*\n",
    "*ditto for the volumes data*\n",
    "\n",
    "Probably the coolest plot would be a histogram with baseline of zero for the zeros, an upside down one with baseline of 1 for the others, and a logistic function between them showing the regression."
   ]
  },
  {
   "cell_type": "code",
   "execution_count": 87,
   "metadata": {
    "collapsed": false
   },
   "outputs": [
    {
     "data": {
      "text/plain": [
       "(0.002, 4)"
      ]
     },
     "execution_count": 87,
     "metadata": {},
     "output_type": "execute_result"
    },
    {
     "data": {
      "image/png": "[encoded data removed]",
      "text/plain": [
       "<matplotlib.figure.Figure at 0x11f0afe10>"
      ]
     },
     "metadata": {},
     "output_type": "display_data"
    }
   ],
   "source": [
    "cso_scatter('Fecal Coliform 1')\n",
    "plt.xscale('log')\n",
    "plt.xlim([0.002, 4])"
   ]
  },
  {
   "cell_type": "code",
   "execution_count": 92,
   "metadata": {
    "collapsed": false
   },
   "outputs": [],
   "source": [
    "# sep_cso_df[1]\n",
    "# sep_years_data[1][1]\n",
    "several_lags = range(1,40)\n",
    "# several_lags\n",
    "many_lag_r_sq = []\n",
    "mean_r_sq = np.array([])\n",
    "std_r_sq = np.array([])\n",
    "for each_lag in several_lags:\n",
    "    tmp_val = train_and_test(each_lag, 'Fecal Coliform 2')\n",
    "    many_lag_r_sq.append(tmp_val)\n",
    "    mean_r_sq = np.append(mean_r_sq, np.mean(tmp_val))\n",
    "    std_r_sq = np.append(std_r_sq, np.std(tmp_val))"
   ]
  },
  {
   "cell_type": "code",
   "execution_count": 93,
   "metadata": {
    "collapsed": false
   },
   "outputs": [
    {
     "data": {
      "text/plain": [
       "<matplotlib.text.Text at 0x1224c3c90>"
      ]
     },
     "execution_count": 93,
     "metadata": {},
     "output_type": "execute_result"
    },
    {
     "data": {
      "image/png": "[encoded data removed]",
      "text/plain": [
       "<matplotlib.figure.Figure at 0x122487090>"
      ]
     },
     "metadata": {},
     "output_type": "display_data"
    }
   ],
   "source": [
    "# plt.plot(several_lags, mean_r_sq)\n",
    "plt.errorbar(several_lags, mean_r_sq, yerr=std_r_sq)\n",
    "plt.xlabel('Number of lags')\n",
    "plt.ylabel('Avg testing R^2 +/- 1 std')\n",
    "plt.title('')"
   ]
  },
  {
   "cell_type": "markdown",
   "metadata": {
    "collapsed": true
   },
   "source": [
    "Null case"
   ]
  },
  {
   "cell_type": "code",
   "execution_count": 118,
   "metadata": {
    "collapsed": false
   },
   "outputs": [
    {
     "data": {
      "text/plain": [
       "87648"
      ]
     },
     "execution_count": 118,
     "metadata": {},
     "output_type": "execute_result"
    }
   ],
   "source": [
    "len(cso_qual_df['Fecal Coliform 1'])"
   ]
  },
  {
   "cell_type": "code",
   "execution_count": 119,
   "metadata": {
    "collapsed": false
   },
   "outputs": [
    {
     "data": {
      "text/plain": [
       "25418"
      ]
     },
     "execution_count": 119,
     "metadata": {},
     "output_type": "execute_result"
    }
   ],
   "source": [
    "np.sum(cso_qual_df['Fecal Coliform 1'].values)"
   ]
  },
  {
   "cell_type": "code",
   "execution_count": 120,
   "metadata": {
    "collapsed": false
   },
   "outputs": [
    {
     "data": {
      "text/plain": [
       "0.2900009127418766"
      ]
     },
     "execution_count": 120,
     "metadata": {},
     "output_type": "execute_result"
    }
   ],
   "source": [
    "np.float(np.sum(cso_qual_df['Fecal Coliform 1'].values))/len(cso_qual_df['Fecal Coliform 1'])"
   ]
  }
 ],
 "metadata": {
  "kernelspec": {
   "display_name": "Python 2",
   "language": "python",
   "name": "python2"
  },
  "language_info": {
   "codemirror_mode": {
    "name": "ipython",
    "version": 2
   },
   "file_extension": ".py",
   "mimetype": "text/x-python",
   "name": "python",
   "nbconvert_exporter": "python",
   "pygments_lexer": "ipython2",
   "version": "2.7.13"
  }
 },
 "nbformat": 4,
 "nbformat_minor": 2
}

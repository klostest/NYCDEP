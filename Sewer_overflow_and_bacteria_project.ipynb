{
 "cells": [
  {
   "cell_type": "markdown",
   "metadata": {},
   "source": [
    "# A real-time combined sewer overflow and pathogen warning system\n",
    "<img src=\"https://1702a190169a6b823f72-c3c7fc5c706f8e788f7fe0e5a5f2c7fe.ssl.cf5.rackcdn.com/WhatIsCso.jpg\">\n",
    "## Stephen Klosterman\n",
    "steve.klosterman@gmail.com"
   ]
  },
  {
   "cell_type": "markdown",
   "metadata": {},
   "source": [
    "<h1 id=\"tocheading\">Table of Contents</h1>\n",
    "<div id=\"toc\"></div>"
   ]
  },
  {
   "cell_type": "markdown",
   "metadata": {},
   "source": [
    "The below code is just to generate a table of contents"
   ]
  },
  {
   "cell_type": "code",
   "execution_count": 1,
   "metadata": {
    "collapsed": false
   },
   "outputs": [
    {
     "data": {
      "application/javascript": [
       "$.getScript('https://kmahelona.github.io/ipython_notebook_goodies/ipython_notebook_toc.js')"
      ],
      "text/plain": [
       "<IPython.core.display.Javascript object>"
      ]
     },
     "metadata": {},
     "output_type": "display_data"
    }
   ],
   "source": [
    "%%javascript\n",
    "$.getScript('https://kmahelona.github.io/ipython_notebook_goodies/ipython_notebook_toc.js')"
   ]
  },
  {
   "cell_type": "markdown",
   "metadata": {},
   "source": [
    "# Introduction\n",
    "\n",
    "This consulting project for the 2017B session of the Insight Remote Data Science Fellows Program was conducted for the \n",
    "New York City Department of Environmental Protection (NYC DEP).  The goal is to inform a real-time warning system about when CSOs are happening, and when bacterial pathogen concentrations in public waterways are likely to be above concerning threshold levels.\n",
    "\n",
    "*(Link to explanation of CSOs, federal regulations)*\n",
    "\n",
    "The input data for the warning system are hourly rainfall measurements from the JFK Airport. *(Possibly other weather data available in real time)* .  The goals for the warning system are to\n",
    "\n",
    "1.  Inform people of when CSO events are happening\n",
    "2.  Inform them of when waterway pathogen concentrations are above threshold levels\n",
    "\n",
    "The data for the project are hourly rainfall data from JFK airport for the period 2002-2012, as well as model outputs for CSO flows and waterway pathogen concentrations.  The CSO and pathogen models are not feasible to run in real time because not all of their inputs are available in real time.  Therefore the NYC DEP requires a regression, or other algorithmic, approach to predicting CSO flows and pathogen concentrations, using only real-time weather data as input.  NYC DEP has baseline regression models; I seek to create more accurate models.\n",
    "\n",
    "*(Improve this to have hyperlinks)*\n",
    "The structure of the notebook is to\n",
    "\n",
    "1.  Exploring the rainfall/CSO flow relationship\n",
    "2.  Implementing the baseline rainfall/CSO model\n",
    "3.  Develop new rainfall/CSO model, compare accuracy\n",
    "4.  Exploring the rainfall/pathogen relationship\n",
    "5.  Implementing the baseline rainfall/pathogen\n",
    "6.  Retrain rainfall/CSO model for rainfall/pathogen relationship "
   ]
  },
  {
   "cell_type": "code",
   "execution_count": 54,
   "metadata": {
    "collapsed": false
   },
   "outputs": [],
   "source": [
    "#Import libraries\n",
    "import pandas as pd\n",
    "import numpy as np\n",
    "import datetime\n",
    "import statsmodels.api as sm\n",
    "import sklearn\n",
    "from sklearn.externals import joblib\n",
    "from sklearn import linear_model\n",
    "import matplotlib.pyplot as plt\n",
    "import matplotlib as mpl\n",
    "%matplotlib inline"
   ]
  },
  {
   "cell_type": "markdown",
   "metadata": {
    "collapsed": true
   },
   "source": [
    "# Explore rainfall/CSO relationship"
   ]
  },
  {
   "cell_type": "markdown",
   "metadata": {},
   "source": [
    "First I load the data into a Pandas data frame, then format it for plotting"
   ]
  },
  {
   "cell_type": "code",
   "execution_count": 3,
   "metadata": {
    "collapsed": false
   },
   "outputs": [],
   "source": [
    "#Load the data.\n",
    "path = './data/'\n",
    "\n",
    "# #Takes ~ 1 minute to load spreadsheet\n",
    "# fname = 'ci2002_2011pathogenLOADand2008nutrient_carbonLOAD_20170517D.xlsx'\n",
    "# rain_cso_df = pd.read_excel(path + fname, sheetname='Outfall_pathogenLoad_part1', header=3, \\\n",
    "#                     index_col=2)\n",
    "\n",
    "#Save time by saving/loading pickle\n",
    "# rain_cso_df.to_pickle(path + 'rain_cso_df.pkl')\n",
    "\n",
    "rain_cso_df = pd.read_pickle(path + 'rain_cso_df.pkl')"
   ]
  },
  {
   "cell_type": "code",
   "execution_count": 4,
   "metadata": {
    "collapsed": false
   },
   "outputs": [
    {
     "data": {
      "text/html": [
       "<div>\n",
       "<style>\n",
       "    .dataframe thead tr:only-child th {\n",
       "        text-align: right;\n",
       "    }\n",
       "\n",
       "    .dataframe thead th {\n",
       "        text-align: left;\n",
       "    }\n",
       "\n",
       "    .dataframe tbody tr th {\n",
       "        vertical-align: top;\n",
       "    }\n",
       "</style>\n",
       "<table border=\"1\" class=\"dataframe\">\n",
       "  <thead>\n",
       "    <tr style=\"text-align: right;\">\n",
       "      <th></th>\n",
       "      <th>Station ID</th>\n",
       "      <th>Year</th>\n",
       "      <th>Fecal Coliform</th>\n",
       "      <th>Enterococcus</th>\n",
       "      <th>(in/hr)</th>\n",
       "      <th>(MG/Hour)</th>\n",
       "    </tr>\n",
       "    <tr>\n",
       "      <th>(day)</th>\n",
       "      <th></th>\n",
       "      <th></th>\n",
       "      <th></th>\n",
       "      <th></th>\n",
       "      <th></th>\n",
       "      <th></th>\n",
       "    </tr>\n",
       "  </thead>\n",
       "  <tbody>\n",
       "    <tr>\n",
       "      <th>0.00000</th>\n",
       "      <td>OH-21C</td>\n",
       "      <td>2002</td>\n",
       "      <td>0.0</td>\n",
       "      <td>0.0</td>\n",
       "      <td>0.0</td>\n",
       "      <td>0.0</td>\n",
       "    </tr>\n",
       "    <tr>\n",
       "      <th>0.04167</th>\n",
       "      <td>OH-21C</td>\n",
       "      <td>2002</td>\n",
       "      <td>0.0</td>\n",
       "      <td>0.0</td>\n",
       "      <td>0.0</td>\n",
       "      <td>0.0</td>\n",
       "    </tr>\n",
       "    <tr>\n",
       "      <th>0.08333</th>\n",
       "      <td>OH-21C</td>\n",
       "      <td>2002</td>\n",
       "      <td>0.0</td>\n",
       "      <td>0.0</td>\n",
       "      <td>0.0</td>\n",
       "      <td>0.0</td>\n",
       "    </tr>\n",
       "    <tr>\n",
       "      <th>0.12500</th>\n",
       "      <td>OH-21C</td>\n",
       "      <td>2002</td>\n",
       "      <td>0.0</td>\n",
       "      <td>0.0</td>\n",
       "      <td>0.0</td>\n",
       "      <td>0.0</td>\n",
       "    </tr>\n",
       "    <tr>\n",
       "      <th>0.16667</th>\n",
       "      <td>OH-21C</td>\n",
       "      <td>2002</td>\n",
       "      <td>0.0</td>\n",
       "      <td>0.0</td>\n",
       "      <td>0.0</td>\n",
       "      <td>0.0</td>\n",
       "    </tr>\n",
       "  </tbody>\n",
       "</table>\n",
       "</div>"
      ],
      "text/plain": [
       "        Station ID  Year  Fecal Coliform  Enterococcus  (in/hr)  (MG/Hour)\n",
       "(day)                                                                     \n",
       "0.00000     OH-21C  2002             0.0           0.0      0.0        0.0\n",
       "0.04167     OH-21C  2002             0.0           0.0      0.0        0.0\n",
       "0.08333     OH-21C  2002             0.0           0.0      0.0        0.0\n",
       "0.12500     OH-21C  2002             0.0           0.0      0.0        0.0\n",
       "0.16667     OH-21C  2002             0.0           0.0      0.0        0.0"
      ]
     },
     "execution_count": 4,
     "metadata": {},
     "output_type": "execute_result"
    }
   ],
   "source": [
    "#What does it look like?\n",
    "rain_cso_df.head()"
   ]
  },
  {
   "cell_type": "markdown",
   "metadata": {},
   "source": [
    "The variables of interest are (in/hr), which is rain fall in inches/hr, and (MG/Hour) which is outflow from the CSOs in millions of gallons per hour. (*Confirm this*).  The pathogens here, Fecal Coliform and Enterococcus, are estimates of the discharge from the CSO, not the waterway concentrations I'm utlimately interested in.\n",
    "\n",
    "The first step is to break out the data from different stations."
   ]
  },
  {
   "cell_type": "code",
   "execution_count": 5,
   "metadata": {
    "collapsed": false
   },
   "outputs": [
    {
     "data": {
      "text/plain": [
       "array([u'CI-601', u'CI-602', u'OH-015', u'OH-21C', u'OH-21S', u'OH-875'], dtype=object)"
      ]
     },
     "execution_count": 5,
     "metadata": {},
     "output_type": "execute_result"
    }
   ],
   "source": [
    "#Unique station IDs in the data set... there are only two CSOs we are concerned with\n",
    "np.unique(rain_cso_df['Station ID'])"
   ]
  },
  {
   "cell_type": "code",
   "execution_count": 6,
   "metadata": {
    "collapsed": false
   },
   "outputs": [
    {
     "data": {
      "text/plain": [
       "(525888, 6)"
      ]
     },
     "execution_count": 6,
     "metadata": {},
     "output_type": "execute_result"
    }
   ],
   "source": [
    "rain_cso_df.shape"
   ]
  },
  {
   "cell_type": "markdown",
   "metadata": {},
   "source": [
    "*Probably the optimal way to do this is to actually make two columns in this dataframe for the two CSOs, if all the times are the same, and then add in all the water quality data to the same dataframe... the times are the same, so this seems the way to go.  Rainfalls are also the same, so this only needs done once as well*"
   ]
  },
  {
   "cell_type": "code",
   "execution_count": 7,
   "metadata": {
    "collapsed": false
   },
   "outputs": [],
   "source": [
    "#Start off dataframe by subsetting to only one of the repetitions of the year series\n",
    "cso_qual_df = rain_cso_df.filter(['Year'])\n",
    "mask = rain_cso_df['Station ID'].isin(['OH-21C'])\n",
    "cso_qual_df = cso_qual_df[mask]\n",
    "cso_name = 'CSO OH-21C MG/hr'\n",
    "\n",
    "cso_qual_df[cso_name] = rain_cso_df[rain_cso_df['Station ID'].isin(['OH-21C'])]['(MG/Hour)']\n",
    "cso_qual_df['Rain, in/hr'] = rain_cso_df[rain_cso_df['Station ID'].isin(['OH-21C'])]['(in/hr)']"
   ]
  },
  {
   "cell_type": "code",
   "execution_count": 8,
   "metadata": {
    "collapsed": false
   },
   "outputs": [
    {
     "data": {
      "text/plain": [
       "(87648, 3)"
      ]
     },
     "execution_count": 8,
     "metadata": {},
     "output_type": "execute_result"
    }
   ],
   "source": [
    "cso_qual_df.shape"
   ]
  },
  {
   "cell_type": "code",
   "execution_count": 9,
   "metadata": {
    "collapsed": false
   },
   "outputs": [],
   "source": [
    "#Create array of datetime objects to use in dataframe index, and for plotting\n",
    "#Include rounding of days for whole number hours\n",
    "\n",
    "helper = np.vectorize(lambda x: datetime.timedelta(hours=x))\n",
    "start_day = datetime.datetime(2002, 1, 1)\n",
    "#Change index to hours from days and round to whole hours\n",
    "cso_qual_df.index = np.round(cso_qual_df.index.values*24.)\n",
    "time_array = helper(cso_qual_df.index) + start_day\n",
    "cso_qual_df.index = time_array"
   ]
  },
  {
   "cell_type": "code",
   "execution_count": 10,
   "metadata": {
    "collapsed": false
   },
   "outputs": [
    {
     "data": {
      "text/html": [
       "<div>\n",
       "<style>\n",
       "    .dataframe thead tr:only-child th {\n",
       "        text-align: right;\n",
       "    }\n",
       "\n",
       "    .dataframe thead th {\n",
       "        text-align: left;\n",
       "    }\n",
       "\n",
       "    .dataframe tbody tr th {\n",
       "        vertical-align: top;\n",
       "    }\n",
       "</style>\n",
       "<table border=\"1\" class=\"dataframe\">\n",
       "  <thead>\n",
       "    <tr style=\"text-align: right;\">\n",
       "      <th></th>\n",
       "      <th>Year</th>\n",
       "      <th>CSO OH-21C MG/hr</th>\n",
       "      <th>Rain, in/hr</th>\n",
       "    </tr>\n",
       "  </thead>\n",
       "  <tbody>\n",
       "    <tr>\n",
       "      <th>2002-01-01 00:00:00</th>\n",
       "      <td>2002</td>\n",
       "      <td>0.0</td>\n",
       "      <td>0.0</td>\n",
       "    </tr>\n",
       "    <tr>\n",
       "      <th>2002-01-01 01:00:00</th>\n",
       "      <td>2002</td>\n",
       "      <td>0.0</td>\n",
       "      <td>0.0</td>\n",
       "    </tr>\n",
       "    <tr>\n",
       "      <th>2002-01-01 02:00:00</th>\n",
       "      <td>2002</td>\n",
       "      <td>0.0</td>\n",
       "      <td>0.0</td>\n",
       "    </tr>\n",
       "    <tr>\n",
       "      <th>2002-01-01 03:00:00</th>\n",
       "      <td>2002</td>\n",
       "      <td>0.0</td>\n",
       "      <td>0.0</td>\n",
       "    </tr>\n",
       "    <tr>\n",
       "      <th>2002-01-01 04:00:00</th>\n",
       "      <td>2002</td>\n",
       "      <td>0.0</td>\n",
       "      <td>0.0</td>\n",
       "    </tr>\n",
       "  </tbody>\n",
       "</table>\n",
       "</div>"
      ],
      "text/plain": [
       "                     Year  CSO OH-21C MG/hr  Rain, in/hr\n",
       "2002-01-01 00:00:00  2002               0.0          0.0\n",
       "2002-01-01 01:00:00  2002               0.0          0.0\n",
       "2002-01-01 02:00:00  2002               0.0          0.0\n",
       "2002-01-01 03:00:00  2002               0.0          0.0\n",
       "2002-01-01 04:00:00  2002               0.0          0.0"
      ]
     },
     "execution_count": 10,
     "metadata": {},
     "output_type": "execute_result"
    }
   ],
   "source": [
    "cso_qual_df.head()"
   ]
  },
  {
   "cell_type": "code",
   "execution_count": 11,
   "metadata": {
    "collapsed": false
   },
   "outputs": [
    {
     "data": {
      "text/html": [
       "<div>\n",
       "<style>\n",
       "    .dataframe thead tr:only-child th {\n",
       "        text-align: right;\n",
       "    }\n",
       "\n",
       "    .dataframe thead th {\n",
       "        text-align: left;\n",
       "    }\n",
       "\n",
       "    .dataframe tbody tr th {\n",
       "        vertical-align: top;\n",
       "    }\n",
       "</style>\n",
       "<table border=\"1\" class=\"dataframe\">\n",
       "  <thead>\n",
       "    <tr style=\"text-align: right;\">\n",
       "      <th></th>\n",
       "      <th>Year</th>\n",
       "      <th>CSO OH-21C MG/hr</th>\n",
       "      <th>Rain, in/hr</th>\n",
       "    </tr>\n",
       "  </thead>\n",
       "  <tbody>\n",
       "    <tr>\n",
       "      <th>2011-12-31 19:00:00</th>\n",
       "      <td>2011</td>\n",
       "      <td>0.0</td>\n",
       "      <td>0.0</td>\n",
       "    </tr>\n",
       "    <tr>\n",
       "      <th>2011-12-31 20:00:00</th>\n",
       "      <td>2011</td>\n",
       "      <td>0.0</td>\n",
       "      <td>0.0</td>\n",
       "    </tr>\n",
       "    <tr>\n",
       "      <th>2011-12-31 21:00:00</th>\n",
       "      <td>2011</td>\n",
       "      <td>0.0</td>\n",
       "      <td>0.0</td>\n",
       "    </tr>\n",
       "    <tr>\n",
       "      <th>2011-12-31 22:00:00</th>\n",
       "      <td>2011</td>\n",
       "      <td>0.0</td>\n",
       "      <td>0.0</td>\n",
       "    </tr>\n",
       "    <tr>\n",
       "      <th>2011-12-31 23:00:00</th>\n",
       "      <td>2011</td>\n",
       "      <td>0.0</td>\n",
       "      <td>0.0</td>\n",
       "    </tr>\n",
       "  </tbody>\n",
       "</table>\n",
       "</div>"
      ],
      "text/plain": [
       "                     Year  CSO OH-21C MG/hr  Rain, in/hr\n",
       "2011-12-31 19:00:00  2011               0.0          0.0\n",
       "2011-12-31 20:00:00  2011               0.0          0.0\n",
       "2011-12-31 21:00:00  2011               0.0          0.0\n",
       "2011-12-31 22:00:00  2011               0.0          0.0\n",
       "2011-12-31 23:00:00  2011               0.0          0.0"
      ]
     },
     "execution_count": 11,
     "metadata": {},
     "output_type": "execute_result"
    }
   ],
   "source": [
    "cso_qual_df.tail()"
   ]
  },
  {
   "cell_type": "markdown",
   "metadata": {},
   "source": [
    "Now that I've got the data for the CSO of interest broken out into its own dataframe, I do some exploratory visualization.  First, how often do overflows?  I plot the time series for all ten years."
   ]
  },
  {
   "cell_type": "code",
   "execution_count": 12,
   "metadata": {
    "collapsed": false
   },
   "outputs": [
    {
     "data": {
      "text/plain": [
       "<matplotlib.text.Text at 0x119aa1810>"
      ]
     },
     "execution_count": 12,
     "metadata": {},
     "output_type": "execute_result"
    },
    {
     "data": {
      "image/png": "[encoded data removed]",
      "text/plain": [
       "<matplotlib.figure.Figure at 0x119a78350>"
      ]
     },
     "metadata": {},
     "output_type": "display_data"
    }
   ],
   "source": [
    "#Visualize CSO flow over time across the ten years\n",
    "#Plots of CSO outflow over time for both CSOs\n",
    "plt.plot(time_array, cso_qual_df[cso_name])\n",
    "plt.title(cso_name)"
   ]
  },
  {
   "cell_type": "markdown",
   "metadata": {},
   "source": [
    "The CSO appears to overflow on a regular basis over the 10 years.  I take a closer look, at a two day period, of both CSO flow and rainfall:"
   ]
  },
  {
   "cell_type": "code",
   "execution_count": 13,
   "metadata": {
    "collapsed": true
   },
   "outputs": [],
   "source": [
    "#Mask time series for closer look at data\n",
    "plot_index = 0 #0 or 1 for either CSO\n",
    "\n",
    "#Begin and end times for mask\n",
    "mask_start_time = datetime.datetime(2011, 8, 27)\n",
    "mask_end_time = datetime.datetime(2011, 8, 29)\n",
    "\n",
    "#Vectorized way to apply test to every item of the list for a mask array\n",
    "mask_series = np.vectorize(lambda testday, begin, stop: (testday >= begin) & (testday <= stop))\n",
    "mask = mask_series(time_array, mask_start_time, mask_end_time)"
   ]
  },
  {
   "cell_type": "code",
   "execution_count": 14,
   "metadata": {
    "collapsed": false
   },
   "outputs": [
    {
     "data": {
      "image/png": "[encoded data removed]",
      "text/plain": [
       "<matplotlib.figure.Figure at 0x11a56e690>"
      ]
     },
     "metadata": {},
     "output_type": "display_data"
    }
   ],
   "source": [
    "#Plot the rainfall and CSO outflow series\n",
    "\n",
    "# create the general figure\n",
    "fig1 = plt.figure()\n",
    "font_size = 14\n",
    " \n",
    "# and the first axes using subplot populated with data \n",
    "ax1 = fig1.add_subplot(111)\n",
    "line1 = ax1.plot(time_array[mask], \\\n",
    "                 cso_qual_df['Rain, in/hr'][mask], 'bx')\n",
    "plt.ylabel(\"Rainfall at JFK (inches/hour)\", fontsize=font_size)\n",
    " \n",
    "# now, the second axes that shares the x-axis with the ax1\n",
    "ax2 = fig1.add_subplot(111, sharex=ax1, frameon=False)\n",
    "line2 = ax2.plot(time_array[mask], \\\n",
    "                 cso_qual_df[cso_name][mask], 'rx')\n",
    "ax2.yaxis.tick_right()\n",
    "ax2.yaxis.set_label_position(\"right\")\n",
    "plt.ylabel(cso_name, fontsize=font_size)\n",
    "\n",
    "#Adjust tick labels\n",
    "labels = ax1.get_xticklabels()\n",
    "plt.setp(labels, rotation=90, fontsize=font_size)\n",
    "labels = ax2.get_xticklabels()\n",
    "plt.setp(labels, rotation=90, fontsize=font_size)\n",
    "ax1.tick_params(labelsize=font_size)\n",
    "\n",
    "#Make legend using proxy artist\n",
    "blue_patch = mpl.patches.Patch(color='blue', label='Rainfall')\n",
    "red_patch = mpl.patches.Patch(color='red', label='CSO outflow')\n",
    "plt.legend(handles=[blue_patch, red_patch])\n",
    "\n",
    "# plt.title(cso_names[plot_index])\n",
    "\n",
    "plt.show()"
   ]
  },
  {
   "cell_type": "markdown",
   "metadata": {},
   "source": [
    "It seems clear that rainfall events happen about the same time as overflow events.  It also looks like the overflow lasts a little while after the end of the rain event.  This makes sense because the sewer system would be full of storm water and sanitary sewage, and need some time to drain.\n",
    "\n",
    "Now to get a broader view of what the relation of rainfall to CSO outflow is, I look at a scatter plots between these two variables over the 10 year time frame and calculate the correlation coefficient."
   ]
  },
  {
   "cell_type": "code",
   "execution_count": 15,
   "metadata": {
    "collapsed": false
   },
   "outputs": [],
   "source": [
    "#Define a little function to plot any column against rainfall as a scatter and display\n",
    "#correlation, and use it twice\n",
    "def cso_scatter(column_name):\n",
    "    title_str = column_name + ': r = {:0.2f}'.format(\\\n",
    "          cso_qual_df['Rain, in/hr'].\\\n",
    "          corr(cso_qual_df[column_name]))\n",
    "    cso_qual_df.plot.scatter(x='Rain, in/hr', y=column_name)\n",
    "    plt.title(title_str)\n",
    "    "
   ]
  },
  {
   "cell_type": "code",
   "execution_count": 16,
   "metadata": {
    "collapsed": false
   },
   "outputs": [
    {
     "data": {
      "image/png": "[encoded data removed]",
      "text/plain": [
       "<matplotlib.figure.Figure at 0x11a5c8410>"
      ]
     },
     "metadata": {},
     "output_type": "display_data"
    }
   ],
   "source": [
    "cso_scatter(cso_name)"
   ]
  },
  {
   "cell_type": "markdown",
   "metadata": {},
   "source": [
    "Concurrent rainfall and CSO overflows are highly correlated.  In order to alert the public to when CSOs are happening, I could simply propose to let them know any time it was raining.  However since I saw that a CSO event could last after a rainfall event, a better approach is likely possible, using not only current, but historical rainfall data as well.  In the next section, I implement the NYC DEP's existing baseline model for this. Then in the following section, I explore another approach.\n",
    "\n",
    "## Framing as a classification problem\n",
    "\n",
    "First, though, as a final data exploration step, I binarize the cso outflow data:  any time when a CSO is occurring is labeled \"1\", and when it's not occuring is labeled \"0\".  This facilitates modeling with the ultimate deliverable in mind:  a warning system for when CSOs are occurring, versus when they're not."
   ]
  },
  {
   "cell_type": "markdown",
   "metadata": {},
   "source": [
    "First I explore the class proportion of this classification problem:"
   ]
  },
  {
   "cell_type": "code",
   "execution_count": 17,
   "metadata": {
    "collapsed": false
   },
   "outputs": [
    {
     "name": "stdout",
     "output_type": "stream",
     "text": [
      "Fraction of CSO events in data set 1 is 0.01343\n"
     ]
    }
   ],
   "source": [
    "cso_occur = np.sum(cso_qual_df[cso_name]>0)\n",
    "print('Fraction of CSO events in data set 1 is {:0.5f}'\\\n",
    "      .format(np.float(cso_occur)/len(cso_qual_df[cso_name].values)))"
   ]
  },
  {
   "cell_type": "markdown",
   "metadata": {},
   "source": [
    "There is a large class imbalance here.  This is challenging in classification, and may make it difficult to detect events.  If recovery of true positives, i.e. successfully identifying times of events, is low, this may require action.  I will assess this later.  For now I binarize the CSO outflow data:"
   ]
  },
  {
   "cell_type": "code",
   "execution_count": 18,
   "metadata": {
    "collapsed": false
   },
   "outputs": [],
   "source": [
    "cso_qual_df.loc[cso_qual_df[cso_name] > 0, cso_name] = 1"
   ]
  },
  {
   "cell_type": "code",
   "execution_count": 19,
   "metadata": {
    "collapsed": false
   },
   "outputs": [],
   "source": [
    "# cso_qual_df.head(1000)"
   ]
  },
  {
   "cell_type": "markdown",
   "metadata": {
    "collapsed": true
   },
   "source": [
    "# Baseline method for predicting CSO events\n",
    "\n",
    "The NYC DEP's method for calculating combined sewer overflow events is based on the amount of time during and after a rainfall event.  A rainfall event is defined as any period of rainfall that is separated by at least four hours from another period of rainfall.  The rainfall events are contained in a spreadsheet which I load here:"
   ]
  },
  {
   "cell_type": "code",
   "execution_count": 20,
   "metadata": {
    "collapsed": false
   },
   "outputs": [],
   "source": [
    "# #Load rainfall events data\n",
    "# fname = '2002 to 2011 Storm Event Summary.xlsx'\n",
    "# rain_events_df = pd.read_excel(path + fname, sheetname='2002 to 2011 Summary', header=0, \\\n",
    "#                     index_col=0)\n",
    "\n",
    "#Pickle\n",
    "# rain_events_df.to_pickle(path + 'rain_events_df.pkl')\n",
    "rain_events_df = pd.read_pickle(path + 'rain_events_df.pkl')"
   ]
  },
  {
   "cell_type": "code",
   "execution_count": 21,
   "metadata": {
    "collapsed": false
   },
   "outputs": [
    {
     "data": {
      "text/html": [
       "<div>\n",
       "<style>\n",
       "    .dataframe thead tr:only-child th {\n",
       "        text-align: right;\n",
       "    }\n",
       "\n",
       "    .dataframe thead th {\n",
       "        text-align: left;\n",
       "    }\n",
       "\n",
       "    .dataframe tbody tr th {\n",
       "        vertical-align: top;\n",
       "    }\n",
       "</style>\n",
       "<table border=\"1\" class=\"dataframe\">\n",
       "  <thead>\n",
       "    <tr style=\"text-align: right;\">\n",
       "      <th></th>\n",
       "      <th>Event End</th>\n",
       "      <th>Event Duration (hrs)</th>\n",
       "      <th>Peak Intensity (in/hour)</th>\n",
       "      <th>Total Rainfall depth                 (in)</th>\n",
       "      <th>Time of Peak</th>\n",
       "    </tr>\n",
       "    <tr>\n",
       "      <th>Event Start</th>\n",
       "      <th></th>\n",
       "      <th></th>\n",
       "      <th></th>\n",
       "      <th></th>\n",
       "      <th></th>\n",
       "    </tr>\n",
       "  </thead>\n",
       "  <tbody>\n",
       "    <tr>\n",
       "      <th>2002-01-06 17:00:00</th>\n",
       "      <td>2002-01-06 22:00:00</td>\n",
       "      <td>5.0</td>\n",
       "      <td>0.26</td>\n",
       "      <td>0.75</td>\n",
       "      <td>2002-01-06 19:00:00</td>\n",
       "    </tr>\n",
       "    <tr>\n",
       "      <th>2002-01-07 12:00:00</th>\n",
       "      <td>2002-01-07 13:00:00</td>\n",
       "      <td>1.0</td>\n",
       "      <td>0.01</td>\n",
       "      <td>0.01</td>\n",
       "      <td>2002-01-07 12:00:00</td>\n",
       "    </tr>\n",
       "    <tr>\n",
       "      <th>2002-01-07 17:00:00</th>\n",
       "      <td>2002-01-07 21:00:00</td>\n",
       "      <td>4.0</td>\n",
       "      <td>0.01</td>\n",
       "      <td>0.04</td>\n",
       "      <td>2002-01-07 17:00:00</td>\n",
       "    </tr>\n",
       "    <tr>\n",
       "      <th>2002-01-09 10:00:00</th>\n",
       "      <td>2002-01-09 15:00:00</td>\n",
       "      <td>5.0</td>\n",
       "      <td>0.04</td>\n",
       "      <td>0.10</td>\n",
       "      <td>2002-01-09 14:00:00</td>\n",
       "    </tr>\n",
       "    <tr>\n",
       "      <th>2002-01-11 07:00:00</th>\n",
       "      <td>2002-01-11 13:00:00</td>\n",
       "      <td>6.0</td>\n",
       "      <td>0.06</td>\n",
       "      <td>0.21</td>\n",
       "      <td>2002-01-11 09:00:00</td>\n",
       "    </tr>\n",
       "  </tbody>\n",
       "</table>\n",
       "</div>"
      ],
      "text/plain": [
       "                              Event End  Event Duration (hrs)  \\\n",
       "Event Start                                                     \n",
       "2002-01-06 17:00:00 2002-01-06 22:00:00                   5.0   \n",
       "2002-01-07 12:00:00 2002-01-07 13:00:00                   1.0   \n",
       "2002-01-07 17:00:00 2002-01-07 21:00:00                   4.0   \n",
       "2002-01-09 10:00:00 2002-01-09 15:00:00                   5.0   \n",
       "2002-01-11 07:00:00 2002-01-11 13:00:00                   6.0   \n",
       "\n",
       "                     Peak Intensity (in/hour)  \\\n",
       "Event Start                                     \n",
       "2002-01-06 17:00:00                      0.26   \n",
       "2002-01-07 12:00:00                      0.01   \n",
       "2002-01-07 17:00:00                      0.01   \n",
       "2002-01-09 10:00:00                      0.04   \n",
       "2002-01-11 07:00:00                      0.06   \n",
       "\n",
       "                     Total Rainfall depth                 (in)  \\\n",
       "Event Start                                                      \n",
       "2002-01-06 17:00:00                                       0.75   \n",
       "2002-01-07 12:00:00                                       0.01   \n",
       "2002-01-07 17:00:00                                       0.04   \n",
       "2002-01-09 10:00:00                                       0.10   \n",
       "2002-01-11 07:00:00                                       0.21   \n",
       "\n",
       "                           Time of Peak  \n",
       "Event Start                              \n",
       "2002-01-06 17:00:00 2002-01-06 19:00:00  \n",
       "2002-01-07 12:00:00 2002-01-07 12:00:00  \n",
       "2002-01-07 17:00:00 2002-01-07 17:00:00  \n",
       "2002-01-09 10:00:00 2002-01-09 14:00:00  \n",
       "2002-01-11 07:00:00 2002-01-11 09:00:00  "
      ]
     },
     "execution_count": 21,
     "metadata": {},
     "output_type": "execute_result"
    }
   ],
   "source": [
    "#Drop unnecessary rows, show head of dataframe\n",
    "rain_events_df.drop(rain_events_df.index[[0, 1, 2, 3]], inplace=True)\n",
    "rain_events_df.head()"
   ]
  },
  {
   "cell_type": "markdown",
   "metadata": {},
   "source": [
    "The baseline model assumes CSO events happen for a period of twelve hours after the end of each rain event.  This is implemented here as an array of 1's, for times during a CSO event, and 0's elsewhere."
   ]
  },
  {
   "cell_type": "code",
   "execution_count": 22,
   "metadata": {
    "collapsed": false
   },
   "outputs": [],
   "source": [
    "#Boolean mask with location in the cso_qual_df of where rain event end times are\n",
    "#This has length the same as cso_qual_df and sum equal to the length of rain_events_df\n",
    "event_end_mask = cso_qual_df.index.isin(rain_events_df['Event End'].values)\n",
    "#Integer indices of the above, event_end_indices[0] has length equal to rain_events_df\n",
    "event_end_indices = np.nonzero(event_end_mask)\n",
    "\n",
    "#Get same for event start times\n",
    "event_start_mask = cso_qual_df.index.isin(rain_events_df.index.values)\n",
    "event_start_indices = np.nonzero(event_start_mask)\n"
   ]
  },
  {
   "cell_type": "code",
   "execution_count": 23,
   "metadata": {
    "collapsed": false
   },
   "outputs": [],
   "source": [
    "# event_start_indices[0]"
   ]
  },
  {
   "cell_type": "code",
   "execution_count": 24,
   "metadata": {
    "collapsed": false
   },
   "outputs": [],
   "source": [
    "# event_end_indices"
   ]
  },
  {
   "cell_type": "code",
   "execution_count": 25,
   "metadata": {
    "collapsed": false
   },
   "outputs": [],
   "source": [
    "#The baseline model for when there is a CSO happening.  Start with all zeros\n",
    "baseline_cso = np.zeros(cso_qual_df.shape[0])\n",
    "#Then for every index in event_end_indices, make that element and the subsequent eleven elements into ones\n",
    "for event_start_index, event_end_index in zip(event_start_indices[0], event_end_indices[0]):\n",
    "    baseline_cso[event_start_index:event_end_index+12] = 1\n",
    "# sum(baseline_cso)/12 = 1128.1666666666667, while len(rain_events_df) = 1191\n",
    "#seems to imply some rain events start before the 12 hours after the last one is over"
   ]
  },
  {
   "cell_type": "markdown",
   "metadata": {},
   "source": [
    "Now I have the baseline model, which is the same for all CSOs.  I calculate the accuracy as fraction of model values that are correct."
   ]
  },
  {
   "cell_type": "code",
   "execution_count": 26,
   "metadata": {
    "collapsed": false
   },
   "outputs": [
    {
     "name": "stdout",
     "output_type": "stream",
     "text": [
      "Accuracy of baseline model: 0.78\n"
     ]
    }
   ],
   "source": [
    "baseline_acc = np.empty(2,)\n",
    "baseline_acc = sum(cso_qual_df[cso_name].values == baseline_cso)/np.float(len(baseline_cso))\n",
    "\n",
    "print('Accuracy of baseline model: {:0.2f}'.format(baseline_acc))"
   ]
  },
  {
   "cell_type": "markdown",
   "metadata": {},
   "source": [
    "Perhaps more important than accuracy for this problem are the true and false positive rates.  These are the fraction of times when the warning system would correctly warn of an overflow, or incorrectly warn when there is not actually an overflow, respectively."
   ]
  },
  {
   "cell_type": "code",
   "execution_count": 27,
   "metadata": {
    "collapsed": false
   },
   "outputs": [
    {
     "name": "stdout",
     "output_type": "stream",
     "text": [
      "(0.22202819442356397, 0.84112149532710279, 86471, 1177)\n"
     ]
    }
   ],
   "source": [
    "#True positive rate\n",
    "#true positives/positives\n",
    "#False positive rate = n false positives / total negatives\n",
    "n_false_pos = sum( (cso_qual_df[cso_name].values==0) & (baseline_cso==1) )\n",
    "n_true_pos = sum( (cso_qual_df[cso_name].values==1) & (baseline_cso==1) )\n",
    "total_neg = sum(cso_qual_df[cso_name].values==0)\n",
    "total_pos = sum(cso_qual_df[cso_name].values==1)\n",
    "false_pos_rate = n_false_pos/np.float(total_neg)\n",
    "true_pos_rate = n_true_pos/np.float(total_pos)\n",
    "\n",
    "print(false_pos_rate, true_pos_rate, total_neg, total_pos)"
   ]
  },
  {
   "cell_type": "markdown",
   "metadata": {},
   "source": [
    "So the baseline model has a false positive rate of 22%, and true positive rate of 84%."
   ]
  },
  {
   "cell_type": "markdown",
   "metadata": {},
   "source": [
    "# New model of CSO flow using rainfall and tide data"
   ]
  },
  {
   "cell_type": "markdown",
   "metadata": {},
   "source": [
    "I adopt several machine learning approaches here.  First, I split the data into training and testing tests.  More specifically, for the 10 years of data, I take the first nine years and use 9-fold cross validation for model tuning.  The last year will serve as the test set."
   ]
  },
  {
   "cell_type": "code",
   "execution_count": 28,
   "metadata": {
    "collapsed": false
   },
   "outputs": [
    {
     "name": "stdout",
     "output_type": "stream",
     "text": [
      "(array([2002, 2003, 2004, 2005, 2006, 2007, 2008, 2009, 2010, 2011]), 'length', 10)\n"
     ]
    }
   ],
   "source": [
    "#Split data into 10 separate years; do this for both CSOs.\n",
    "#Training data will be 1st through 9th years, testing is 10th.\n",
    "\n",
    "#Get unique years\n",
    "un_years = np.unique(cso_qual_df['Year'])\n",
    "print(un_years, 'length', len(un_years))"
   ]
  },
  {
   "cell_type": "markdown",
   "metadata": {},
   "source": [
    "Next, I load additional data.  Since combined sewer overflows are affected by tides as well as rainfall, I include this as a predictor."
   ]
  },
  {
   "cell_type": "code",
   "execution_count": 29,
   "metadata": {
    "collapsed": false
   },
   "outputs": [
    {
     "data": {
      "text/html": [
       "<div>\n",
       "<style>\n",
       "    .dataframe thead tr:only-child th {\n",
       "        text-align: right;\n",
       "    }\n",
       "\n",
       "    .dataframe thead th {\n",
       "        text-align: left;\n",
       "    }\n",
       "\n",
       "    .dataframe tbody tr th {\n",
       "        vertical-align: top;\n",
       "    }\n",
       "</style>\n",
       "<table border=\"1\" class=\"dataframe\">\n",
       "  <thead>\n",
       "    <tr style=\"text-align: right;\">\n",
       "      <th></th>\n",
       "      <th>Year</th>\n",
       "      <th>CSO OH-21C MG/hr</th>\n",
       "      <th>Rain, in/hr</th>\n",
       "      <th>Tide prediction (ft)</th>\n",
       "      <th>Air temp (F)</th>\n",
       "    </tr>\n",
       "  </thead>\n",
       "  <tbody>\n",
       "    <tr>\n",
       "      <th>2002-01-01 00:00:00</th>\n",
       "      <td>2002</td>\n",
       "      <td>0.0</td>\n",
       "      <td>0.0</td>\n",
       "      <td>1.497</td>\n",
       "      <td>25.00</td>\n",
       "    </tr>\n",
       "    <tr>\n",
       "      <th>2002-01-01 01:00:00</th>\n",
       "      <td>2002</td>\n",
       "      <td>0.0</td>\n",
       "      <td>0.0</td>\n",
       "      <td>0.395</td>\n",
       "      <td>24.00</td>\n",
       "    </tr>\n",
       "    <tr>\n",
       "      <th>2002-01-01 02:00:00</th>\n",
       "      <td>2002</td>\n",
       "      <td>0.0</td>\n",
       "      <td>0.0</td>\n",
       "      <td>-0.360</td>\n",
       "      <td>24.85</td>\n",
       "    </tr>\n",
       "    <tr>\n",
       "      <th>2002-01-01 03:00:00</th>\n",
       "      <td>2002</td>\n",
       "      <td>0.0</td>\n",
       "      <td>0.0</td>\n",
       "      <td>-0.539</td>\n",
       "      <td>23.85</td>\n",
       "    </tr>\n",
       "    <tr>\n",
       "      <th>2002-01-01 04:00:00</th>\n",
       "      <td>2002</td>\n",
       "      <td>0.0</td>\n",
       "      <td>0.0</td>\n",
       "      <td>0.111</td>\n",
       "      <td>22.85</td>\n",
       "    </tr>\n",
       "  </tbody>\n",
       "</table>\n",
       "</div>"
      ],
      "text/plain": [
       "                     Year  CSO OH-21C MG/hr  Rain, in/hr  \\\n",
       "2002-01-01 00:00:00  2002               0.0          0.0   \n",
       "2002-01-01 01:00:00  2002               0.0          0.0   \n",
       "2002-01-01 02:00:00  2002               0.0          0.0   \n",
       "2002-01-01 03:00:00  2002               0.0          0.0   \n",
       "2002-01-01 04:00:00  2002               0.0          0.0   \n",
       "\n",
       "                     Tide prediction (ft)  Air temp (F)  \n",
       "2002-01-01 00:00:00                 1.497         25.00  \n",
       "2002-01-01 01:00:00                 0.395         24.00  \n",
       "2002-01-01 02:00:00                -0.360         24.85  \n",
       "2002-01-01 03:00:00                -0.539         23.85  \n",
       "2002-01-01 04:00:00                 0.111         22.85  "
      ]
     },
     "execution_count": 29,
     "metadata": {},
     "output_type": "execute_result"
    }
   ],
   "source": [
    "# load tides/temps data and add\n",
    "tides_temps_df = pd.read_pickle('./addl_climate_data/tides_temps_df.pkl')\n",
    "# merge; should have same index\n",
    "cso_qual_df = cso_qual_df.merge(tides_temps_df, how='inner', left_index=True, right_index=True)\n",
    "cso_qual_df.head()"
   ]
  },
  {
   "cell_type": "markdown",
   "metadata": {},
   "source": [
    "## Modeling approach\n",
    "I use a classification version of a time series regression model called distributed lag (https://en.wikipedia.org/wiki/Distributed_lag).  The idea is that the dependent variable at the current time step is a linear regression of the predictors at the current time step, as well as some number of previous time steps.  However in this case the dependent variable is binary (i.e. CSO outflow is happening or not) so instead of linear regression I use logistic regression.  An advantage of this approach is that it directly calculates the probability of the outcome of interest (outflow happening or not), and allows for tuning of the treshold probability to predict the event, providing control over true/false positive rates.\n",
    "\n",
    "Here I define model training and testing functions.  The training function serves to fit a model for each fold in the training set.  For example, it will fit a model using 2003-2011 data, which will be tested on 2002 data.  Based on the number of lags and which predictors are specified, the training function will create a data frame for internal function use, with additional columns for each time lag, for each predictor."
   ]
  },
  {
   "cell_type": "code",
   "execution_count": 30,
   "metadata": {
    "collapsed": false
   },
   "outputs": [],
   "source": [
    "#Inputs\n",
    "#model: sklearn model for traning and testing\n",
    "#lag_order: positive integer, number of time lags (hours) to include in addition to current point in model\n",
    "#column_to_model: string, column name from Pandas dataframe that will be used as response variable\n",
    "#predictors: list of strings, column names from Pandas dataframe that will be used as predictors\n",
    "#\n",
    "#Outputs\n",
    "#est: list of trained sklearn model objects\n",
    "\n",
    "def train_model(model, lag_order, column_to_model, predictors):\n",
    "    #Empty list for trained models\n",
    "    est = [None]*len(un_years)\n",
    "\n",
    "    #Loop to train separately on each year\n",
    "    for year_index in range(len(un_years)):\n",
    "        #Subset the data to all but this year, for training\n",
    "        train_data = \\\n",
    "            cso_qual_df[~cso_qual_df['Year'].isin([un_years[year_index]])]\n",
    "            \n",
    "        #Get indices of next year for use below, to get rid of inappropriate lags\n",
    "        #in training data\n",
    "        if (year_index > 0) & (year_index < (len(un_years)-1)):\n",
    "            next_year_indices = train_data['Year'].isin([un_years[year_index+1]])\n",
    "            \n",
    "        #Filter to only include columns used here for model training\n",
    "        filter_columns = predictors[:] #create copy of list of predictors\n",
    "        filter_columns.append(column_to_model) #append the response variable\n",
    "        train_data = train_data.filter(filter_columns, axis=1)\n",
    "\n",
    "        #Create time lagged columns for each predictor\n",
    "        for this_lag in range(1,lag_order+1):\n",
    "            for this_pred in predictors:\n",
    "                train_data.insert\\\n",
    "                    (0, this_pred + ' lag '+ str(this_lag),\\\n",
    "                    train_data[this_pred].shift(this_lag))\n",
    "\n",
    "        #Need to throw out the first 'lag_order' rows of the year after the year\n",
    "        #removed for testing: these lags refer to over a year ago, which doesn't make sense.\n",
    "        #Don't need to do this for the first (since these are already\n",
    "        #removed by removing NaNs) or last (since there is no year after this) years\n",
    "        if (year_index > 0) & (year_index < (len(un_years)-1)):\n",
    "            train_data.drop\\\n",
    "                (train_data.index[np.nonzero(next_year_indices)[0:lag_order+1]], inplace=True)\n",
    "        \n",
    "        #Drop rows with NaNs that were introduced by shifting to get lags\n",
    "        train_data.dropna(axis=0, inplace=True)\n",
    "\n",
    "        #Make arrays of predictors and response\n",
    "        X = train_data.drop([column_to_model], axis=1).values\n",
    "        y = train_data.filter([column_to_model], axis=1).values\n",
    "     \n",
    "        #Fit model in sklearn\n",
    "        est[year_index] = model.fit(X, y)\n",
    "        \n",
    "    #Return list of trained models\n",
    "    return est"
   ]
  },
  {
   "cell_type": "markdown",
   "metadata": {},
   "source": [
    "This testing function should take the same inputs as the corresponding training run, except it takes an array of trained models ('est', output from corresponding training run) instead of an untrained one.  It returns various model fit statistics for each fold."
   ]
  },
  {
   "cell_type": "code",
   "execution_count": 31,
   "metadata": {
    "collapsed": true
   },
   "outputs": [],
   "source": [
    "#Outputs\n",
    "#all_test_proba: list (by year) of arrays of probabilities for each class for each sample\n",
    "#all_test_roc: list (by year) of output from sklearn.metrics.roc_curve function\n",
    "#sklearn_metrics: list (by year) of classification statistics from sklearn.metrics.precision_recall_fscore_support\n",
    "#all_test_acc: array of accuracies for each year\n",
    "\n",
    "def test_model(est, lag_order, column_to_model, predictors):\n",
    "    # Model testing\n",
    "    y_pred = [None]*len(un_years)\n",
    "    y_data = [None]*len(un_years)\n",
    "    sklearn_metrics = [None]*len(un_years)\n",
    "    all_test_proba = [None]*len(un_years)\n",
    "    all_test_roc = [None]*len(un_years)\n",
    "    all_test_acc = np.array([])\n",
    "\n",
    "    #Loop to test each year\n",
    "    for year_index in range(len(un_years)):\n",
    "        #Subset the data to this year for testing\n",
    "        test_data = \\\n",
    "            cso_qual_df[cso_qual_df['Year'].isin([un_years[year_index]])]\n",
    "            \n",
    "        #Filter to only include columns used here for model training\n",
    "        filter_columns = predictors[:] #create copy of list of predictors\n",
    "        filter_columns.append(column_to_model) #append the response variable\n",
    "        test_data = test_data.filter(filter_columns, axis=1)\n",
    "\n",
    "        #Create time lagged columns for predictors in test data\n",
    "        for this_lag in range(1,lag_order+1):\n",
    "            for this_pred in predictors:\n",
    "                test_data.insert\\\n",
    "                    (0, this_pred + ' lag '+ str(this_lag),\\\n",
    "                    test_data[this_pred].shift(this_lag))\n",
    "                  \n",
    "        #Drop rows with NA that were introduced by shifting to get lags\n",
    "        test_data.dropna(axis=0, inplace=True)\n",
    "        \n",
    "        #Get predictors\n",
    "        X = test_data.drop([column_to_model], axis=1).values\n",
    "        #Do prediction\n",
    "        y_pred[year_index] = est[year_index].predict(X)\n",
    "        all_test_proba[year_index] = est[year_index].predict_proba(X)\n",
    "        #Get actual values\n",
    "        y_data[year_index] = \\\n",
    "        test_data.filter([column_to_model], axis=1)[column_to_model].values\n",
    "        #Get roc curve\n",
    "        all_test_roc[year_index] = sklearn.metrics.roc_curve(y_data[year_index], all_test_proba[year_index][:,1])\n",
    "        #Get accuracy, other metrics of prediction\n",
    "        all_test_acc = np.append(all_test_acc, est[year_index].score(X, y_data[year_index]))\n",
    "        sklearn_metrics[year_index] = \\\n",
    "        sklearn.metrics.precision_recall_fscore_support(y_data[year_index], y_pred[year_index])\n",
    "        \n",
    "    return all_test_acc, all_test_proba, all_test_roc, sklearn_metrics"
   ]
  },
  {
   "cell_type": "markdown",
   "metadata": {},
   "source": [
    "Now that the model is defined, I use it to explore how true positive rate changes with the number of lags.  I start with only one predictor:  hourly rainfall.  When defining the logistic regression model object, I ask for an intercept for better fit, for class balancing to be done since there are unbalanced classes, and I set the regularization parameter to be very large since I am being explicit about what predictors are included, as opposed to trying a large number of predictors without knowing which are important."
   ]
  },
  {
   "cell_type": "code",
   "execution_count": 32,
   "metadata": {
    "collapsed": true
   },
   "outputs": [],
   "source": [
    "# #Create a logistic model object for training/testing\n",
    "# from sklearn import linear_model\n",
    "# logistic_reg_model = linear_model.LogisticRegression(fit_intercept = True, class_weight='balanced', C=1000000)\n",
    "\n",
    "# #Try lag orders from 1 to 12\n",
    "# lags_to_try = range(1,13)\n",
    "# all_test_acc = [[]]*len(lags_to_try)\n",
    "# all_test_proba = [[]]*len(lags_to_try)\n",
    "# all_test_roc = [[]]*len(lags_to_try)\n",
    "# sklearn_metrics = [[]]*len(lags_to_try)\n",
    "\n",
    "# for lag_order in lags_to_try:\n",
    "#     est = train_model(model=logistic_reg_model,\\\n",
    "#     lag_order=lag_order,\\\n",
    "#     column_to_model=cso_name,\\\n",
    "#     predictors=['Rain, in/hr'])\n",
    "    \n",
    "#     [all_test_acc[lag_order-1], all_test_proba[lag_order-1],\\\n",
    "#     all_test_roc[lag_order-1], sklearn_metrics[lag_order-1]] = \\\n",
    "#     test_model(est=est,\\\n",
    "#     lag_order=lag_order,\n",
    "#     column_to_model=cso_name,\\\n",
    "#     predictors=['Rain, in/hr'])\n",
    "\n",
    "# #Takes ~20 seconds to run"
   ]
  },
  {
   "cell_type": "markdown",
   "metadata": {},
   "source": [
    "Since the above takes a little while to run, I can run the following cell to save the results locally.  The cell after that loads them."
   ]
  },
  {
   "cell_type": "code",
   "execution_count": 33,
   "metadata": {
    "collapsed": false
   },
   "outputs": [],
   "source": [
    "# #Filename describing what's here\n",
    "# fname = 'metrics_cso_1_preds_lags_1_to_12.pkl'\n",
    "# joblib.dump([lags_to_try, all_test_acc, all_test_proba,\\\n",
    "#             all_test_roc, sklearn_metrics], fname, compress=9)"
   ]
  },
  {
   "cell_type": "code",
   "execution_count": 34,
   "metadata": {
    "collapsed": true
   },
   "outputs": [],
   "source": [
    "fname = 'metrics_cso_1_preds_lags_1_to_12.pkl'\n",
    "[lags_to_try, all_test_acc, all_test_proba,\\\n",
    "            all_test_roc, sklearn_metrics] = joblib.load(fname)"
   ]
  },
  {
   "cell_type": "markdown",
   "metadata": {},
   "source": [
    "## Results\n",
    "Here I plot the average true positive rate, with standard error, for the 9 years of cross validation, for each lag."
   ]
  },
  {
   "cell_type": "code",
   "execution_count": 35,
   "metadata": {
    "collapsed": false
   },
   "outputs": [
    {
     "data": {
      "text/plain": [
       "<matplotlib.text.Text at 0x117c52b90>"
      ]
     },
     "execution_count": 35,
     "metadata": {},
     "output_type": "execute_result"
    },
    {
     "data": {
      "image/png": "[encoded data removed]",
      "text/plain": [
       "<matplotlib.figure.Figure at 0x11a4ac5d0>"
      ]
     },
     "metadata": {},
     "output_type": "display_data"
    }
   ],
   "source": [
    "#Plot of mean and std dev across the cross validation\n",
    "mean_stat = np.array([])\n",
    "std_stat = np.array([])\n",
    "\n",
    "for lag_order in lags_to_try:\n",
    "#     print(lag_order)\n",
    "    this_lag_order_f1 = np.array([])\n",
    "    \n",
    "    for year_index in range(np.shape(sklearn_metrics[lag_order-1])[0]-1):\n",
    "        #Get true positive rate\n",
    "        this_lag_order_f1 = np.append(this_lag_order_f1, sklearn_metrics[lag_order-1][year_index][1][1])\n",
    "    \n",
    "    mean_stat = np.append(mean_stat, np.mean(this_lag_order_f1))\n",
    "    std_stat = np.append(std_stat, np.std(this_lag_order_f1))\n",
    "    \n",
    "# plt.plot(several_lags, mean_r_sq)\n",
    "plt.errorbar(lags_to_try, mean_stat, yerr=std_stat)\n",
    "plt.xlabel('Number of lags')\n",
    "plt.ylabel('Avg true positive rate +/- 1 std')\n",
    "plt.title('')"
   ]
  },
  {
   "cell_type": "markdown",
   "metadata": {},
   "source": [
    "It looks like there is not much additional benefit to including more than 2 lags.  However I know that tides are also relevant to CSO outflows, so I include the tide data as a predictor and redo this analysis."
   ]
  },
  {
   "cell_type": "code",
   "execution_count": 36,
   "metadata": {
    "collapsed": true
   },
   "outputs": [],
   "source": [
    "# #Try lag orders from 1 to 12\n",
    "# lags_to_try = range(1,13)\n",
    "# all_test_acc = [[]]*len(lags_to_try)\n",
    "# all_test_proba = [[]]*len(lags_to_try)\n",
    "# all_test_roc = [[]]*len(lags_to_try)\n",
    "# sklearn_metrics = [[]]*len(lags_to_try)\n",
    "\n",
    "# for lag_order in lags_to_try:\n",
    "#     est = train_model(model=logistic_reg_model,\\\n",
    "#     lag_order=lag_order,\\\n",
    "#     column_to_model=cso_name,\\\n",
    "#     predictors=['Rain, in/hr', 'Tide prediction (ft)'])\n",
    "    \n",
    "#     [all_test_acc[lag_order-1], all_test_proba[lag_order-1],\\\n",
    "#     all_test_roc[lag_order-1], sklearn_metrics[lag_order-1]] = \\\n",
    "#     test_model(est=est,\\\n",
    "#     lag_order=lag_order,\n",
    "#     column_to_model=cso_name,\\\n",
    "#     predictors=['Rain, in/hr', 'Tide prediction (ft)'])"
   ]
  },
  {
   "cell_type": "code",
   "execution_count": 37,
   "metadata": {
    "collapsed": false
   },
   "outputs": [],
   "source": [
    "# #Filename describing what's here\n",
    "# fname = 'metrics_cso_2_preds_lags_1_to_12.pkl'\n",
    "# joblib.dump([lags_to_try, all_test_acc, all_test_proba,\\\n",
    "#             all_test_roc, sklearn_metrics], fname, compress=9)"
   ]
  },
  {
   "cell_type": "code",
   "execution_count": 38,
   "metadata": {
    "collapsed": true
   },
   "outputs": [],
   "source": [
    "fname = 'metrics_cso_2_preds_lags_1_to_12.pkl'\n",
    "[lags_to_try, all_test_acc, all_test_proba,\\\n",
    "            all_test_roc, sklearn_metrics] = joblib.load(fname)"
   ]
  },
  {
   "cell_type": "code",
   "execution_count": 39,
   "metadata": {
    "collapsed": false
   },
   "outputs": [
    {
     "data": {
      "text/plain": [
       "<matplotlib.text.Text at 0x11ab23ed0>"
      ]
     },
     "execution_count": 39,
     "metadata": {},
     "output_type": "execute_result"
    },
    {
     "data": {
      "image/png": "[encoded data removed]",
      "text/plain": [
       "<matplotlib.figure.Figure at 0x11773e350>"
      ]
     },
     "metadata": {},
     "output_type": "display_data"
    }
   ],
   "source": [
    "#Plot of mean and std dev across the cross validation\n",
    "mean_stat = np.array([])\n",
    "std_stat = np.array([])\n",
    "\n",
    "for lag_order in lags_to_try:\n",
    "#     print(lag_order)\n",
    "    this_lag_order_f1 = np.array([])\n",
    "    \n",
    "    for year_index in range(np.shape(sklearn_metrics[lag_order-1])[0]-1):\n",
    "        #Get true positive rate\n",
    "        this_lag_order_f1 = np.append(this_lag_order_f1, sklearn_metrics[lag_order-1][year_index][1][1])\n",
    "    \n",
    "    mean_stat = np.append(mean_stat, np.mean(this_lag_order_f1))\n",
    "    std_stat = np.append(std_stat, np.std(this_lag_order_f1))\n",
    "    \n",
    "# plt.plot(several_lags, mean_r_sq)\n",
    "plt.errorbar(lags_to_try, mean_stat, yerr=std_stat)\n",
    "plt.xlabel('Number of lags')\n",
    "plt.ylabel('Avg true positive rate +/- 1 std')\n",
    "plt.title('')"
   ]
  },
  {
   "cell_type": "markdown",
   "metadata": {},
   "source": [
    "Including tide level as a predictor increases the true positive rate from the high seventies to around 90%.  So this seems like a good idea.  True positive rate increases with lag until about 10 lags; I move forward with 12 lags since the rate is about the same, and wisdom from the baseline approach points to considering 12 hours after a rainfall event.\n",
    "\n",
    "Now that the number of lags and the predictors are determined, I examine the true/false positive rates.  The outputs of the logistic regression are class probabilities for either class (event/non-event), and the threshold for identifying an event can be lowered to increase the true positive rate.  This however comes at the expense of increasing the false positive rate.  This tradeoff can be visualized using what's called an ROC curve:"
   ]
  },
  {
   "cell_type": "code",
   "execution_count": 40,
   "metadata": {
    "collapsed": false
   },
   "outputs": [
    {
     "data": {
      "text/plain": [
       "<matplotlib.text.Text at 0x11ab8e350>"
      ]
     },
     "execution_count": 40,
     "metadata": {},
     "output_type": "execute_result"
    },
    {
     "data": {
      "image/png": "[encoded data removed]",
      "text/plain": [
       "<matplotlib.figure.Figure at 0x11bcf6050>"
      ]
     },
     "metadata": {},
     "output_type": "display_data"
    }
   ],
   "source": [
    "# Plot ROC curve for 12 lags (index 11), choose year.\n",
    "year_to_plot = 0\n",
    "plt.plot(all_test_roc[11][year_to_plot][0], all_test_roc[11][year_to_plot][1], '-x')\n",
    "plt.xlabel('False positive rate')\n",
    "plt.ylabel('True positive rate')"
   ]
  },
  {
   "cell_type": "markdown",
   "metadata": {},
   "source": [
    "Each point on the graph represents a threshold rate, starting with 100% at which no samples are identified as positive, decreasing to 0% at which all samples are identified, resulting in 100% true and false positive rates.  A desirable classifier hugs the upper left corner of this plot; this means the true positive rate (TPR) is fairly high, while the false positive rate (FPR) is low.\n",
    "\n",
    "A TPR of 90% has been indicated, so I examine the corresponding thresholds and FPRs for each year.  First I collect this data, then plot it and note the averages"
   ]
  },
  {
   "cell_type": "code",
   "execution_count": 41,
   "metadata": {
    "collapsed": false
   },
   "outputs": [],
   "source": [
    "want_true_pos = 0.90;\n",
    "\n",
    "actual_true_pos = np.array([])\n",
    "false_pos_rate_for_this_true_pos = np.array([])\n",
    "thresh_for_this_true = np.array([])\n",
    "\n",
    "lag_order = 12\n",
    "\n",
    "for year_index in range((len(un_years))):\n",
    "    #The difference between desired and all true positive rates in the ROC curve\n",
    "    roc_diff = all_test_roc[lag_order-1][year_index][1] - want_true_pos\n",
    "    #Index of the closest to desired\n",
    "    roc_index = np.argmin(np.abs(roc_diff))\n",
    "    actual_true_pos = np.append(actual_true_pos, all_test_roc[lag_order-1][year_index][1][roc_index])\n",
    "    false_pos_rate_for_this_true_pos = np.append(false_pos_rate_for_this_true_pos, all_test_roc[lag_order-1][year_index][0][roc_index])\n",
    "    thresh_for_this_true = np.append(thresh_for_this_true, all_test_roc[lag_order-1][year_index][2][roc_index])\n",
    "    \n",
    "#     #Print percent of negative classifications\n",
    "#     print(sum(all_test_proba[lag_order-1][year_index][:,1] < \\\n",
    "#               thresh_for_this_true[year_index])/np.float(len(all_test_proba[lag_order-1][year_index][:,1])))"
   ]
  },
  {
   "cell_type": "code",
   "execution_count": 42,
   "metadata": {
    "collapsed": false
   },
   "outputs": [
    {
     "data": {
      "text/plain": [
       "array([ 0.896     ,  0.89915966,  0.89705882,  0.8984375 ,  0.8974359 ,\n",
       "        0.89915966,  0.89915966,  0.8989899 ,  0.89655172,  0.90322581])"
      ]
     },
     "execution_count": 42,
     "metadata": {},
     "output_type": "execute_result"
    }
   ],
   "source": [
    "#These should be close to 0.9\n",
    "actual_true_pos"
   ]
  },
  {
   "cell_type": "code",
   "execution_count": 44,
   "metadata": {
    "collapsed": false
   },
   "outputs": [
    {
     "data": {
      "text/plain": [
       "<matplotlib.text.Text at 0x11bd13610>"
      ]
     },
     "execution_count": 44,
     "metadata": {},
     "output_type": "execute_result"
    },
    {
     "data": {
      "image/png": "[encoded data removed]",
      "text/plain": [
       "<matplotlib.figure.Figure at 0x117b1af90>"
      ]
     },
     "metadata": {},
     "output_type": "display_data"
    }
   ],
   "source": [
    "plt.hist(false_pos_rate_for_this_true_pos)\n",
    "plt.xlabel('False positive rate')\n",
    "plt.ylabel('Count')"
   ]
  },
  {
   "cell_type": "code",
   "execution_count": 45,
   "metadata": {
    "collapsed": false
   },
   "outputs": [
    {
     "data": {
      "text/plain": [
       "0.060608998711114012"
      ]
     },
     "execution_count": 45,
     "metadata": {},
     "output_type": "execute_result"
    }
   ],
   "source": [
    "np.mean(false_pos_rate_for_this_true_pos)"
   ]
  },
  {
   "cell_type": "code",
   "execution_count": 46,
   "metadata": {
    "collapsed": false
   },
   "outputs": [
    {
     "data": {
      "text/plain": [
       "0.031307977736549163"
      ]
     },
     "execution_count": 46,
     "metadata": {},
     "output_type": "execute_result"
    }
   ],
   "source": [
    "false_pos_rate_for_this_true_pos[-1]"
   ]
  },
  {
   "cell_type": "markdown",
   "metadata": {},
   "source": [
    "So for a TPR of 90%, higher than the baseline model, the average FPR for the validation data is 6%, lower than the basline model.  The FPR for the final fold, chosen as the testing data, is 3%."
   ]
  },
  {
   "cell_type": "code",
   "execution_count": 48,
   "metadata": {
    "collapsed": false
   },
   "outputs": [
    {
     "data": {
      "text/plain": [
       "<matplotlib.text.Text at 0x117c5f5d0>"
      ]
     },
     "execution_count": 48,
     "metadata": {},
     "output_type": "execute_result"
    },
    {
     "data": {
      "image/png": "[encoded data removed]",
      "text/plain": [
       "<matplotlib.figure.Figure at 0x117b86550>"
      ]
     },
     "metadata": {},
     "output_type": "display_data"
    }
   ],
   "source": [
    "plt.hist(thresh_for_this_true)\n",
    "plt.xlabel('Threshold')\n",
    "plt.ylabel('Count')"
   ]
  },
  {
   "cell_type": "markdown",
   "metadata": {},
   "source": [
    "I note that the thresholds for obtaining 90% TPR are typically above 50%, the default.  Strictly speaking, the training and testing data have been mixed here, since the final year of the ten years was set aside as validation data (although this division is arbitrary).  The threshold for the classifer trained on the first nine years is below; along with the trained logistic regression model, this can be used to take as inputs the rainfall and tides, and output the warning status for the real-time system."
   ]
  },
  {
   "cell_type": "code",
   "execution_count": 49,
   "metadata": {
    "collapsed": false
   },
   "outputs": [
    {
     "data": {
      "text/plain": [
       "0.69890484387773422"
      ]
     },
     "execution_count": 49,
     "metadata": {},
     "output_type": "execute_result"
    }
   ],
   "source": [
    "#Threshold to use with final esimated model (trained on 2002-2010, tested on 2012)\n",
    "thresh_for_this_true[-1]"
   ]
  },
  {
   "cell_type": "markdown",
   "metadata": {},
   "source": [
    "# Exploratory analysis and baseline method for predicting bacteria events\n",
    "\n",
    "The next step is to develop a model for bacteria concentrations.  First I load the data frame with hourly pathogen concentrations.  The pathogen of interest is fecal coliform (FC)."
   ]
  },
  {
   "cell_type": "code",
   "execution_count": 50,
   "metadata": {
    "collapsed": true
   },
   "outputs": [],
   "source": [
    "#Load pathogen data and add it to the data frame\n",
    "\n",
    "# fname = 'ci_baseline_2002_2011pathogen_and_2008dissolved_oxygen_20170509B.xlsx'\n",
    "# patho_df = pd.read_excel(path + fname, sheetname='ten_year_pathogen', header=3, \\\n",
    "#                     index_col=2)\n",
    "\n",
    "#Pickle for faster loading\n",
    "# patho_df.to_pickle(path + 'patho_df.pkl')  # where to save it, usually as a .pkl\n",
    "patho_df = pd.read_pickle(path + 'patho_df.pkl')"
   ]
  },
  {
   "cell_type": "code",
   "execution_count": 51,
   "metadata": {
    "collapsed": false,
    "scrolled": true
   },
   "outputs": [
    {
     "data": {
      "text/html": [
       "<div>\n",
       "<style>\n",
       "    .dataframe thead tr:only-child th {\n",
       "        text-align: right;\n",
       "    }\n",
       "\n",
       "    .dataframe thead th {\n",
       "        text-align: left;\n",
       "    }\n",
       "\n",
       "    .dataframe tbody tr th {\n",
       "        vertical-align: top;\n",
       "    }\n",
       "</style>\n",
       "<table border=\"1\" class=\"dataframe\">\n",
       "  <thead>\n",
       "    <tr style=\"text-align: right;\">\n",
       "      <th></th>\n",
       "      <th>Station ID</th>\n",
       "      <th>Year</th>\n",
       "      <th>Fecal Coliform</th>\n",
       "      <th>Enterococcus</th>\n",
       "      <th>Station ID.1</th>\n",
       "      <th>Fecal Coliform.1</th>\n",
       "      <th>Enterococcus.1</th>\n",
       "      <th>Station ID.2</th>\n",
       "      <th>Fecal Coliform.2</th>\n",
       "      <th>Enterococcus.2</th>\n",
       "      <th>(in/hr)</th>\n",
       "    </tr>\n",
       "    <tr>\n",
       "      <th>(day)</th>\n",
       "      <th></th>\n",
       "      <th></th>\n",
       "      <th></th>\n",
       "      <th></th>\n",
       "      <th></th>\n",
       "      <th></th>\n",
       "      <th></th>\n",
       "      <th></th>\n",
       "      <th></th>\n",
       "      <th></th>\n",
       "      <th></th>\n",
       "    </tr>\n",
       "  </thead>\n",
       "  <tbody>\n",
       "    <tr>\n",
       "      <th>0.00000</th>\n",
       "      <td>CIC2</td>\n",
       "      <td>2002</td>\n",
       "      <td>44</td>\n",
       "      <td>30</td>\n",
       "      <td>CIC3</td>\n",
       "      <td>37</td>\n",
       "      <td>19</td>\n",
       "      <td>GB1</td>\n",
       "      <td>28</td>\n",
       "      <td>7</td>\n",
       "      <td>0.0</td>\n",
       "    </tr>\n",
       "    <tr>\n",
       "      <th>0.04167</th>\n",
       "      <td>CIC2</td>\n",
       "      <td>2002</td>\n",
       "      <td>44</td>\n",
       "      <td>30</td>\n",
       "      <td>CIC3</td>\n",
       "      <td>37</td>\n",
       "      <td>19</td>\n",
       "      <td>GB1</td>\n",
       "      <td>29</td>\n",
       "      <td>7</td>\n",
       "      <td>0.0</td>\n",
       "    </tr>\n",
       "    <tr>\n",
       "      <th>0.08333</th>\n",
       "      <td>CIC2</td>\n",
       "      <td>2002</td>\n",
       "      <td>41</td>\n",
       "      <td>27</td>\n",
       "      <td>CIC3</td>\n",
       "      <td>36</td>\n",
       "      <td>19</td>\n",
       "      <td>GB1</td>\n",
       "      <td>31</td>\n",
       "      <td>8</td>\n",
       "      <td>0.0</td>\n",
       "    </tr>\n",
       "    <tr>\n",
       "      <th>0.12500</th>\n",
       "      <td>CIC2</td>\n",
       "      <td>2002</td>\n",
       "      <td>39</td>\n",
       "      <td>25</td>\n",
       "      <td>CIC3</td>\n",
       "      <td>35</td>\n",
       "      <td>17</td>\n",
       "      <td>GB1</td>\n",
       "      <td>36</td>\n",
       "      <td>10</td>\n",
       "      <td>0.0</td>\n",
       "    </tr>\n",
       "    <tr>\n",
       "      <th>0.16667</th>\n",
       "      <td>CIC2</td>\n",
       "      <td>2002</td>\n",
       "      <td>38</td>\n",
       "      <td>25</td>\n",
       "      <td>CIC3</td>\n",
       "      <td>34</td>\n",
       "      <td>17</td>\n",
       "      <td>GB1</td>\n",
       "      <td>38</td>\n",
       "      <td>11</td>\n",
       "      <td>0.0</td>\n",
       "    </tr>\n",
       "  </tbody>\n",
       "</table>\n",
       "</div>"
      ],
      "text/plain": [
       "        Station ID  Year  Fecal Coliform  Enterococcus Station ID.1  \\\n",
       "(day)                                                                 \n",
       "0.00000       CIC2  2002              44            30         CIC3   \n",
       "0.04167       CIC2  2002              44            30         CIC3   \n",
       "0.08333       CIC2  2002              41            27         CIC3   \n",
       "0.12500       CIC2  2002              39            25         CIC3   \n",
       "0.16667       CIC2  2002              38            25         CIC3   \n",
       "\n",
       "         Fecal Coliform.1  Enterococcus.1 Station ID.2  Fecal Coliform.2  \\\n",
       "(day)                                                                      \n",
       "0.00000                37              19          GB1                28   \n",
       "0.04167                37              19          GB1                29   \n",
       "0.08333                36              19          GB1                31   \n",
       "0.12500                35              17          GB1                36   \n",
       "0.16667                34              17          GB1                38   \n",
       "\n",
       "         Enterococcus.2  (in/hr)  \n",
       "(day)                             \n",
       "0.00000               7      0.0  \n",
       "0.04167               7      0.0  \n",
       "0.08333               8      0.0  \n",
       "0.12500              10      0.0  \n",
       "0.16667              11      0.0  "
      ]
     },
     "execution_count": 51,
     "metadata": {},
     "output_type": "execute_result"
    }
   ],
   "source": [
    "patho_df.head()"
   ]
  },
  {
   "cell_type": "code",
   "execution_count": 52,
   "metadata": {
    "collapsed": false
   },
   "outputs": [
    {
     "data": {
      "text/plain": [
       "<matplotlib.text.Text at 0x117dd0650>"
      ]
     },
     "execution_count": 52,
     "metadata": {},
     "output_type": "execute_result"
    },
    {
     "data": {
      "image/png": "[encoded data removed]",
      "text/plain": [
       "<matplotlib.figure.Figure at 0x117b71490>"
      ]
     },
     "metadata": {},
     "output_type": "display_data"
    }
   ],
   "source": [
    "#Plot results for first FC time series\n",
    "plt.hist(np.log10(patho_df['Fecal Coliform']))\n",
    "plt.xlabel('Log_10 of concentration')\n",
    "plt.ylabel('# of hours')"
   ]
  },
  {
   "cell_type": "markdown",
   "metadata": {},
   "source": [
    "Next I implement the baseline model for bacteria concentrations, for comparison to model development efforts.  This is an attempt to recreate the model described in the Word Document 'CSO Advisory Calculation Methodology 10-23-08.doc' from Hydroqual.  The basic idea is to use the volume of rainfall events, as defined above and used in the baseline model for CSOs, as the predictor in a linear regression for bacteria concentrations at various times after the end of the rainfall event.  To be conservative, I assume the bacteria concentration during and for 12 hours after the end of the rainfall event is equal to the maximum during this time period.  Then the concentration from 12 to 24 hours is assumed equal to the concentration at 12 hours, and similar for 12 hour periods up through 60 hours."
   ]
  },
  {
   "cell_type": "code",
   "execution_count": 55,
   "metadata": {
    "collapsed": false
   },
   "outputs": [],
   "source": [
    "#Need to find\n",
    "#Maximum FC concentration during, or in the 12 hours following end of rainfall event\n",
    "#Also\n",
    "#FC concentrations at 12, 24, 36, and 48 hours after.  Each will be used to define warning status for the 11\n",
    "#hours after that time point.  Assumption that warning ends at 60 hours.\n",
    "\n",
    "fc_max_in_12_h = np.empty(np.shape(event_end_indices[0]))\n",
    "fc_12_h = np.empty(np.shape(event_end_indices[0]))\n",
    "fc_24_h = np.empty(np.shape(event_end_indices[0]))\n",
    "fc_36_h = np.empty(np.shape(event_end_indices[0]))\n",
    "fc_48_h = np.empty(np.shape(event_end_indices[0]))\n",
    "\n",
    "#Select column name to get baseline model accuracy score\n",
    "column_name = 'Fecal Coliform'\n",
    "\n",
    "counter = 0\n",
    "\n",
    "#Use rain start and end times to get bacteria concentrations\n",
    "for event_start_index, event_end_index in zip(event_start_indices[0], event_end_indices[0]):\n",
    "    fc_max_in_12_h[counter] = np.max(patho_df[column_name].iloc[event_start_index:event_end_index+12])\n",
    "    fc_12_h[counter] = patho_df[column_name].iloc[event_end_index+12]\n",
    "    fc_24_h[counter] = patho_df[column_name].iloc[event_end_index+24]\n",
    "    fc_36_h[counter] = patho_df[column_name].iloc[event_end_index+36]\n",
    "    fc_48_h[counter] = patho_df[column_name].iloc[event_end_index+48]\n",
    "\n",
    "    counter = counter + 1\n",
    "\n",
    "#Now each one of these gets its own linear model with rainfall event volume\n",
    "ols_model = linear_model.LinearRegression(fit_intercept=True, normalize=False, copy_X=True, n_jobs=1)\n",
    "#Predictor is volume of rainfall event\n",
    "rainfall_depth = rain_events_df['Total Rainfall depth                 (in)'].values.reshape(-1,1)\n",
    "\n",
    "#Note: modeling log-transformed responses resulted in a null model of no events, as modeled concentrations were\n",
    "#always < 1000, so I stick with the untransformed concentrations\n",
    "model_12_hr_max = ols_model.fit(rainfall_depth, np.log10(fc_max_in_12_h))\n",
    "model_12_hr = ols_model.fit(rainfall_depth,fc_12_h)\n",
    "model_24_hr = ols_model.fit(rainfall_depth, fc_24_h)\n",
    "model_36_hr = ols_model.fit(rainfall_depth, fc_36_h)\n",
    "model_48_hr = ols_model.fit(rainfall_depth, fc_48_h)\n",
    "\n",
    "#Build array using predicted concentration at each time interval, throughout that interval\n",
    "#after each rainfall event\n",
    "#Zero\n",
    "baseline_fc_model = np.zeros(np.shape(patho_df[column_name].values))\n",
    "#Except after rainfall events\n",
    "counter = 0\n",
    "for event_end_index in event_end_indices[0]:\n",
    "    this_rainfall_val = rainfall_depth[counter].reshape(1,-1)\n",
    "    baseline_fc_model[event_end_index:event_end_index+12] = model_12_hr_max.predict(this_rainfall_val)\n",
    "    baseline_fc_model[event_end_index+12:event_end_index+24] = model_12_hr.predict(this_rainfall_val)\n",
    "    baseline_fc_model[event_end_index+24:event_end_index+36] = model_24_hr.predict(this_rainfall_val)\n",
    "    baseline_fc_model[event_end_index+36:event_end_index+48] = model_36_hr.predict(this_rainfall_val)\n",
    "    baseline_fc_model[event_end_index+48:event_end_index+60] = model_48_hr.predict(this_rainfall_val)\n",
    "    \n",
    "    counter = counter + 1\n",
    "    \n",
    "#Set negatives to zero\n",
    "baseline_fc_model[baseline_fc_model<0] = 0"
   ]
  },
  {
   "cell_type": "code",
   "execution_count": 56,
   "metadata": {
    "collapsed": false
   },
   "outputs": [
    {
     "data": {
      "image/png": "[encoded data removed]",
      "text/plain": [
       "<matplotlib.figure.Figure at 0x119e6c050>"
      ]
     },
     "metadata": {},
     "output_type": "display_data"
    }
   ],
   "source": [
    "#Visualize simulated bacteria events, according to the baseline model, and the reported ones\n",
    "plt.subplot(2,1,1)\n",
    "plt.plot(cso_qual_df.index.values[0:2000], baseline_fc_model[0:2000])\n",
    "#And this is the data set\n",
    "plt.subplot(2,1,2)\n",
    "plt.plot(cso_qual_df.index.values[0:2000], patho_df[column_name].iloc[0:2000])\n",
    "plt.yscale('log')"
   ]
  },
  {
   "cell_type": "markdown",
   "metadata": {},
   "source": [
    "The baseline model for bacteria concentrations looks reasonable in timing, although not in value:  concentrations are predicted to be too low.  However as long they are above 1000, they will trigger the warning, so it seems adequate for my purposes here.\n",
    "\n",
    "Now I binarize the predictions and data, and determine accuracy for finding times when FC > 1000."
   ]
  },
  {
   "cell_type": "code",
   "execution_count": 57,
   "metadata": {
    "collapsed": false
   },
   "outputs": [
    {
     "name": "stdout",
     "output_type": "stream",
     "text": [
      "Accuracy of baseline bacteria model is 0.67\n"
     ]
    }
   ],
   "source": [
    "baseline_fc_model_bin = baseline_fc_model > 1000\n",
    "data_bin = patho_df[column_name].values > 1000\n",
    "baseline_fc_accuracy = sum(baseline_fc_model_bin == data_bin)/float(len(baseline_fc_model_bin))\n",
    "print('Accuracy of baseline bacteria model is {:0.2f}'.format(baseline_fc_accuracy))"
   ]
  },
  {
   "cell_type": "code",
   "execution_count": 58,
   "metadata": {
    "collapsed": false
   },
   "outputs": [
    {
     "name": "stdout",
     "output_type": "stream",
     "text": [
      "(0.40563249044115285, 0.8718211164475238, 62246, 25402)\n"
     ]
    }
   ],
   "source": [
    "#True positive rate\n",
    "#true positives/positives\n",
    "#False positive rate = n false positives / total negatives\n",
    "n_false_pos = sum( (data_bin==0) & (baseline_fc_model_bin==1) )\n",
    "n_true_pos = sum( (data_bin==1) & (baseline_fc_model_bin==1) )\n",
    "total_neg = sum(data_bin==0)\n",
    "total_pos = sum(data_bin==1)\n",
    "false_pos_rate = n_false_pos/np.float(total_neg)\n",
    "true_pos_rate = n_true_pos/np.float(total_pos)\n",
    "\n",
    "print(false_pos_rate, true_pos_rate, total_neg, total_pos)"
   ]
  },
  {
   "cell_type": "markdown",
   "metadata": {},
   "source": [
    "The baseline model recovers a high percentage of true positives (87%) but also has a relatively large amount of false positives (41%).  Note that these model statistics are generous, as the model is being assessed using predictions on the training data.  When developing the new model below I return to standard machine learning practice of assessing model performance using predictions on out-of-sample data.\n",
    "\n",
    "For consideration of hypothetical scenarios below, what is the proportion of negative classifications?  These would be the times when the water is predicted to be safe according to < 1000 colonies FC / 100 mL of water."
   ]
  },
  {
   "cell_type": "code",
   "execution_count": 59,
   "metadata": {
    "collapsed": false
   },
   "outputs": [
    {
     "data": {
      "text/plain": [
       "0.4592574844833881"
      ]
     },
     "execution_count": 59,
     "metadata": {},
     "output_type": "execute_result"
    }
   ],
   "source": [
    "#%Negative classifications\n",
    "baseline_neg_classes = sum(baseline_fc_model_bin==0)/np.float(len(baseline_fc_model_bin))\n",
    "baseline_neg_classes"
   ]
  },
  {
   "cell_type": "markdown",
   "metadata": {},
   "source": [
    "# New model for bacteria events"
   ]
  },
  {
   "cell_type": "markdown",
   "metadata": {},
   "source": [
    "I use a similar modeling approach here to the CSO approach above, except also considering temperature as a predictor.\n",
    "\n",
    "First I binarize the data according to the 1000 colony rule, and add it to the data frame with the CSO volumes, in order to use the same modeling functions."
   ]
  },
  {
   "cell_type": "code",
   "execution_count": 60,
   "metadata": {
    "collapsed": true
   },
   "outputs": [],
   "source": [
    "regulation_limit = 1000. #this could be updated if regulations change\n",
    "\n",
    "cso_qual_df['Fecal Coliform 1'] = patho_df['Fecal Coliform'].values\n",
    "cso_qual_df.loc[cso_qual_df['Fecal Coliform 1'] < regulation_limit, 'Fecal Coliform 1'] = 0\n",
    "cso_qual_df.loc[cso_qual_df['Fecal Coliform 1'] >= regulation_limit, 'Fecal Coliform 1'] = 1\n",
    "\n",
    "cso_qual_df['Fecal Coliform 2'] = patho_df['Fecal Coliform.1'].values\n",
    "cso_qual_df.loc[cso_qual_df['Fecal Coliform 2'] < regulation_limit, 'Fecal Coliform 2'] = 0\n",
    "cso_qual_df.loc[cso_qual_df['Fecal Coliform 2'] >= regulation_limit, 'Fecal Coliform 2'] = 1\n",
    "\n",
    "cso_qual_df['Fecal Coliform 3'] = patho_df['Fecal Coliform.2'].values\n",
    "cso_qual_df.loc[cso_qual_df['Fecal Coliform 3'] < regulation_limit, 'Fecal Coliform 3'] = 0\n",
    "cso_qual_df.loc[cso_qual_df['Fecal Coliform 3'] >= regulation_limit, 'Fecal Coliform 3'] = 1"
   ]
  },
  {
   "cell_type": "code",
   "execution_count": 61,
   "metadata": {
    "collapsed": false
   },
   "outputs": [
    {
     "data": {
      "text/html": [
       "<div>\n",
       "<style>\n",
       "    .dataframe thead tr:only-child th {\n",
       "        text-align: right;\n",
       "    }\n",
       "\n",
       "    .dataframe thead th {\n",
       "        text-align: left;\n",
       "    }\n",
       "\n",
       "    .dataframe tbody tr th {\n",
       "        vertical-align: top;\n",
       "    }\n",
       "</style>\n",
       "<table border=\"1\" class=\"dataframe\">\n",
       "  <thead>\n",
       "    <tr style=\"text-align: right;\">\n",
       "      <th></th>\n",
       "      <th>Year</th>\n",
       "      <th>CSO OH-21C MG/hr</th>\n",
       "      <th>Rain, in/hr</th>\n",
       "      <th>Tide prediction (ft)</th>\n",
       "      <th>Air temp (F)</th>\n",
       "      <th>Fecal Coliform 1</th>\n",
       "      <th>Fecal Coliform 2</th>\n",
       "      <th>Fecal Coliform 3</th>\n",
       "    </tr>\n",
       "  </thead>\n",
       "  <tbody>\n",
       "    <tr>\n",
       "      <th>2002-01-01 00:00:00</th>\n",
       "      <td>2002</td>\n",
       "      <td>0.0</td>\n",
       "      <td>0.0</td>\n",
       "      <td>1.497</td>\n",
       "      <td>25.00</td>\n",
       "      <td>0</td>\n",
       "      <td>0</td>\n",
       "      <td>0</td>\n",
       "    </tr>\n",
       "    <tr>\n",
       "      <th>2002-01-01 01:00:00</th>\n",
       "      <td>2002</td>\n",
       "      <td>0.0</td>\n",
       "      <td>0.0</td>\n",
       "      <td>0.395</td>\n",
       "      <td>24.00</td>\n",
       "      <td>0</td>\n",
       "      <td>0</td>\n",
       "      <td>0</td>\n",
       "    </tr>\n",
       "    <tr>\n",
       "      <th>2002-01-01 02:00:00</th>\n",
       "      <td>2002</td>\n",
       "      <td>0.0</td>\n",
       "      <td>0.0</td>\n",
       "      <td>-0.360</td>\n",
       "      <td>24.85</td>\n",
       "      <td>0</td>\n",
       "      <td>0</td>\n",
       "      <td>0</td>\n",
       "    </tr>\n",
       "    <tr>\n",
       "      <th>2002-01-01 03:00:00</th>\n",
       "      <td>2002</td>\n",
       "      <td>0.0</td>\n",
       "      <td>0.0</td>\n",
       "      <td>-0.539</td>\n",
       "      <td>23.85</td>\n",
       "      <td>0</td>\n",
       "      <td>0</td>\n",
       "      <td>0</td>\n",
       "    </tr>\n",
       "    <tr>\n",
       "      <th>2002-01-01 04:00:00</th>\n",
       "      <td>2002</td>\n",
       "      <td>0.0</td>\n",
       "      <td>0.0</td>\n",
       "      <td>0.111</td>\n",
       "      <td>22.85</td>\n",
       "      <td>0</td>\n",
       "      <td>0</td>\n",
       "      <td>0</td>\n",
       "    </tr>\n",
       "  </tbody>\n",
       "</table>\n",
       "</div>"
      ],
      "text/plain": [
       "                     Year  CSO OH-21C MG/hr  Rain, in/hr  \\\n",
       "2002-01-01 00:00:00  2002               0.0          0.0   \n",
       "2002-01-01 01:00:00  2002               0.0          0.0   \n",
       "2002-01-01 02:00:00  2002               0.0          0.0   \n",
       "2002-01-01 03:00:00  2002               0.0          0.0   \n",
       "2002-01-01 04:00:00  2002               0.0          0.0   \n",
       "\n",
       "                     Tide prediction (ft)  Air temp (F)  Fecal Coliform 1  \\\n",
       "2002-01-01 00:00:00                 1.497         25.00                 0   \n",
       "2002-01-01 01:00:00                 0.395         24.00                 0   \n",
       "2002-01-01 02:00:00                -0.360         24.85                 0   \n",
       "2002-01-01 03:00:00                -0.539         23.85                 0   \n",
       "2002-01-01 04:00:00                 0.111         22.85                 0   \n",
       "\n",
       "                     Fecal Coliform 2  Fecal Coliform 3  \n",
       "2002-01-01 00:00:00                 0                 0  \n",
       "2002-01-01 01:00:00                 0                 0  \n",
       "2002-01-01 02:00:00                 0                 0  \n",
       "2002-01-01 03:00:00                 0                 0  \n",
       "2002-01-01 04:00:00                 0                 0  "
      ]
     },
     "execution_count": 61,
     "metadata": {},
     "output_type": "execute_result"
    }
   ],
   "source": [
    "cso_qual_df.head()\n",
    "# patho_df.shape"
   ]
  },
  {
   "cell_type": "code",
   "execution_count": 62,
   "metadata": {
    "collapsed": false
   },
   "outputs": [
    {
     "name": "stdout",
     "output_type": "stream",
     "text": [
      "Fraction of bacteria events in data is 0.290\n"
     ]
    }
   ],
   "source": [
    "len(cso_qual_df['Fecal Coliform 1'])\n",
    "n_FC_events = np.sum(cso_qual_df['Fecal Coliform 1'].values)\n",
    "print('Fraction of bacteria events in data is {:0.3f}'.\\\n",
    "      format(np.float(n_FC_events)/len(cso_qual_df['Fecal Coliform 1'])))"
   ]
  },
  {
   "cell_type": "markdown",
   "metadata": {},
   "source": [
    "Here I will consider only the first FC time series.  The fraction of bacteria events is 0.29, so the classes are more balanced than with the CSO data."
   ]
  },
  {
   "cell_type": "code",
   "execution_count": 63,
   "metadata": {
    "collapsed": false
   },
   "outputs": [],
   "source": [
    "# #Now run quality model for many lags\n",
    "# #Will want to save these results to avoid running again\n",
    "# import timeit\n",
    "# start_time = timeit.default_timer()\n",
    "# #Try lag orders from 1 to 60 hours\n",
    "# lags_to_try = range(1,61)\n",
    "# all_test_acc = [[]]*len(lags_to_try)\n",
    "# all_test_proba = [[]]*len(lags_to_try)\n",
    "# all_test_roc = [[]]*len(lags_to_try)\n",
    "# sklearn_metrics = [[]]*len(lags_to_try)\n",
    "\n",
    "# for lag_order in lags_to_try:\n",
    "#     est = train_model(model=logistic_reg_model,\\\n",
    "#     lag_order=lag_order,\\\n",
    "#     column_to_model='Fecal Coliform 1',\\\n",
    "#     predictors=['Rain, in/hr', 'Tide prediction (ft)', 'Air temp (F)'])\n",
    "    \n",
    "#     [all_test_acc[lag_order-1], all_test_proba[lag_order-1],\\\n",
    "#     all_test_roc[lag_order-1], sklearn_metrics[lag_order-1]] = \\\n",
    "#     test_model(est=est,\\\n",
    "#     lag_order=lag_order,\n",
    "#     column_to_model='Fecal Coliform 1',\\\n",
    "#     predictors=['Rain, in/hr', 'Tide prediction (ft)', 'Air temp (F)'])\n",
    "# elapsed = timeit.default_timer() - start_time\n",
    "# elapsed\n",
    "# #This cell took 16443 seconds to run"
   ]
  },
  {
   "cell_type": "markdown",
   "metadata": {},
   "source": [
    "Now save the model validation statistics from all the lags, and the trained model from the last lag."
   ]
  },
  {
   "cell_type": "code",
   "execution_count": 64,
   "metadata": {
    "collapsed": false
   },
   "outputs": [],
   "source": [
    "# #Filename describing what's here\n",
    "# fname = 'metrics_fc1_3_preds_lags_1_to_60.pkl'\n",
    "# joblib.dump([lags_to_try, all_test_acc, all_test_proba,\\\n",
    "#             all_test_roc, sklearn_metrics], fname, compress=9)"
   ]
  },
  {
   "cell_type": "code",
   "execution_count": 65,
   "metadata": {
    "collapsed": false
   },
   "outputs": [],
   "source": [
    "fname = 'metrics_fc1_3_preds_lags_1_to_60.pkl'\n",
    "[lags_to_try, all_test_acc, all_test_proba,\\\n",
    "            all_test_roc, sklearn_metrics] = joblib.load(fname)"
   ]
  },
  {
   "cell_type": "code",
   "execution_count": 66,
   "metadata": {
    "collapsed": false
   },
   "outputs": [],
   "source": [
    "# #Also save the trained model for the last time lag, as it turns out to be the one to use\n",
    "# fname = 'trained_model_log_reg_fc1_3_preds_lag_60.pkl'\n",
    "# joblib.dump(est, fname, compress=9)"
   ]
  },
  {
   "cell_type": "code",
   "execution_count": 67,
   "metadata": {
    "collapsed": true
   },
   "outputs": [],
   "source": [
    "fname = 'trained_model_log_reg_fc1_3_preds_lag_60.pkl'\n",
    "est = joblib.load(fname)"
   ]
  },
  {
   "cell_type": "markdown",
   "metadata": {},
   "source": [
    "## Results\n",
    "For model of bacteria events with rainfall, tide, and temperature predictors"
   ]
  },
  {
   "cell_type": "code",
   "execution_count": 68,
   "metadata": {
    "collapsed": false
   },
   "outputs": [
    {
     "data": {
      "image/png": "[encoded data removed]",
      "text/plain": [
       "<matplotlib.figure.Figure at 0x11a3f1a90>"
      ]
     },
     "metadata": {},
     "output_type": "display_data"
    }
   ],
   "source": [
    "#Plot of mean and std dev of accuracies across the cross validation\n",
    "mean_stat = np.array([])\n",
    "std_stat = np.array([])\n",
    "\n",
    "for lag_order in lags_to_try:\n",
    "    \n",
    "    mean_stat = np.append(mean_stat, np.mean(all_test_acc[lag_order-1][0:-2]))\n",
    "    std_stat = np.append(std_stat, np.std(all_test_acc[lag_order-1][0:-2]))\n",
    "    \n",
    "#Plotting\n",
    "font_size = 18;\n",
    "fig = plt.figure(figsize=(10,6));\n",
    "ax = plt.axes();\n",
    "\n",
    "ax.errorbar(lags_to_try, mean_stat, yerr=std_stat)\n",
    "\n",
    "plt.xlabel('Hours previous to now', fontsize=font_size)\n",
    "plt.ylabel('Avg testing accuracy +/- 1 std', fontsize=font_size)\n",
    "\n",
    "labels = ax.get_xticklabels();\n",
    "plt.setp(labels, fontsize=font_size);\n",
    "labels = ax.get_yticklabels();\n",
    "plt.setp(labels, fontsize=font_size);\n",
    "\n"
   ]
  },
  {
   "cell_type": "code",
   "execution_count": 69,
   "metadata": {
    "collapsed": false
   },
   "outputs": [
    {
     "data": {
      "text/plain": [
       "<matplotlib.text.Text at 0x11fb65410>"
      ]
     },
     "execution_count": 69,
     "metadata": {},
     "output_type": "execute_result"
    },
    {
     "data": {
      "image/png": "[encoded data removed]",
      "text/plain": [
       "<matplotlib.figure.Figure at 0x11ab38e90>"
      ]
     },
     "metadata": {},
     "output_type": "display_data"
    }
   ],
   "source": [
    "#Plot of mean and std dev of accuracies across the cross validation\n",
    "mean_stat = np.array([])\n",
    "std_stat = np.array([])\n",
    "\n",
    "for lag_order in lags_to_try:\n",
    "#     print(lag_order)\n",
    "    this_lag_order_f1 = np.array([])\n",
    "    \n",
    "    for year_index in range(np.shape(sklearn_metrics[lag_order-1])[0]-1):\n",
    "        \n",
    "        this_lag_order_f1 = np.append(this_lag_order_f1, sklearn_metrics[lag_order-1][year_index][1][1])\n",
    "    \n",
    "    mean_stat = np.append(mean_stat, np.mean(this_lag_order_f1))\n",
    "    std_stat = np.append(std_stat, np.std(this_lag_order_f1))\n",
    "    \n",
    "# plt.plot(several_lags, mean_r_sq)\n",
    "plt.errorbar(lags_to_try, mean_stat, yerr=std_stat)\n",
    "plt.xlabel('Number of lags')\n",
    "plt.ylabel('Avg true positive rate +/- 1 std')\n",
    "plt.title('')"
   ]
  },
  {
   "cell_type": "markdown",
   "metadata": {},
   "source": [
    "It appears that the increase in accuracy has leveled off around 60 lags, and the true positive rate is starting to at this point as well.  I will proceed with a 60 hour lag model.\n",
    "\n",
    "I explore the true/false positive rates as done before with CSO outflows."
   ]
  },
  {
   "cell_type": "code",
   "execution_count": 70,
   "metadata": {
    "collapsed": false
   },
   "outputs": [],
   "source": [
    "#Return false positive rates for desired true positive rate\n",
    "want_true_pos = 0.90;\n",
    "#Use 60 hour lag model\n",
    "lag_order = 59;\n",
    "\n",
    "actual_true_pos = np.array([])\n",
    "false_pos_rate_for_this_true_pos = np.array([])\n",
    "thresh_for_this_true = np.array([])\n",
    "negative_classes = np.array([])\n",
    "\n",
    "\n",
    "for year_index in range((len(un_years))):\n",
    "    #The difference between desired and all true positive rates in the ROC curve\n",
    "    roc_diff = all_test_roc[lag_order][year_index][1] - want_true_pos\n",
    "    #Index of the closest to desired\n",
    "    roc_index = np.argmin(np.abs(roc_diff))\n",
    "    actual_true_pos = np.append(actual_true_pos, all_test_roc[lag_order][year_index][1][roc_index])\n",
    "    false_pos_rate_for_this_true_pos = \\\n",
    "    np.append(false_pos_rate_for_this_true_pos, all_test_roc[lag_order][year_index][0][roc_index])\n",
    "    thresh_for_this_true = np.append(thresh_for_this_true, all_test_roc[lag_order][year_index][2][roc_index])\n",
    "    \n",
    "    #Fraction of negative classifications\n",
    "    negative_classes = np.append(negative_classes, sum(all_test_proba[lag_order][year_index][:,1] < \\\n",
    "              thresh_for_this_true[year_index])/np.float(len(all_test_proba[lag_order][year_index][:,1])))"
   ]
  },
  {
   "cell_type": "code",
   "execution_count": 71,
   "metadata": {
    "collapsed": false
   },
   "outputs": [
    {
     "data": {
      "text/plain": [
       "array([ 0.89986468,  0.90031521,  0.89995966,  0.90024631,  0.89928058,\n",
       "        0.90030675,  0.89935435,  0.89981308])"
      ]
     },
     "execution_count": 71,
     "metadata": {},
     "output_type": "execute_result"
    }
   ],
   "source": [
    "#These should be close to 0.9\n",
    "actual_true_pos[0:-2]"
   ]
  },
  {
   "cell_type": "code",
   "execution_count": 72,
   "metadata": {
    "collapsed": false
   },
   "outputs": [
    {
     "data": {
      "text/plain": [
       "array([ 0.0376369 ,  0.09041653,  0.07810479,  0.06992337,  0.04824137,\n",
       "        0.15347997,  0.06698407,  0.08298755])"
      ]
     },
     "execution_count": 72,
     "metadata": {},
     "output_type": "execute_result"
    }
   ],
   "source": [
    "false_pos_rate_for_this_true_pos[0:-2]"
   ]
  },
  {
   "cell_type": "code",
   "execution_count": 73,
   "metadata": {
    "collapsed": false
   },
   "outputs": [
    {
     "data": {
      "text/plain": [
       "0.078471818613786909"
      ]
     },
     "execution_count": 73,
     "metadata": {},
     "output_type": "execute_result"
    }
   ],
   "source": [
    "np.mean(false_pos_rate_for_this_true_pos[0:-2])"
   ]
  },
  {
   "cell_type": "markdown",
   "metadata": {},
   "source": [
    "The average false positive rate across the k-fold cross validation is 8%, much less than the baseline model's of 41%.  Here are the tresholds corresponding to 90% TPN.  The last one would accompany the model for 60 lags, trained on the first 9 years of data."
   ]
  },
  {
   "cell_type": "code",
   "execution_count": 74,
   "metadata": {
    "collapsed": false
   },
   "outputs": [
    {
     "data": {
      "text/plain": [
       "array([ 0.51483271,  0.46582649,  0.54656258,  0.52195977,  0.45312233,\n",
       "        0.31986343,  0.46826438,  0.49222699,  0.36099948,  0.42285845])"
      ]
     },
     "execution_count": 74,
     "metadata": {},
     "output_type": "execute_result"
    }
   ],
   "source": [
    "thresh_for_this_true"
   ]
  },
  {
   "cell_type": "markdown",
   "metadata": {},
   "source": [
    "The false positive rate for this model is:"
   ]
  },
  {
   "cell_type": "code",
   "execution_count": 75,
   "metadata": {
    "collapsed": false
   },
   "outputs": [
    {
     "data": {
      "text/plain": [
       "0.092988313856427376"
      ]
     },
     "execution_count": 75,
     "metadata": {},
     "output_type": "execute_result"
    }
   ],
   "source": [
    "false_pos_rate_for_this_true_pos[-1]"
   ]
  },
  {
   "cell_type": "markdown",
   "metadata": {},
   "source": [
    "## To be done:  final steps for implementation\n",
    "Models will be trained for desired time lags and saved as pickled objects.  I will create a new notebook that will define a function that uses these trained models and takes as input a # time events x # predictors array, i.e. 60 x 3 for the bacteria model.  This is the deliverable for incorporation into the NYC DEP website.\n",
    "\n",
    "Key points for implementation:\n",
    "1.  All inputs must be in the same units as the model is expecting\n",
    "2.  The implemented model needs the same exact hourly inputs as data sources used here:\n",
    "    3.  Rainfall (in/hr) from the NOAA station at JFK.  This was supplied directly to me from NYC DEP.\n",
    "    4.  Water level (ft) from the Sandy Hook, NJ station.  Specifically, \"Predicted\" water level from here:  https://tidesandcurrents.noaa.gov/stationhome.html?id=8531680 .  Note that if using an internal NYC DEP data product, it would need to have the same reference as what the model was trained on (i.e. if the starting value is assigned a level of zero, needs to be same starting time between model training data and the real-time data used in implementation)\n",
    "    5.  Air temperature (F) from the NOAA station at JFK.  This was pulled and cleaned from the web.\n",
    "    \n",
    "If data sources are changed, models need to be retrained."
   ]
  },
  {
   "cell_type": "markdown",
   "metadata": {},
   "source": [
    "## Hypothetical scenario\n",
    "\n",
    "To get a very rough estimate of the financial impact of a more accurate model, I make the assumption that the number of annual visitors to Coney Island Beach (taken from here:  https://www.nycgovparks.org/parks/coney-island-beach-and-boardwalk/dailyplant/23220) is proporational to the percentage of time the model predicts \"safe water,\" according to < 1000 colonies FC / 100 mL.  According to the data, this is 71%.  With the new model that has relatively low false positives, this is:"
   ]
  },
  {
   "cell_type": "code",
   "execution_count": 76,
   "metadata": {
    "collapsed": false
   },
   "outputs": [
    {
     "data": {
      "text/plain": [
       "0.68380144480905769"
      ]
     },
     "execution_count": 76,
     "metadata": {},
     "output_type": "execute_result"
    }
   ],
   "source": [
    "new_model_neg_classes = np.mean(negative_classes[0:-2])\n",
    "new_model_neg_classes"
   ]
  },
  {
   "cell_type": "code",
   "execution_count": 77,
   "metadata": {
    "collapsed": false
   },
   "outputs": [
    {
     "name": "stdout",
     "output_type": "stream",
     "text": [
      "5600130.44671\n",
      "More people per year\n"
     ]
    }
   ],
   "source": [
    "# Assume increase in visitors is directly proportional to predicted time of safe water\n",
    "yearly_vis = 11453890\n",
    "new_vis = yearly_vis*(new_model_neg_classes/baseline_neg_classes)\n",
    "vis_increase = new_vis - yearly_vis\n",
    "print(vis_increase)\n",
    "print('More people per year')"
   ]
  },
  {
   "cell_type": "code",
   "execution_count": 78,
   "metadata": {
    "collapsed": false
   },
   "outputs": [
    {
     "data": {
      "text/plain": [
       "16800391.34012815"
      ]
     },
     "execution_count": 78,
     "metadata": {},
     "output_type": "execute_result"
    }
   ],
   "source": [
    "#If each additional person buys a $3 ice cream cone, how much additional revenue is this?\n",
    "3*vis_increase"
   ]
  },
  {
   "cell_type": "code",
   "execution_count": null,
   "metadata": {
    "collapsed": true
   },
   "outputs": [],
   "source": []
  }
 ],
 "metadata": {
  "kernelspec": {
   "display_name": "Python 2",
   "language": "python",
   "name": "python2"
  },
  "language_info": {
   "codemirror_mode": {
    "name": "ipython",
    "version": 2
   },
   "file_extension": ".py",
   "mimetype": "text/x-python",
   "name": "python",
   "nbconvert_exporter": "python",
   "pygments_lexer": "ipython2",
   "version": "2.7.13"
  }
 },
 "nbformat": 4,
 "nbformat_minor": 2
}

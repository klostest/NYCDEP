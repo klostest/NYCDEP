{
 "cells": [
  {
   "cell_type": "markdown",
   "metadata": {},
   "source": [
    "# Prepare models for implementation\n",
    "\n",
    "Version 6/27/2017\n",
    "Steve Klosterman, steve.klosterman@gmail.com\n",
    "\n",
    "This notebook shows how the models developed here https://github.com/klostest/NYCDEP/blob/master/Sewer_overflow_and_bacteria_project.ipynb , can be put in their \"final versions\" that are ready to implement on the website.  Note that the final versions need to be trained with the same kind of data that will be available on the website, i.e. the tide, temperature, and rainfall data need to come from the same sources (have the same baselines or reference values, calculated from the same inputs using the same formulas) and be in the same units, or be converted to the equivalent, before being passed to the model.  This issue is currently outstanding.\n",
    "\n",
    "However, in terms of the syntax and usage of the model for website implementation, it will be identical to what is shown here.\n",
    "\n",
    "The structure of the notebook is to train the CSO model (held in the Python object 'est_cso'), then illustrate how it can be used on the website with example input data taken as a random point in time from the training data set (2002-2012).  A random case (most likely negative since 99% of times don't have CSO events) is illustrated, as well as a case that is guaranteed to have a positive event.  This sequence is repeated for the fecal coliform model."
   ]
  },
  {
   "cell_type": "code",
   "execution_count": 1,
   "metadata": {
    "collapsed": false
   },
   "outputs": [
    {
     "name": "stderr",
     "output_type": "stream",
     "text": [
      "/Users/Steve/anaconda2/lib/python2.7/site-packages/statsmodels/compat/pandas.py:56: FutureWarning: The pandas.core.datetools module is deprecated and will be removed in a future version. Please use the pandas.tseries module instead.\n",
      "  from pandas.core import datetools\n"
     ]
    }
   ],
   "source": [
    "#Import libraries\n",
    "import pandas as pd\n",
    "import numpy as np\n",
    "import datetime\n",
    "import timeit\n",
    "import statsmodels.api as sm\n",
    "import sklearn\n",
    "from sklearn.externals import joblib\n",
    "from sklearn import linear_model\n",
    "import matplotlib.pyplot as plt\n",
    "import matplotlib as mpl\n",
    "%matplotlib inline"
   ]
  },
  {
   "cell_type": "code",
   "execution_count": 2,
   "metadata": {
    "collapsed": true
   },
   "outputs": [],
   "source": [
    "#Load the data.\n",
    "path = './data/'\n",
    "\n",
    "# #Takes ~ 1 minute to load spreadsheet\n",
    "# fname = 'ci2002_2011pathogenLOADand2008nutrient_carbonLOAD_20170517D.xlsx'\n",
    "# rain_cso_df = pd.read_excel(path + fname, sheetname='Outfall_pathogenLoad_part1', header=3, \\\n",
    "#                     index_col=2)\n",
    "\n",
    "#Save time by saving/loading pickle\n",
    "# rain_cso_df.to_pickle(path + 'rain_cso_df.pkl')\n",
    "\n",
    "rain_cso_df = pd.read_pickle(path + 'rain_cso_df.pkl')"
   ]
  },
  {
   "cell_type": "code",
   "execution_count": 3,
   "metadata": {
    "collapsed": true
   },
   "outputs": [],
   "source": [
    "#Start off dataframe by subsetting to only one of the repetitions of the year series\n",
    "cso_qual_df = rain_cso_df.filter(['Year'])\n",
    "mask = rain_cso_df['Station ID'].isin(['OH-21C'])\n",
    "cso_qual_df = cso_qual_df[mask]\n",
    "cso_name = 'CSO OH-21C MG/hr'\n",
    "\n",
    "cso_qual_df[cso_name] = rain_cso_df[rain_cso_df['Station ID'].isin(['OH-21C'])]['(MG/Hour)']\n",
    "cso_qual_df['Rain, in/hr'] = rain_cso_df[rain_cso_df['Station ID'].isin(['OH-21C'])]['(in/hr)']"
   ]
  },
  {
   "cell_type": "code",
   "execution_count": 4,
   "metadata": {
    "collapsed": true
   },
   "outputs": [],
   "source": [
    "#Create array of datetime objects to use in dataframe index, and for plotting\n",
    "#Include rounding of days for whole number hours\n",
    "\n",
    "helper = np.vectorize(lambda x: datetime.timedelta(hours=x))\n",
    "start_day = datetime.datetime(2002, 1, 1)\n",
    "#Change index to hours from days and round to whole hours\n",
    "cso_qual_df.index = np.round(cso_qual_df.index.values*24.)\n",
    "time_array = helper(cso_qual_df.index) + start_day\n",
    "cso_qual_df.index = time_array"
   ]
  },
  {
   "cell_type": "code",
   "execution_count": 5,
   "metadata": {
    "collapsed": true
   },
   "outputs": [],
   "source": [
    "#Change to classification problem\n",
    "cso_qual_df.loc[cso_qual_df[cso_name] > 0, cso_name] = 1"
   ]
  },
  {
   "cell_type": "code",
   "execution_count": 6,
   "metadata": {
    "collapsed": false
   },
   "outputs": [
    {
     "data": {
      "text/html": [
       "<div>\n",
       "<style>\n",
       "    .dataframe thead tr:only-child th {\n",
       "        text-align: right;\n",
       "    }\n",
       "\n",
       "    .dataframe thead th {\n",
       "        text-align: left;\n",
       "    }\n",
       "\n",
       "    .dataframe tbody tr th {\n",
       "        vertical-align: top;\n",
       "    }\n",
       "</style>\n",
       "<table border=\"1\" class=\"dataframe\">\n",
       "  <thead>\n",
       "    <tr style=\"text-align: right;\">\n",
       "      <th></th>\n",
       "      <th>Year</th>\n",
       "      <th>CSO OH-21C MG/hr</th>\n",
       "      <th>Rain, in/hr</th>\n",
       "    </tr>\n",
       "  </thead>\n",
       "  <tbody>\n",
       "    <tr>\n",
       "      <th>2002-01-01 00:00:00</th>\n",
       "      <td>2002</td>\n",
       "      <td>0.0</td>\n",
       "      <td>0.0</td>\n",
       "    </tr>\n",
       "    <tr>\n",
       "      <th>2002-01-01 01:00:00</th>\n",
       "      <td>2002</td>\n",
       "      <td>0.0</td>\n",
       "      <td>0.0</td>\n",
       "    </tr>\n",
       "    <tr>\n",
       "      <th>2002-01-01 02:00:00</th>\n",
       "      <td>2002</td>\n",
       "      <td>0.0</td>\n",
       "      <td>0.0</td>\n",
       "    </tr>\n",
       "    <tr>\n",
       "      <th>2002-01-01 03:00:00</th>\n",
       "      <td>2002</td>\n",
       "      <td>0.0</td>\n",
       "      <td>0.0</td>\n",
       "    </tr>\n",
       "    <tr>\n",
       "      <th>2002-01-01 04:00:00</th>\n",
       "      <td>2002</td>\n",
       "      <td>0.0</td>\n",
       "      <td>0.0</td>\n",
       "    </tr>\n",
       "  </tbody>\n",
       "</table>\n",
       "</div>"
      ],
      "text/plain": [
       "                     Year  CSO OH-21C MG/hr  Rain, in/hr\n",
       "2002-01-01 00:00:00  2002               0.0          0.0\n",
       "2002-01-01 01:00:00  2002               0.0          0.0\n",
       "2002-01-01 02:00:00  2002               0.0          0.0\n",
       "2002-01-01 03:00:00  2002               0.0          0.0\n",
       "2002-01-01 04:00:00  2002               0.0          0.0"
      ]
     },
     "execution_count": 6,
     "metadata": {},
     "output_type": "execute_result"
    }
   ],
   "source": [
    "cso_qual_df.head()"
   ]
  },
  {
   "cell_type": "code",
   "execution_count": 7,
   "metadata": {
    "collapsed": false
   },
   "outputs": [
    {
     "name": "stdout",
     "output_type": "stream",
     "text": [
      "(array([2002, 2003, 2004, 2005, 2006, 2007, 2008, 2009, 2010, 2011]), 'length', 10)\n"
     ]
    }
   ],
   "source": [
    "#Get unique years\n",
    "un_years = np.unique(cso_qual_df['Year'])\n",
    "print(un_years, 'length', len(un_years))"
   ]
  },
  {
   "cell_type": "code",
   "execution_count": 8,
   "metadata": {
    "collapsed": false
   },
   "outputs": [
    {
     "data": {
      "text/html": [
       "<div>\n",
       "<style>\n",
       "    .dataframe thead tr:only-child th {\n",
       "        text-align: right;\n",
       "    }\n",
       "\n",
       "    .dataframe thead th {\n",
       "        text-align: left;\n",
       "    }\n",
       "\n",
       "    .dataframe tbody tr th {\n",
       "        vertical-align: top;\n",
       "    }\n",
       "</style>\n",
       "<table border=\"1\" class=\"dataframe\">\n",
       "  <thead>\n",
       "    <tr style=\"text-align: right;\">\n",
       "      <th></th>\n",
       "      <th>Year</th>\n",
       "      <th>CSO OH-21C MG/hr</th>\n",
       "      <th>Rain, in/hr</th>\n",
       "      <th>Tide prediction (ft)</th>\n",
       "      <th>Air temp (F)</th>\n",
       "    </tr>\n",
       "  </thead>\n",
       "  <tbody>\n",
       "    <tr>\n",
       "      <th>2002-01-01 00:00:00</th>\n",
       "      <td>2002</td>\n",
       "      <td>0.0</td>\n",
       "      <td>0.0</td>\n",
       "      <td>1.497</td>\n",
       "      <td>25.00</td>\n",
       "    </tr>\n",
       "    <tr>\n",
       "      <th>2002-01-01 01:00:00</th>\n",
       "      <td>2002</td>\n",
       "      <td>0.0</td>\n",
       "      <td>0.0</td>\n",
       "      <td>0.395</td>\n",
       "      <td>24.00</td>\n",
       "    </tr>\n",
       "    <tr>\n",
       "      <th>2002-01-01 02:00:00</th>\n",
       "      <td>2002</td>\n",
       "      <td>0.0</td>\n",
       "      <td>0.0</td>\n",
       "      <td>-0.360</td>\n",
       "      <td>24.85</td>\n",
       "    </tr>\n",
       "    <tr>\n",
       "      <th>2002-01-01 03:00:00</th>\n",
       "      <td>2002</td>\n",
       "      <td>0.0</td>\n",
       "      <td>0.0</td>\n",
       "      <td>-0.539</td>\n",
       "      <td>23.85</td>\n",
       "    </tr>\n",
       "    <tr>\n",
       "      <th>2002-01-01 04:00:00</th>\n",
       "      <td>2002</td>\n",
       "      <td>0.0</td>\n",
       "      <td>0.0</td>\n",
       "      <td>0.111</td>\n",
       "      <td>22.85</td>\n",
       "    </tr>\n",
       "  </tbody>\n",
       "</table>\n",
       "</div>"
      ],
      "text/plain": [
       "                     Year  CSO OH-21C MG/hr  Rain, in/hr  \\\n",
       "2002-01-01 00:00:00  2002               0.0          0.0   \n",
       "2002-01-01 01:00:00  2002               0.0          0.0   \n",
       "2002-01-01 02:00:00  2002               0.0          0.0   \n",
       "2002-01-01 03:00:00  2002               0.0          0.0   \n",
       "2002-01-01 04:00:00  2002               0.0          0.0   \n",
       "\n",
       "                     Tide prediction (ft)  Air temp (F)  \n",
       "2002-01-01 00:00:00                 1.497         25.00  \n",
       "2002-01-01 01:00:00                 0.395         24.00  \n",
       "2002-01-01 02:00:00                -0.360         24.85  \n",
       "2002-01-01 03:00:00                -0.539         23.85  \n",
       "2002-01-01 04:00:00                 0.111         22.85  "
      ]
     },
     "execution_count": 8,
     "metadata": {},
     "output_type": "execute_result"
    }
   ],
   "source": [
    "# load tides/temps data and add\n",
    "tides_temps_df = pd.read_pickle('./addl_climate_data/tides_temps_df.pkl')\n",
    "# merge; should have same index\n",
    "cso_qual_df = cso_qual_df.merge(tides_temps_df, how='inner', left_index=True, right_index=True)\n",
    "cso_qual_df.head()"
   ]
  },
  {
   "cell_type": "markdown",
   "metadata": {},
   "source": [
    "## Model training"
   ]
  },
  {
   "cell_type": "code",
   "execution_count": 9,
   "metadata": {
    "collapsed": true
   },
   "outputs": [],
   "source": [
    "#Inputs\n",
    "#model: sklearn model for traning and testing\n",
    "#lag_order: positive integer, number of time lags (hours) to include in addition to current point in model\n",
    "#column_to_model: string, column name from Pandas dataframe that will be used as response variable\n",
    "#predictors: list of strings, column names from Pandas dataframe that will be used as predictors\n",
    "#\n",
    "#Outputs\n",
    "#est: list of trained sklearn model objects\n",
    "#X: training data predictors\n",
    "#y: training data responses\n",
    "\n",
    "def train_model(model, lag_order, column_to_model, predictors):\n",
    "\n",
    "    #Filter to only include columns used here for model training\n",
    "    filter_columns = predictors[:] #create copy of list of predictors\n",
    "    filter_columns.append(column_to_model) #append the response variable\n",
    "    train_data = cso_qual_df.filter(filter_columns, axis=1)\n",
    "\n",
    "    #Create time lagged columns for each predictor\n",
    "    for this_lag in range(1,lag_order+1):\n",
    "        for this_pred in predictors:\n",
    "            train_data.insert\\\n",
    "                (0, this_pred + ' lag '+ str(this_lag),\\\n",
    "                train_data[this_pred].shift(this_lag))\n",
    "\n",
    "    #Drop rows with NaNs that were introduced by shifting to get lags\n",
    "    train_data.dropna(axis=0, inplace=True)\n",
    "\n",
    "    #Make arrays of predictors and response\n",
    "    X = train_data.drop([column_to_model], axis=1).values\n",
    "    y = train_data.filter([column_to_model], axis=1).values\n",
    "\n",
    "    #Fit model in sklearn\n",
    "    est = model.fit(X, y)\n",
    "        \n",
    "    #Return trained model\n",
    "    return est, X, y, train_data"
   ]
  },
  {
   "cell_type": "code",
   "execution_count": 10,
   "metadata": {
    "collapsed": true
   },
   "outputs": [],
   "source": [
    "#Create a logistic model object for training/testing\n",
    "from sklearn import linear_model\n",
    "logistic_reg_model = linear_model.LogisticRegression(fit_intercept = True, class_weight='balanced', C=1000000)"
   ]
  },
  {
   "cell_type": "code",
   "execution_count": 11,
   "metadata": {
    "collapsed": false
   },
   "outputs": [
    {
     "name": "stderr",
     "output_type": "stream",
     "text": [
      "/Users/Steve/anaconda2/lib/python2.7/site-packages/sklearn/utils/validation.py:526: DataConversionWarning: A column-vector y was passed when a 1d array was expected. Please change the shape of y to (n_samples, ), for example using ravel().\n",
      "  y = column_or_1d(y, warn=True)\n"
     ]
    }
   ],
   "source": [
    "#Train the model for CSOs\n",
    "lag_order = 12\n",
    "[est_cso, X_cso, y_cso, train_data_cso] = train_model(model=logistic_reg_model,\\\n",
    "    lag_order=lag_order,\\\n",
    "    column_to_model=cso_name,\\\n",
    "    predictors=['Rain, in/hr', 'Tide prediction (ft)'])"
   ]
  },
  {
   "cell_type": "code",
   "execution_count": 12,
   "metadata": {
    "collapsed": false
   },
   "outputs": [
    {
     "data": {
      "text/html": [
       "<div>\n",
       "<style>\n",
       "    .dataframe thead tr:only-child th {\n",
       "        text-align: right;\n",
       "    }\n",
       "\n",
       "    .dataframe thead th {\n",
       "        text-align: left;\n",
       "    }\n",
       "\n",
       "    .dataframe tbody tr th {\n",
       "        vertical-align: top;\n",
       "    }\n",
       "</style>\n",
       "<table border=\"1\" class=\"dataframe\">\n",
       "  <thead>\n",
       "    <tr style=\"text-align: right;\">\n",
       "      <th></th>\n",
       "      <th>Tide prediction (ft) lag 12</th>\n",
       "      <th>Rain, in/hr lag 12</th>\n",
       "      <th>Tide prediction (ft) lag 11</th>\n",
       "      <th>Rain, in/hr lag 11</th>\n",
       "      <th>Tide prediction (ft) lag 10</th>\n",
       "      <th>Rain, in/hr lag 10</th>\n",
       "      <th>Tide prediction (ft) lag 9</th>\n",
       "      <th>Rain, in/hr lag 9</th>\n",
       "      <th>Tide prediction (ft) lag 8</th>\n",
       "      <th>Rain, in/hr lag 8</th>\n",
       "      <th>...</th>\n",
       "      <th>Rain, in/hr lag 4</th>\n",
       "      <th>Tide prediction (ft) lag 3</th>\n",
       "      <th>Rain, in/hr lag 3</th>\n",
       "      <th>Tide prediction (ft) lag 2</th>\n",
       "      <th>Rain, in/hr lag 2</th>\n",
       "      <th>Tide prediction (ft) lag 1</th>\n",
       "      <th>Rain, in/hr lag 1</th>\n",
       "      <th>Rain, in/hr</th>\n",
       "      <th>Tide prediction (ft)</th>\n",
       "      <th>CSO OH-21C MG/hr</th>\n",
       "    </tr>\n",
       "  </thead>\n",
       "  <tbody>\n",
       "    <tr>\n",
       "      <th>2002-01-01 12:00:00</th>\n",
       "      <td>1.497</td>\n",
       "      <td>0.0</td>\n",
       "      <td>0.395</td>\n",
       "      <td>0.0</td>\n",
       "      <td>-0.360</td>\n",
       "      <td>0.0</td>\n",
       "      <td>-0.539</td>\n",
       "      <td>0.0</td>\n",
       "      <td>0.111</td>\n",
       "      <td>0.0</td>\n",
       "      <td>...</td>\n",
       "      <td>0.0</td>\n",
       "      <td>5.677</td>\n",
       "      <td>0.0</td>\n",
       "      <td>5.201</td>\n",
       "      <td>0.0</td>\n",
       "      <td>4.112</td>\n",
       "      <td>0.0</td>\n",
       "      <td>0.0</td>\n",
       "      <td>2.704</td>\n",
       "      <td>0.0</td>\n",
       "    </tr>\n",
       "    <tr>\n",
       "      <th>2002-01-01 13:00:00</th>\n",
       "      <td>0.395</td>\n",
       "      <td>0.0</td>\n",
       "      <td>-0.360</td>\n",
       "      <td>0.0</td>\n",
       "      <td>-0.539</td>\n",
       "      <td>0.0</td>\n",
       "      <td>0.111</td>\n",
       "      <td>0.0</td>\n",
       "      <td>1.532</td>\n",
       "      <td>0.0</td>\n",
       "      <td>...</td>\n",
       "      <td>0.0</td>\n",
       "      <td>5.201</td>\n",
       "      <td>0.0</td>\n",
       "      <td>4.112</td>\n",
       "      <td>0.0</td>\n",
       "      <td>2.704</td>\n",
       "      <td>0.0</td>\n",
       "      <td>0.0</td>\n",
       "      <td>1.321</td>\n",
       "      <td>0.0</td>\n",
       "    </tr>\n",
       "    <tr>\n",
       "      <th>2002-01-01 14:00:00</th>\n",
       "      <td>-0.360</td>\n",
       "      <td>0.0</td>\n",
       "      <td>-0.539</td>\n",
       "      <td>0.0</td>\n",
       "      <td>0.111</td>\n",
       "      <td>0.0</td>\n",
       "      <td>1.532</td>\n",
       "      <td>0.0</td>\n",
       "      <td>3.227</td>\n",
       "      <td>0.0</td>\n",
       "      <td>...</td>\n",
       "      <td>0.0</td>\n",
       "      <td>4.112</td>\n",
       "      <td>0.0</td>\n",
       "      <td>2.704</td>\n",
       "      <td>0.0</td>\n",
       "      <td>1.321</td>\n",
       "      <td>0.0</td>\n",
       "      <td>0.0</td>\n",
       "      <td>0.156</td>\n",
       "      <td>0.0</td>\n",
       "    </tr>\n",
       "    <tr>\n",
       "      <th>2002-01-01 15:00:00</th>\n",
       "      <td>-0.539</td>\n",
       "      <td>0.0</td>\n",
       "      <td>0.111</td>\n",
       "      <td>0.0</td>\n",
       "      <td>1.532</td>\n",
       "      <td>0.0</td>\n",
       "      <td>3.227</td>\n",
       "      <td>0.0</td>\n",
       "      <td>4.632</td>\n",
       "      <td>0.0</td>\n",
       "      <td>...</td>\n",
       "      <td>0.0</td>\n",
       "      <td>2.704</td>\n",
       "      <td>0.0</td>\n",
       "      <td>1.321</td>\n",
       "      <td>0.0</td>\n",
       "      <td>0.156</td>\n",
       "      <td>0.0</td>\n",
       "      <td>0.0</td>\n",
       "      <td>-0.613</td>\n",
       "      <td>0.0</td>\n",
       "    </tr>\n",
       "    <tr>\n",
       "      <th>2002-01-01 16:00:00</th>\n",
       "      <td>0.111</td>\n",
       "      <td>0.0</td>\n",
       "      <td>1.532</td>\n",
       "      <td>0.0</td>\n",
       "      <td>3.227</td>\n",
       "      <td>0.0</td>\n",
       "      <td>4.632</td>\n",
       "      <td>0.0</td>\n",
       "      <td>5.471</td>\n",
       "      <td>0.0</td>\n",
       "      <td>...</td>\n",
       "      <td>0.0</td>\n",
       "      <td>1.321</td>\n",
       "      <td>0.0</td>\n",
       "      <td>0.156</td>\n",
       "      <td>0.0</td>\n",
       "      <td>-0.613</td>\n",
       "      <td>0.0</td>\n",
       "      <td>0.0</td>\n",
       "      <td>-0.695</td>\n",
       "      <td>0.0</td>\n",
       "    </tr>\n",
       "  </tbody>\n",
       "</table>\n",
       "<p>5 rows × 27 columns</p>\n",
       "</div>"
      ],
      "text/plain": [
       "                     Tide prediction (ft) lag 12  Rain, in/hr lag 12  \\\n",
       "2002-01-01 12:00:00                        1.497                 0.0   \n",
       "2002-01-01 13:00:00                        0.395                 0.0   \n",
       "2002-01-01 14:00:00                       -0.360                 0.0   \n",
       "2002-01-01 15:00:00                       -0.539                 0.0   \n",
       "2002-01-01 16:00:00                        0.111                 0.0   \n",
       "\n",
       "                     Tide prediction (ft) lag 11  Rain, in/hr lag 11  \\\n",
       "2002-01-01 12:00:00                        0.395                 0.0   \n",
       "2002-01-01 13:00:00                       -0.360                 0.0   \n",
       "2002-01-01 14:00:00                       -0.539                 0.0   \n",
       "2002-01-01 15:00:00                        0.111                 0.0   \n",
       "2002-01-01 16:00:00                        1.532                 0.0   \n",
       "\n",
       "                     Tide prediction (ft) lag 10  Rain, in/hr lag 10  \\\n",
       "2002-01-01 12:00:00                       -0.360                 0.0   \n",
       "2002-01-01 13:00:00                       -0.539                 0.0   \n",
       "2002-01-01 14:00:00                        0.111                 0.0   \n",
       "2002-01-01 15:00:00                        1.532                 0.0   \n",
       "2002-01-01 16:00:00                        3.227                 0.0   \n",
       "\n",
       "                     Tide prediction (ft) lag 9  Rain, in/hr lag 9  \\\n",
       "2002-01-01 12:00:00                      -0.539                0.0   \n",
       "2002-01-01 13:00:00                       0.111                0.0   \n",
       "2002-01-01 14:00:00                       1.532                0.0   \n",
       "2002-01-01 15:00:00                       3.227                0.0   \n",
       "2002-01-01 16:00:00                       4.632                0.0   \n",
       "\n",
       "                     Tide prediction (ft) lag 8  Rain, in/hr lag 8  \\\n",
       "2002-01-01 12:00:00                       0.111                0.0   \n",
       "2002-01-01 13:00:00                       1.532                0.0   \n",
       "2002-01-01 14:00:00                       3.227                0.0   \n",
       "2002-01-01 15:00:00                       4.632                0.0   \n",
       "2002-01-01 16:00:00                       5.471                0.0   \n",
       "\n",
       "                           ...         Rain, in/hr lag 4  \\\n",
       "2002-01-01 12:00:00        ...                       0.0   \n",
       "2002-01-01 13:00:00        ...                       0.0   \n",
       "2002-01-01 14:00:00        ...                       0.0   \n",
       "2002-01-01 15:00:00        ...                       0.0   \n",
       "2002-01-01 16:00:00        ...                       0.0   \n",
       "\n",
       "                     Tide prediction (ft) lag 3  Rain, in/hr lag 3  \\\n",
       "2002-01-01 12:00:00                       5.677                0.0   \n",
       "2002-01-01 13:00:00                       5.201                0.0   \n",
       "2002-01-01 14:00:00                       4.112                0.0   \n",
       "2002-01-01 15:00:00                       2.704                0.0   \n",
       "2002-01-01 16:00:00                       1.321                0.0   \n",
       "\n",
       "                     Tide prediction (ft) lag 2  Rain, in/hr lag 2  \\\n",
       "2002-01-01 12:00:00                       5.201                0.0   \n",
       "2002-01-01 13:00:00                       4.112                0.0   \n",
       "2002-01-01 14:00:00                       2.704                0.0   \n",
       "2002-01-01 15:00:00                       1.321                0.0   \n",
       "2002-01-01 16:00:00                       0.156                0.0   \n",
       "\n",
       "                     Tide prediction (ft) lag 1  Rain, in/hr lag 1  \\\n",
       "2002-01-01 12:00:00                       4.112                0.0   \n",
       "2002-01-01 13:00:00                       2.704                0.0   \n",
       "2002-01-01 14:00:00                       1.321                0.0   \n",
       "2002-01-01 15:00:00                       0.156                0.0   \n",
       "2002-01-01 16:00:00                      -0.613                0.0   \n",
       "\n",
       "                     Rain, in/hr  Tide prediction (ft)  CSO OH-21C MG/hr  \n",
       "2002-01-01 12:00:00          0.0                 2.704               0.0  \n",
       "2002-01-01 13:00:00          0.0                 1.321               0.0  \n",
       "2002-01-01 14:00:00          0.0                 0.156               0.0  \n",
       "2002-01-01 15:00:00          0.0                -0.613               0.0  \n",
       "2002-01-01 16:00:00          0.0                -0.695               0.0  \n",
       "\n",
       "[5 rows x 27 columns]"
      ]
     },
     "execution_count": 12,
     "metadata": {},
     "output_type": "execute_result"
    }
   ],
   "source": [
    "#See what the training data looked like\n",
    "train_data_cso.head()"
   ]
  },
  {
   "cell_type": "code",
   "execution_count": 13,
   "metadata": {
    "collapsed": false
   },
   "outputs": [],
   "source": [
    "#Get training metrics\n",
    "y_pred_cso = est_cso.predict(X_cso)\n",
    "train_proba_cso = est_cso.predict_proba(X_cso)\n",
    "train_roc_cso = sklearn.metrics.roc_curve(y_cso, train_proba_cso[:,1])\n",
    "train_acc_cso = est_cso.score(X_cso, y_cso)\n",
    "train_metrics_cso = sklearn.metrics.precision_recall_fscore_support(y_cso, y_pred_cso)"
   ]
  },
  {
   "cell_type": "code",
   "execution_count": 14,
   "metadata": {
    "collapsed": false
   },
   "outputs": [
    {
     "data": {
      "text/plain": [
       "<matplotlib.text.Text at 0x1198f3350>"
      ]
     },
     "execution_count": 14,
     "metadata": {},
     "output_type": "execute_result"
    },
    {
     "data": {
      "image/png": "[encoded data removed]",
      "text/plain": [
       "<matplotlib.figure.Figure at 0x118317b10>"
      ]
     },
     "metadata": {},
     "output_type": "display_data"
    }
   ],
   "source": [
    "#Plot ROC curve\n",
    "plt.plot(train_roc_cso[0], train_roc_cso[1], '-x')\n",
    "plt.xlabel('False positive rate')\n",
    "plt.ylabel('True positive rate')"
   ]
  },
  {
   "cell_type": "code",
   "execution_count": 15,
   "metadata": {
    "collapsed": false
   },
   "outputs": [
    {
     "name": "stdout",
     "output_type": "stream",
     "text": [
      "For true positive rate 0.90, the false positive rate is 0.06 and the threshold is 0.53\n"
     ]
    }
   ],
   "source": [
    "#What is the treshold that results in 90% true positive rate?\n",
    "want_true_pos = 0.90\n",
    "#The difference between desired and all true positive rates in the ROC curve\n",
    "roc_diff = train_roc_cso[1] - want_true_pos\n",
    "#Index of the closest to desired\n",
    "roc_index = np.argmin(np.abs(roc_diff))\n",
    "actual_true_pos = train_roc_cso[1][roc_index]\n",
    "false_pos_rate_for_this_true_pos = train_roc_cso[0][roc_index]\n",
    "thresh_for_this_true_cso = train_roc_cso[2][roc_index]\n",
    "print('For true positive rate {:0.2f}, the false positive rate is {:0.2f} and the threshold is {:0.2f}'.format\\\n",
    "     (actual_true_pos, false_pos_rate_for_this_true_pos, thresh_for_this_true_cso))"
   ]
  },
  {
   "cell_type": "markdown",
   "metadata": {},
   "source": [
    "Now I've trained the model for CSOs on all years of data.  I have the inputs that, in addition to future data, are necessary for the website implementation:  the trained model 'est_cso' and the threshold for declaring an event, 'thresh_for_this_true_cso'.\n",
    "\n",
    "## Website implementation\n",
    "\n",
    "On the website, the trained model can be used directly for prediction.  The input will be an array called 'rain_tide_data', with dimensions 1x26, and elements arranged as: water level 12 hrs ago, rainfall 12 hrs ago, water level 11 hrs ago, rainfall 11 hrs ago, ... water level now, rainfall now.  The format is illustrated above as the columns of 'train_data_cso.head()', minus the last column which is the response (i.e. output) variable.\n",
    "\n",
    "This array will be input to the trained model 'est_cso', using the 'predict_proba' method.  This returns the probability of a CSO occurring at the current time, 'event_proba_cso'.  This probability triggers the 'event_flag_cso' to be True if it's above the threshold ('thresh_for_this_true_cso', or 0.53), and False otherwise.  The 'event_flag_cso' can be used to color the map for the public warning system of when a CSO is occurring.\n",
    "\n",
    "Here I select a random row from the training data to illustrate the procedure."
   ]
  },
  {
   "cell_type": "code",
   "execution_count": 16,
   "metadata": {
    "collapsed": false
   },
   "outputs": [
    {
     "data": {
      "text/plain": [
       "(26,)"
      ]
     },
     "execution_count": 16,
     "metadata": {},
     "output_type": "execute_result"
    }
   ],
   "source": [
    "#Select random row from predictors of training data (X)\n",
    "random_row_index = np.random.randint(low=0, high=np.shape(X_cso)[0])\n",
    "rain_tide_data = X_cso[random_row_index,:]\n",
    "\n",
    "#Show the shape of the data\n",
    "np.shape(rain_tide_data)"
   ]
  },
  {
   "cell_type": "code",
   "execution_count": 17,
   "metadata": {
    "collapsed": false
   },
   "outputs": [
    {
     "data": {
      "text/plain": [
       "False"
      ]
     },
     "execution_count": 17,
     "metadata": {},
     "output_type": "execute_result"
    }
   ],
   "source": [
    "#Use the trained model 'est' to predict probability of CSO outflow for this time\n",
    "event_proba_cso = est_cso.predict_proba(rain_tide_data.reshape(1,-1))\n",
    "#Set event variable to True if probability is above the threshold, False otherwise\n",
    "event_flag_cso = (event_proba_cso[0][1]>thresh_for_this_true_cso)\n",
    "event_flag_cso"
   ]
  },
  {
   "cell_type": "code",
   "execution_count": 18,
   "metadata": {
    "collapsed": false
   },
   "outputs": [
    {
     "data": {
      "text/plain": [
       "array([ 0.])"
      ]
     },
     "execution_count": 18,
     "metadata": {},
     "output_type": "execute_result"
    }
   ],
   "source": [
    "#Confirm with the event from response of training data (y) (0. = False, 1 = True )\n",
    "y_cso[random_row_index]"
   ]
  },
  {
   "cell_type": "markdown",
   "metadata": {},
   "source": [
    "For peace of mind, I find a time of CSO overflow and test the implementation there."
   ]
  },
  {
   "cell_type": "code",
   "execution_count": 19,
   "metadata": {
    "collapsed": false
   },
   "outputs": [
    {
     "data": {
      "text/plain": [
       "True"
      ]
     },
     "execution_count": 19,
     "metadata": {},
     "output_type": "execute_result"
    }
   ],
   "source": [
    "#Try it with a positive event (only ~1% of data)\n",
    "pos_row_index = np.random.choice(np.nonzero(y_cso)[0])\n",
    "#Repeat the rest\n",
    "rain_tide_data = X_cso[pos_row_index,:]\n",
    "event_proba_cso = est_cso.predict_proba(rain_tide_data.reshape(1,-1))\n",
    "event_flag_cso = (event_proba_cso[0][1]>thresh_for_this_true_cso)\n",
    "event_flag_cso"
   ]
  },
  {
   "cell_type": "code",
   "execution_count": 20,
   "metadata": {
    "collapsed": false
   },
   "outputs": [
    {
     "data": {
      "text/plain": [
       "array([ 1.])"
      ]
     },
     "execution_count": 20,
     "metadata": {},
     "output_type": "execute_result"
    }
   ],
   "source": [
    "#Confirm with the event from the training data (0. = False, 1 = True )\n",
    "y_cso[pos_row_index]"
   ]
  },
  {
   "cell_type": "markdown",
   "metadata": {},
   "source": [
    "Looks like it works!  Note there is a chance that the model would make an incorrect prediction, however.  This is now ready to be tested on the website."
   ]
  },
  {
   "cell_type": "markdown",
   "metadata": {},
   "source": [
    "## Train model for bacteria event"
   ]
  },
  {
   "cell_type": "code",
   "execution_count": 21,
   "metadata": {
    "collapsed": true
   },
   "outputs": [],
   "source": [
    "#Load pathogen data and add it to the data frame\n",
    "\n",
    "# fname = 'ci_baseline_2002_2011pathogen_and_2008dissolved_oxygen_20170509B.xlsx'\n",
    "# patho_df = pd.read_excel(path + fname, sheetname='ten_year_pathogen', header=3, \\\n",
    "#                     index_col=2)\n",
    "\n",
    "#Pickle for faster loading\n",
    "# patho_df.to_pickle(path + 'patho_df.pkl')  # where to save it, usually as a .pkl\n",
    "patho_df = pd.read_pickle(path + 'patho_df.pkl')"
   ]
  },
  {
   "cell_type": "code",
   "execution_count": 22,
   "metadata": {
    "collapsed": false
   },
   "outputs": [
    {
     "data": {
      "text/html": [
       "<div>\n",
       "<style>\n",
       "    .dataframe thead tr:only-child th {\n",
       "        text-align: right;\n",
       "    }\n",
       "\n",
       "    .dataframe thead th {\n",
       "        text-align: left;\n",
       "    }\n",
       "\n",
       "    .dataframe tbody tr th {\n",
       "        vertical-align: top;\n",
       "    }\n",
       "</style>\n",
       "<table border=\"1\" class=\"dataframe\">\n",
       "  <thead>\n",
       "    <tr style=\"text-align: right;\">\n",
       "      <th></th>\n",
       "      <th>Station ID</th>\n",
       "      <th>Year</th>\n",
       "      <th>Fecal Coliform</th>\n",
       "      <th>Enterococcus</th>\n",
       "      <th>Station ID.1</th>\n",
       "      <th>Fecal Coliform.1</th>\n",
       "      <th>Enterococcus.1</th>\n",
       "      <th>Station ID.2</th>\n",
       "      <th>Fecal Coliform.2</th>\n",
       "      <th>Enterococcus.2</th>\n",
       "      <th>(in/hr)</th>\n",
       "    </tr>\n",
       "    <tr>\n",
       "      <th>(day)</th>\n",
       "      <th></th>\n",
       "      <th></th>\n",
       "      <th></th>\n",
       "      <th></th>\n",
       "      <th></th>\n",
       "      <th></th>\n",
       "      <th></th>\n",
       "      <th></th>\n",
       "      <th></th>\n",
       "      <th></th>\n",
       "      <th></th>\n",
       "    </tr>\n",
       "  </thead>\n",
       "  <tbody>\n",
       "    <tr>\n",
       "      <th>0.00000</th>\n",
       "      <td>CIC2</td>\n",
       "      <td>2002</td>\n",
       "      <td>44</td>\n",
       "      <td>30</td>\n",
       "      <td>CIC3</td>\n",
       "      <td>37</td>\n",
       "      <td>19</td>\n",
       "      <td>GB1</td>\n",
       "      <td>28</td>\n",
       "      <td>7</td>\n",
       "      <td>0.0</td>\n",
       "    </tr>\n",
       "    <tr>\n",
       "      <th>0.04167</th>\n",
       "      <td>CIC2</td>\n",
       "      <td>2002</td>\n",
       "      <td>44</td>\n",
       "      <td>30</td>\n",
       "      <td>CIC3</td>\n",
       "      <td>37</td>\n",
       "      <td>19</td>\n",
       "      <td>GB1</td>\n",
       "      <td>29</td>\n",
       "      <td>7</td>\n",
       "      <td>0.0</td>\n",
       "    </tr>\n",
       "    <tr>\n",
       "      <th>0.08333</th>\n",
       "      <td>CIC2</td>\n",
       "      <td>2002</td>\n",
       "      <td>41</td>\n",
       "      <td>27</td>\n",
       "      <td>CIC3</td>\n",
       "      <td>36</td>\n",
       "      <td>19</td>\n",
       "      <td>GB1</td>\n",
       "      <td>31</td>\n",
       "      <td>8</td>\n",
       "      <td>0.0</td>\n",
       "    </tr>\n",
       "    <tr>\n",
       "      <th>0.12500</th>\n",
       "      <td>CIC2</td>\n",
       "      <td>2002</td>\n",
       "      <td>39</td>\n",
       "      <td>25</td>\n",
       "      <td>CIC3</td>\n",
       "      <td>35</td>\n",
       "      <td>17</td>\n",
       "      <td>GB1</td>\n",
       "      <td>36</td>\n",
       "      <td>10</td>\n",
       "      <td>0.0</td>\n",
       "    </tr>\n",
       "    <tr>\n",
       "      <th>0.16667</th>\n",
       "      <td>CIC2</td>\n",
       "      <td>2002</td>\n",
       "      <td>38</td>\n",
       "      <td>25</td>\n",
       "      <td>CIC3</td>\n",
       "      <td>34</td>\n",
       "      <td>17</td>\n",
       "      <td>GB1</td>\n",
       "      <td>38</td>\n",
       "      <td>11</td>\n",
       "      <td>0.0</td>\n",
       "    </tr>\n",
       "  </tbody>\n",
       "</table>\n",
       "</div>"
      ],
      "text/plain": [
       "        Station ID  Year  Fecal Coliform  Enterococcus Station ID.1  \\\n",
       "(day)                                                                 \n",
       "0.00000       CIC2  2002              44            30         CIC3   \n",
       "0.04167       CIC2  2002              44            30         CIC3   \n",
       "0.08333       CIC2  2002              41            27         CIC3   \n",
       "0.12500       CIC2  2002              39            25         CIC3   \n",
       "0.16667       CIC2  2002              38            25         CIC3   \n",
       "\n",
       "         Fecal Coliform.1  Enterococcus.1 Station ID.2  Fecal Coliform.2  \\\n",
       "(day)                                                                      \n",
       "0.00000                37              19          GB1                28   \n",
       "0.04167                37              19          GB1                29   \n",
       "0.08333                36              19          GB1                31   \n",
       "0.12500                35              17          GB1                36   \n",
       "0.16667                34              17          GB1                38   \n",
       "\n",
       "         Enterococcus.2  (in/hr)  \n",
       "(day)                             \n",
       "0.00000               7      0.0  \n",
       "0.04167               7      0.0  \n",
       "0.08333               8      0.0  \n",
       "0.12500              10      0.0  \n",
       "0.16667              11      0.0  "
      ]
     },
     "execution_count": 22,
     "metadata": {},
     "output_type": "execute_result"
    }
   ],
   "source": [
    "patho_df.head()"
   ]
  },
  {
   "cell_type": "code",
   "execution_count": 23,
   "metadata": {
    "collapsed": true
   },
   "outputs": [],
   "source": [
    "#Add binarized version to existing dataframe\n",
    "regulation_limit = 1000. #this could be updated if regulations change\n",
    "\n",
    "cso_qual_df['Fecal Coliform 1'] = patho_df['Fecal Coliform'].values\n",
    "cso_qual_df.loc[cso_qual_df['Fecal Coliform 1'] < regulation_limit, 'Fecal Coliform 1'] = 0\n",
    "cso_qual_df.loc[cso_qual_df['Fecal Coliform 1'] >= regulation_limit, 'Fecal Coliform 1'] = 1\n",
    "\n",
    "cso_qual_df['Fecal Coliform 2'] = patho_df['Fecal Coliform.1'].values\n",
    "cso_qual_df.loc[cso_qual_df['Fecal Coliform 2'] < regulation_limit, 'Fecal Coliform 2'] = 0\n",
    "cso_qual_df.loc[cso_qual_df['Fecal Coliform 2'] >= regulation_limit, 'Fecal Coliform 2'] = 1\n",
    "\n",
    "cso_qual_df['Fecal Coliform 3'] = patho_df['Fecal Coliform.2'].values\n",
    "cso_qual_df.loc[cso_qual_df['Fecal Coliform 3'] < regulation_limit, 'Fecal Coliform 3'] = 0\n",
    "cso_qual_df.loc[cso_qual_df['Fecal Coliform 3'] >= regulation_limit, 'Fecal Coliform 3'] = 1"
   ]
  },
  {
   "cell_type": "code",
   "execution_count": 24,
   "metadata": {
    "collapsed": false
   },
   "outputs": [
    {
     "data": {
      "text/html": [
       "<div>\n",
       "<style>\n",
       "    .dataframe thead tr:only-child th {\n",
       "        text-align: right;\n",
       "    }\n",
       "\n",
       "    .dataframe thead th {\n",
       "        text-align: left;\n",
       "    }\n",
       "\n",
       "    .dataframe tbody tr th {\n",
       "        vertical-align: top;\n",
       "    }\n",
       "</style>\n",
       "<table border=\"1\" class=\"dataframe\">\n",
       "  <thead>\n",
       "    <tr style=\"text-align: right;\">\n",
       "      <th></th>\n",
       "      <th>Year</th>\n",
       "      <th>CSO OH-21C MG/hr</th>\n",
       "      <th>Rain, in/hr</th>\n",
       "      <th>Tide prediction (ft)</th>\n",
       "      <th>Air temp (F)</th>\n",
       "      <th>Fecal Coliform 1</th>\n",
       "      <th>Fecal Coliform 2</th>\n",
       "      <th>Fecal Coliform 3</th>\n",
       "    </tr>\n",
       "  </thead>\n",
       "  <tbody>\n",
       "    <tr>\n",
       "      <th>2002-01-01 00:00:00</th>\n",
       "      <td>2002</td>\n",
       "      <td>0.0</td>\n",
       "      <td>0.0</td>\n",
       "      <td>1.497</td>\n",
       "      <td>25.00</td>\n",
       "      <td>0</td>\n",
       "      <td>0</td>\n",
       "      <td>0</td>\n",
       "    </tr>\n",
       "    <tr>\n",
       "      <th>2002-01-01 01:00:00</th>\n",
       "      <td>2002</td>\n",
       "      <td>0.0</td>\n",
       "      <td>0.0</td>\n",
       "      <td>0.395</td>\n",
       "      <td>24.00</td>\n",
       "      <td>0</td>\n",
       "      <td>0</td>\n",
       "      <td>0</td>\n",
       "    </tr>\n",
       "    <tr>\n",
       "      <th>2002-01-01 02:00:00</th>\n",
       "      <td>2002</td>\n",
       "      <td>0.0</td>\n",
       "      <td>0.0</td>\n",
       "      <td>-0.360</td>\n",
       "      <td>24.85</td>\n",
       "      <td>0</td>\n",
       "      <td>0</td>\n",
       "      <td>0</td>\n",
       "    </tr>\n",
       "    <tr>\n",
       "      <th>2002-01-01 03:00:00</th>\n",
       "      <td>2002</td>\n",
       "      <td>0.0</td>\n",
       "      <td>0.0</td>\n",
       "      <td>-0.539</td>\n",
       "      <td>23.85</td>\n",
       "      <td>0</td>\n",
       "      <td>0</td>\n",
       "      <td>0</td>\n",
       "    </tr>\n",
       "    <tr>\n",
       "      <th>2002-01-01 04:00:00</th>\n",
       "      <td>2002</td>\n",
       "      <td>0.0</td>\n",
       "      <td>0.0</td>\n",
       "      <td>0.111</td>\n",
       "      <td>22.85</td>\n",
       "      <td>0</td>\n",
       "      <td>0</td>\n",
       "      <td>0</td>\n",
       "    </tr>\n",
       "  </tbody>\n",
       "</table>\n",
       "</div>"
      ],
      "text/plain": [
       "                     Year  CSO OH-21C MG/hr  Rain, in/hr  \\\n",
       "2002-01-01 00:00:00  2002               0.0          0.0   \n",
       "2002-01-01 01:00:00  2002               0.0          0.0   \n",
       "2002-01-01 02:00:00  2002               0.0          0.0   \n",
       "2002-01-01 03:00:00  2002               0.0          0.0   \n",
       "2002-01-01 04:00:00  2002               0.0          0.0   \n",
       "\n",
       "                     Tide prediction (ft)  Air temp (F)  Fecal Coliform 1  \\\n",
       "2002-01-01 00:00:00                 1.497         25.00                 0   \n",
       "2002-01-01 01:00:00                 0.395         24.00                 0   \n",
       "2002-01-01 02:00:00                -0.360         24.85                 0   \n",
       "2002-01-01 03:00:00                -0.539         23.85                 0   \n",
       "2002-01-01 04:00:00                 0.111         22.85                 0   \n",
       "\n",
       "                     Fecal Coliform 2  Fecal Coliform 3  \n",
       "2002-01-01 00:00:00                 0                 0  \n",
       "2002-01-01 01:00:00                 0                 0  \n",
       "2002-01-01 02:00:00                 0                 0  \n",
       "2002-01-01 03:00:00                 0                 0  \n",
       "2002-01-01 04:00:00                 0                 0  "
      ]
     },
     "execution_count": 24,
     "metadata": {},
     "output_type": "execute_result"
    }
   ],
   "source": [
    "cso_qual_df.head()"
   ]
  },
  {
   "cell_type": "markdown",
   "metadata": {},
   "source": [
    "The rest of the notebook essentially repeats the model training and checking procedure from above, but for the fecal coliform model.\n",
    "\n",
    "I train the model using the first of the three fecal coliform series."
   ]
  },
  {
   "cell_type": "code",
   "execution_count": 25,
   "metadata": {
    "collapsed": false
   },
   "outputs": [
    {
     "data": {
      "text/plain": [
       "71.6301338672638"
      ]
     },
     "execution_count": 25,
     "metadata": {},
     "output_type": "execute_result"
    }
   ],
   "source": [
    "#Train the model for bacteria\n",
    "lag_order = 60\n",
    "#Also note model training time, this one takes a little over a minute\n",
    "start_time = timeit.default_timer()\n",
    "[est_fc, X_fc, y_fc, train_data_fc] = train_model(model=logistic_reg_model,\\\n",
    "    lag_order=lag_order,\\\n",
    "    column_to_model='Fecal Coliform 1',\\\n",
    "    predictors=['Rain, in/hr', 'Tide prediction (ft)', 'Air temp (F)'])\n",
    "elapsed = timeit.default_timer() - start_time\n",
    "elapsed"
   ]
  },
  {
   "cell_type": "code",
   "execution_count": 26,
   "metadata": {
    "collapsed": false
   },
   "outputs": [
    {
     "data": {
      "text/html": [
       "<div>\n",
       "<style>\n",
       "    .dataframe thead tr:only-child th {\n",
       "        text-align: right;\n",
       "    }\n",
       "\n",
       "    .dataframe thead th {\n",
       "        text-align: left;\n",
       "    }\n",
       "\n",
       "    .dataframe tbody tr th {\n",
       "        vertical-align: top;\n",
       "    }\n",
       "</style>\n",
       "<table border=\"1\" class=\"dataframe\">\n",
       "  <thead>\n",
       "    <tr style=\"text-align: right;\">\n",
       "      <th></th>\n",
       "      <th>Air temp (F) lag 60</th>\n",
       "      <th>Tide prediction (ft) lag 60</th>\n",
       "      <th>Rain, in/hr lag 60</th>\n",
       "      <th>Air temp (F) lag 59</th>\n",
       "      <th>Tide prediction (ft) lag 59</th>\n",
       "      <th>Rain, in/hr lag 59</th>\n",
       "      <th>Air temp (F) lag 58</th>\n",
       "      <th>Tide prediction (ft) lag 58</th>\n",
       "      <th>Rain, in/hr lag 58</th>\n",
       "      <th>Air temp (F) lag 57</th>\n",
       "      <th>...</th>\n",
       "      <th>Air temp (F) lag 2</th>\n",
       "      <th>Tide prediction (ft) lag 2</th>\n",
       "      <th>Rain, in/hr lag 2</th>\n",
       "      <th>Air temp (F) lag 1</th>\n",
       "      <th>Tide prediction (ft) lag 1</th>\n",
       "      <th>Rain, in/hr lag 1</th>\n",
       "      <th>Rain, in/hr</th>\n",
       "      <th>Tide prediction (ft)</th>\n",
       "      <th>Air temp (F)</th>\n",
       "      <th>Fecal Coliform 1</th>\n",
       "    </tr>\n",
       "  </thead>\n",
       "  <tbody>\n",
       "    <tr>\n",
       "      <th>2002-01-03 12:00:00</th>\n",
       "      <td>25.00</td>\n",
       "      <td>1.497</td>\n",
       "      <td>0.0</td>\n",
       "      <td>24.00</td>\n",
       "      <td>0.395</td>\n",
       "      <td>0.0</td>\n",
       "      <td>24.85</td>\n",
       "      <td>-0.360</td>\n",
       "      <td>0.0</td>\n",
       "      <td>23.85</td>\n",
       "      <td>...</td>\n",
       "      <td>30.130435</td>\n",
       "      <td>5.248</td>\n",
       "      <td>0.0</td>\n",
       "      <td>31.0</td>\n",
       "      <td>5.326</td>\n",
       "      <td>0.0</td>\n",
       "      <td>0.0</td>\n",
       "      <td>4.730</td>\n",
       "      <td>32.30</td>\n",
       "      <td>0</td>\n",
       "    </tr>\n",
       "    <tr>\n",
       "      <th>2002-01-03 13:00:00</th>\n",
       "      <td>24.00</td>\n",
       "      <td>0.395</td>\n",
       "      <td>0.0</td>\n",
       "      <td>24.85</td>\n",
       "      <td>-0.360</td>\n",
       "      <td>0.0</td>\n",
       "      <td>23.85</td>\n",
       "      <td>-0.539</td>\n",
       "      <td>0.0</td>\n",
       "      <td>22.85</td>\n",
       "      <td>...</td>\n",
       "      <td>31.000000</td>\n",
       "      <td>5.326</td>\n",
       "      <td>0.0</td>\n",
       "      <td>32.3</td>\n",
       "      <td>4.730</td>\n",
       "      <td>0.0</td>\n",
       "      <td>0.0</td>\n",
       "      <td>3.548</td>\n",
       "      <td>33.00</td>\n",
       "      <td>0</td>\n",
       "    </tr>\n",
       "    <tr>\n",
       "      <th>2002-01-03 14:00:00</th>\n",
       "      <td>24.85</td>\n",
       "      <td>-0.360</td>\n",
       "      <td>0.0</td>\n",
       "      <td>23.85</td>\n",
       "      <td>-0.539</td>\n",
       "      <td>0.0</td>\n",
       "      <td>22.85</td>\n",
       "      <td>0.111</td>\n",
       "      <td>0.0</td>\n",
       "      <td>22.15</td>\n",
       "      <td>...</td>\n",
       "      <td>32.300000</td>\n",
       "      <td>4.730</td>\n",
       "      <td>0.0</td>\n",
       "      <td>33.0</td>\n",
       "      <td>3.548</td>\n",
       "      <td>0.0</td>\n",
       "      <td>0.0</td>\n",
       "      <td>2.138</td>\n",
       "      <td>36.00</td>\n",
       "      <td>0</td>\n",
       "    </tr>\n",
       "    <tr>\n",
       "      <th>2002-01-03 15:00:00</th>\n",
       "      <td>23.85</td>\n",
       "      <td>-0.539</td>\n",
       "      <td>0.0</td>\n",
       "      <td>22.85</td>\n",
       "      <td>0.111</td>\n",
       "      <td>0.0</td>\n",
       "      <td>22.15</td>\n",
       "      <td>1.532</td>\n",
       "      <td>0.0</td>\n",
       "      <td>23.00</td>\n",
       "      <td>...</td>\n",
       "      <td>33.000000</td>\n",
       "      <td>3.548</td>\n",
       "      <td>0.0</td>\n",
       "      <td>36.0</td>\n",
       "      <td>2.138</td>\n",
       "      <td>0.0</td>\n",
       "      <td>0.0</td>\n",
       "      <td>0.859</td>\n",
       "      <td>35.70</td>\n",
       "      <td>0</td>\n",
       "    </tr>\n",
       "    <tr>\n",
       "      <th>2002-01-03 16:00:00</th>\n",
       "      <td>22.85</td>\n",
       "      <td>0.111</td>\n",
       "      <td>0.0</td>\n",
       "      <td>22.15</td>\n",
       "      <td>1.532</td>\n",
       "      <td>0.0</td>\n",
       "      <td>23.00</td>\n",
       "      <td>3.227</td>\n",
       "      <td>0.0</td>\n",
       "      <td>23.00</td>\n",
       "      <td>...</td>\n",
       "      <td>36.000000</td>\n",
       "      <td>2.138</td>\n",
       "      <td>0.0</td>\n",
       "      <td>35.7</td>\n",
       "      <td>0.859</td>\n",
       "      <td>0.0</td>\n",
       "      <td>0.0</td>\n",
       "      <td>-0.105</td>\n",
       "      <td>33.85</td>\n",
       "      <td>0</td>\n",
       "    </tr>\n",
       "  </tbody>\n",
       "</table>\n",
       "<p>5 rows × 184 columns</p>\n",
       "</div>"
      ],
      "text/plain": [
       "                     Air temp (F) lag 60  Tide prediction (ft) lag 60  \\\n",
       "2002-01-03 12:00:00                25.00                        1.497   \n",
       "2002-01-03 13:00:00                24.00                        0.395   \n",
       "2002-01-03 14:00:00                24.85                       -0.360   \n",
       "2002-01-03 15:00:00                23.85                       -0.539   \n",
       "2002-01-03 16:00:00                22.85                        0.111   \n",
       "\n",
       "                     Rain, in/hr lag 60  Air temp (F) lag 59  \\\n",
       "2002-01-03 12:00:00                 0.0                24.00   \n",
       "2002-01-03 13:00:00                 0.0                24.85   \n",
       "2002-01-03 14:00:00                 0.0                23.85   \n",
       "2002-01-03 15:00:00                 0.0                22.85   \n",
       "2002-01-03 16:00:00                 0.0                22.15   \n",
       "\n",
       "                     Tide prediction (ft) lag 59  Rain, in/hr lag 59  \\\n",
       "2002-01-03 12:00:00                        0.395                 0.0   \n",
       "2002-01-03 13:00:00                       -0.360                 0.0   \n",
       "2002-01-03 14:00:00                       -0.539                 0.0   \n",
       "2002-01-03 15:00:00                        0.111                 0.0   \n",
       "2002-01-03 16:00:00                        1.532                 0.0   \n",
       "\n",
       "                     Air temp (F) lag 58  Tide prediction (ft) lag 58  \\\n",
       "2002-01-03 12:00:00                24.85                       -0.360   \n",
       "2002-01-03 13:00:00                23.85                       -0.539   \n",
       "2002-01-03 14:00:00                22.85                        0.111   \n",
       "2002-01-03 15:00:00                22.15                        1.532   \n",
       "2002-01-03 16:00:00                23.00                        3.227   \n",
       "\n",
       "                     Rain, in/hr lag 58  Air temp (F) lag 57  \\\n",
       "2002-01-03 12:00:00                 0.0                23.85   \n",
       "2002-01-03 13:00:00                 0.0                22.85   \n",
       "2002-01-03 14:00:00                 0.0                22.15   \n",
       "2002-01-03 15:00:00                 0.0                23.00   \n",
       "2002-01-03 16:00:00                 0.0                23.00   \n",
       "\n",
       "                           ...         Air temp (F) lag 2  \\\n",
       "2002-01-03 12:00:00        ...                  30.130435   \n",
       "2002-01-03 13:00:00        ...                  31.000000   \n",
       "2002-01-03 14:00:00        ...                  32.300000   \n",
       "2002-01-03 15:00:00        ...                  33.000000   \n",
       "2002-01-03 16:00:00        ...                  36.000000   \n",
       "\n",
       "                     Tide prediction (ft) lag 2  Rain, in/hr lag 2  \\\n",
       "2002-01-03 12:00:00                       5.248                0.0   \n",
       "2002-01-03 13:00:00                       5.326                0.0   \n",
       "2002-01-03 14:00:00                       4.730                0.0   \n",
       "2002-01-03 15:00:00                       3.548                0.0   \n",
       "2002-01-03 16:00:00                       2.138                0.0   \n",
       "\n",
       "                     Air temp (F) lag 1  Tide prediction (ft) lag 1  \\\n",
       "2002-01-03 12:00:00                31.0                       5.326   \n",
       "2002-01-03 13:00:00                32.3                       4.730   \n",
       "2002-01-03 14:00:00                33.0                       3.548   \n",
       "2002-01-03 15:00:00                36.0                       2.138   \n",
       "2002-01-03 16:00:00                35.7                       0.859   \n",
       "\n",
       "                     Rain, in/hr lag 1  Rain, in/hr  Tide prediction (ft)  \\\n",
       "2002-01-03 12:00:00                0.0          0.0                 4.730   \n",
       "2002-01-03 13:00:00                0.0          0.0                 3.548   \n",
       "2002-01-03 14:00:00                0.0          0.0                 2.138   \n",
       "2002-01-03 15:00:00                0.0          0.0                 0.859   \n",
       "2002-01-03 16:00:00                0.0          0.0                -0.105   \n",
       "\n",
       "                     Air temp (F)  Fecal Coliform 1  \n",
       "2002-01-03 12:00:00         32.30                 0  \n",
       "2002-01-03 13:00:00         33.00                 0  \n",
       "2002-01-03 14:00:00         36.00                 0  \n",
       "2002-01-03 15:00:00         35.70                 0  \n",
       "2002-01-03 16:00:00         33.85                 0  \n",
       "\n",
       "[5 rows x 184 columns]"
      ]
     },
     "execution_count": 26,
     "metadata": {},
     "output_type": "execute_result"
    }
   ],
   "source": [
    "#See what the training data looked like\n",
    "train_data_fc.head()"
   ]
  },
  {
   "cell_type": "code",
   "execution_count": 27,
   "metadata": {
    "collapsed": false
   },
   "outputs": [],
   "source": [
    "#Get training metrics\n",
    "y_pred_fc = est_fc.predict(X_fc)\n",
    "train_proba_fc = est_fc.predict_proba(X_fc)\n",
    "train_roc_fc = sklearn.metrics.roc_curve(y_fc, train_proba_fc[:,1])\n",
    "train_acc_fc = est_fc.score(X_fc, y_fc)\n",
    "train_metrics_fc = sklearn.metrics.precision_recall_fscore_support(y_fc, y_pred_fc)"
   ]
  },
  {
   "cell_type": "code",
   "execution_count": 28,
   "metadata": {
    "collapsed": false
   },
   "outputs": [
    {
     "data": {
      "text/plain": [
       "<matplotlib.text.Text at 0x119b96590>"
      ]
     },
     "execution_count": 28,
     "metadata": {},
     "output_type": "execute_result"
    },
    {
     "data": {
      "image/png": "[encoded data removed]",
      "text/plain": [
       "<matplotlib.figure.Figure at 0x119a0a1d0>"
      ]
     },
     "metadata": {},
     "output_type": "display_data"
    }
   ],
   "source": [
    "#Plot ROC curve\n",
    "plt.plot(train_roc_fc[0], train_roc_fc[1], '-x')\n",
    "plt.xlabel('False positive rate')\n",
    "plt.ylabel('True positive rate')"
   ]
  },
  {
   "cell_type": "code",
   "execution_count": 29,
   "metadata": {
    "collapsed": false
   },
   "outputs": [
    {
     "name": "stdout",
     "output_type": "stream",
     "text": [
      "For true positive rate 0.90, the false positive rate is 0.08 and the threshold is 0.46\n"
     ]
    }
   ],
   "source": [
    "#What is the treshold that results in 90% true positive rate?\n",
    "want_true_pos = 0.90\n",
    "#The difference between desired and all true positive rates in the ROC curve\n",
    "roc_diff = train_roc_fc[1] - want_true_pos\n",
    "#Index of the closest to desired\n",
    "roc_index = np.argmin(np.abs(roc_diff))\n",
    "actual_true_pos = train_roc_fc[1][roc_index]\n",
    "false_pos_rate_for_this_true_pos = train_roc_fc[0][roc_index]\n",
    "thresh_for_this_true_fc = train_roc_fc[2][roc_index]\n",
    "print('For true positive rate {:0.2f}, the false positive rate is {:0.2f} and the threshold is {:0.2f}'.format\\\n",
    "     (actual_true_pos, false_pos_rate_for_this_true_pos, thresh_for_this_true_fc))"
   ]
  },
  {
   "cell_type": "markdown",
   "metadata": {},
   "source": [
    "## Website implementation\n",
    "\n",
    "On the website, the trained model can be used directly for prediction.  The input will be an array called 'rain_tide_temp_data', with dimensions 1x183, and elements arranged as: air temp 60 hrs ago, water level 60 hrs ago, rainfall 60 hrs ago, air temp 59 hrs ago, water level 59 hrs ago, rainfall 59 hrs ago, ... air temp now, water level now, rainfall now.  The format is illustrated above as the columns of 'train_data.head()', minus the last column which is the response (i.e. output) variable.\n",
    "\n",
    "This array will be input to the trained model 'est_fc', with the 'predict_proba' method.  This returns the probability of FC > 1000 at the current time, 'event_proba_fc'.  This probability triggers the 'event_flag_fc' to be True if it's above the threshold ('thresh_for_this_true_fc', or 0.46), and False otherwise.  The 'event_flag_fc' can be used to color the map for the public warning system of when fecal coliform is above 1000 colonies per 100 mL.\n",
    "\n",
    "Here I select a random row from the training data to illustrate the procedure."
   ]
  },
  {
   "cell_type": "code",
   "execution_count": 30,
   "metadata": {
    "collapsed": false
   },
   "outputs": [
    {
     "data": {
      "text/plain": [
       "(183,)"
      ]
     },
     "execution_count": 30,
     "metadata": {},
     "output_type": "execute_result"
    }
   ],
   "source": [
    "#Select random row from predictors of training data (X)\n",
    "random_row_index = np.random.randint(low=0, high=np.shape(X_fc)[0])\n",
    "rain_tide_temp_data = X_fc[random_row_index,:]\n",
    "\n",
    "#Show the shape of the data\n",
    "np.shape(rain_tide_temp_data)"
   ]
  },
  {
   "cell_type": "code",
   "execution_count": 31,
   "metadata": {
    "collapsed": false
   },
   "outputs": [
    {
     "data": {
      "text/plain": [
       "True"
      ]
     },
     "execution_count": 31,
     "metadata": {},
     "output_type": "execute_result"
    }
   ],
   "source": [
    "#Use the trained model 'est' to predict probability of CSO outflow for this time\n",
    "event_proba_fc = est_fc.predict_proba(rain_tide_temp_data.reshape(1,-1))\n",
    "#Set event variable to True if probability is above the threshold, False otherwise\n",
    "event_flag_fc = (event_proba_fc[0][1]>thresh_for_this_true_fc)\n",
    "event_flag_fc"
   ]
  },
  {
   "cell_type": "code",
   "execution_count": 32,
   "metadata": {
    "collapsed": false
   },
   "outputs": [
    {
     "data": {
      "text/plain": [
       "array([1])"
      ]
     },
     "execution_count": 32,
     "metadata": {},
     "output_type": "execute_result"
    }
   ],
   "source": [
    "#Confirm with the event from response of training data (y) (0. = False, 1 = True )\n",
    "y_fc[random_row_index]"
   ]
  },
  {
   "cell_type": "markdown",
   "metadata": {},
   "source": [
    "For peace of mind, I find a time of FC > 1000 and test the implementation there."
   ]
  },
  {
   "cell_type": "code",
   "execution_count": 33,
   "metadata": {
    "collapsed": false
   },
   "outputs": [
    {
     "data": {
      "text/plain": [
       "True"
      ]
     },
     "execution_count": 33,
     "metadata": {},
     "output_type": "execute_result"
    }
   ],
   "source": [
    "#Try it with a positive event, about 29% of FC data so not as rare.\n",
    "pos_row_index = np.random.choice(np.nonzero(y_fc)[0])\n",
    "#Repeat the rest\n",
    "rain_tide_temp_data = X_fc[pos_row_index,:]\n",
    "event_proba_fc = est_fc.predict_proba(rain_tide_temp_data.reshape(1,-1))\n",
    "event_flag_fc = (event_proba_fc[0][1]>thresh_for_this_true_fc)\n",
    "event_flag_fc"
   ]
  },
  {
   "cell_type": "code",
   "execution_count": 34,
   "metadata": {
    "collapsed": false
   },
   "outputs": [
    {
     "data": {
      "text/plain": [
       "array([1])"
      ]
     },
     "execution_count": 34,
     "metadata": {},
     "output_type": "execute_result"
    }
   ],
   "source": [
    "#Confirm with the event from the training data (0. = False, 1 = True )\n",
    "y_fc[pos_row_index]"
   ]
  },
  {
   "cell_type": "markdown",
   "metadata": {},
   "source": [
    "Looks like it works!  Note there is a chance that the model would make an incorrect prediction, however.  This is now ready to be tested on the website.\n"
   ]
  },
  {
   "cell_type": "code",
   "execution_count": null,
   "metadata": {
    "collapsed": true
   },
   "outputs": [],
   "source": []
  }
 ],
 "metadata": {
  "kernelspec": {
   "display_name": "Python 2",
   "language": "python",
   "name": "python2"
  },
  "language_info": {
   "codemirror_mode": {
    "name": "ipython",
    "version": 2
   },
   "file_extension": ".py",
   "mimetype": "text/x-python",
   "name": "python",
   "nbconvert_exporter": "python",
   "pygments_lexer": "ipython2",
   "version": "2.7.13"
  }
 },
 "nbformat": 4,
 "nbformat_minor": 2
}
